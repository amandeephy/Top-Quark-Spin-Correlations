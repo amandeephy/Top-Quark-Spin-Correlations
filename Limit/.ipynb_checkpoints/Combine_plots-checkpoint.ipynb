{
 "cells": [
  {
   "cell_type": "code",
   "execution_count": 1,
   "metadata": {},
   "outputs": [
    {
     "name": "stdout",
     "output_type": "stream",
     "text": [
      "Welcome to JupyROOT 6.22/00\n"
     ]
    }
   ],
   "source": [
    "import ROOT\n",
    "import array\n",
    "import numpy as np\n",
    "from ROOT import TCanvas, TGraphErrors, TGraphAsymmErrors, TGraph, TLegend, gROOT"
   ]
  },
  {
   "cell_type": "code",
   "execution_count": 2,
   "metadata": {
    "collapsed": true
   },
   "outputs": [],
   "source": [
    "ROOT.gROOT.SetBatch(True)\n",
    "# Main function of the plotting step\n",
    "#\n",
    "# The major part of the code below is dedicated to define a nice-looking layout.\n",
    "# The interesting part is the combination of the histograms to the QCD estimation.\n",
    "# There, we take the data histogram from the control region and subtract all known\n",
    "# processes defined in simulation and define the remaining part as QCD. Then,\n",
    "# this shape is extrapolated into the signal region with a scale factor.\n",
    "\n",
    "# Styles\n",
    "ROOT.gStyle.SetOptStat(0)\n",
    "\n",
    "ROOT.gStyle.SetCanvasBorderMode(0)\n",
    "ROOT.gStyle.SetCanvasColor(ROOT.kWhite)\n",
    "ROOT.gStyle.SetCanvasDefH(600)\n",
    "ROOT.gStyle.SetCanvasDefW(600)\n",
    "ROOT.gStyle.SetCanvasDefX(0)\n",
    "ROOT.gStyle.SetCanvasDefY(0)\n",
    "\n",
    "ROOT.gStyle.SetPadTopMargin(0.08)\n",
    "ROOT.gStyle.SetPadBottomMargin(0.13)\n",
    "ROOT.gStyle.SetPadLeftMargin(0.16)\n",
    "ROOT.gStyle.SetPadRightMargin(0.05)\n",
    "\n",
    "ROOT.gStyle.SetHistLineColor(1)\n",
    "ROOT.gStyle.SetHistLineStyle(0)\n",
    "ROOT.gStyle.SetHistLineWidth(1)\n",
    "ROOT.gStyle.SetEndErrorSize(2)\n",
    "ROOT.gStyle.SetMarkerStyle(20)\n",
    "\n",
    "ROOT.gStyle.SetOptTitle(0)\n",
    "ROOT.gStyle.SetTitleFont(42)\n",
    "ROOT.gStyle.SetTitleColor(1)\n",
    "ROOT.gStyle.SetTitleTextColor(1)\n",
    "ROOT.gStyle.SetTitleFillColor(10)\n",
    "ROOT.gStyle.SetTitleFontSize(0.05)\n",
    "\n",
    "ROOT.gStyle.SetTitleColor(1, \"XYZ\")\n",
    "ROOT.gStyle.SetTitleFont(42, \"XYZ\")\n",
    "ROOT.gStyle.SetTitleSize(0.05, \"XYZ\")\n",
    "ROOT.gStyle.SetTitleXOffset(1.00)\n",
    "ROOT.gStyle.SetTitleYOffset(1.60)\n",
    "\n",
    "ROOT.gStyle.SetLabelColor(1, \"XYZ\")\n",
    "ROOT.gStyle.SetLabelFont(42, \"XYZ\")\n",
    "ROOT.gStyle.SetLabelOffset(0.007, \"XYZ\")\n",
    "ROOT.gStyle.SetLabelSize(0.04, \"XYZ\")\n",
    "\n",
    "ROOT.gStyle.SetAxisColor(1, \"XYZ\")\n",
    "ROOT.gStyle.SetStripDecimals(True)\n",
    "ROOT.gStyle.SetTickLength(0.03, \"XYZ\")\n",
    "ROOT.gStyle.SetNdivisions(510, \"XYZ\")\n",
    "ROOT.gStyle.SetPadTickX(1)\n",
    "ROOT.gStyle.SetPadTickY(1)\n",
    "\n",
    "ROOT.gStyle.SetPaperSize(20., 20.)\n",
    "ROOT.gStyle.SetHatchesLineWidth(7)\n",
    "ROOT.gStyle.SetHatchesSpacing(0.05)\n",
    "\n",
    "ROOT.TGaxis.SetExponentOffset(-0.08, 0.01, \"Y\")"
   ]
  },
  {
   "cell_type": "code",
   "execution_count": 3,
   "metadata": {
    "collapsed": true
   },
   "outputs": [],
   "source": [
    "'''\n",
    "minustwosigma = [0.0234634, 0.0586996, 0.0104207]\n",
    "minusonesigma = [0.035078 , 0.0900925, 0.0137334]\n",
    "median        = [0.0550594, 0.145273 , 0.0195743]\n",
    "plusonesigma  = [0.0888908, 0.237445 , 0.0290454]\n",
    "plustwosigma  = [0.14243  , 0.372054 , 0.0419469]\n",
    "\n",
    "massarray     = [175, 182.5, 190]\n",
    "'''\n",
    "\n",
    "minustwosigma = [0.0865, 0.0558, 0.0669]\n",
    "minusonesigma = [0.1170, 0.0754, 0.0904]\n",
    "median        = [0.1678, 0.1082, 0.1297]\n",
    "plusonesigma  = [0.2500, 0.1612, 0.1928]\n",
    "plustwosigma  = [0.3669, 0.2366, 0.2833]\n",
    "\n",
    "massarray     = [227.5, 235, 242.5]"
   ]
  },
  {
   "cell_type": "code",
   "execution_count": 4,
   "metadata": {
    "collapsed": true
   },
   "outputs": [],
   "source": [
    "nullarray        = []\n",
    "susyweighted     = []\n",
    "susyerrorapplied = []\n",
    "\n",
    "scaledminustwosigma = []\n",
    "scaledplustwosigma  = []\n",
    "scaledmedian        = []\n",
    "scaledminusonesigma = []\n",
    "scaledplusonesigma  = []\n",
    "scaledobserveddata  = []"
   ]
  },
  {
   "cell_type": "code",
   "execution_count": 5,
   "metadata": {
    "collapsed": true
   },
   "outputs": [],
   "source": [
    "#susycrosssections = [184.623 , 139.252, 106.194]\n",
    "susycrosssections = [41.1343, 35.2261, 29.7804]\n",
    "relsusyerror      = [0.145821, 0.14547, 0.142033]\n",
    "#susy_emu          = [6.580702, 4.96349, 3.785178]"
   ]
  },
  {
   "cell_type": "code",
   "execution_count": 6,
   "metadata": {
    "collapsed": true
   },
   "outputs": [],
   "source": [
    "for susycrosssection in susycrosssections:\n",
    "   weighted = susycrosssection/5.2232\n",
    "   susyweighted.append(weighted)\n",
    "\n",
    "for i in range(0, len(susycrosssections)):\n",
    "   susyerrorapplied.append(susycrosssections[i]*relsusyerror[i])"
   ]
  },
  {
   "cell_type": "code",
   "execution_count": 7,
   "metadata": {
    "collapsed": true
   },
   "outputs": [],
   "source": [
    "for i in range(0, len(susycrosssections)):\n",
    "   scaledminustwosigma.append(susycrosssections[i]*(median[i]-minustwosigma[i]))\n",
    "   scaledplustwosigma.append(susycrosssections[i]*(plustwosigma[i]-median[i]))\n",
    "   scaledmedian.append(susycrosssections[i]*median[i])\n",
    "   scaledminusonesigma.append(susycrosssections[i]*(median[i]-minusonesigma[i]))\n",
    "   scaledplusonesigma.append(susycrosssections[i]*(plusonesigma[i]-median[i]))"
   ]
  },
  {
   "cell_type": "code",
   "execution_count": 9,
   "metadata": {
    "collapsed": true
   },
   "outputs": [],
   "source": [
    "minustwosigma_ar = np.array( scaledminustwosigma)\n",
    "plustwosigma_ar = np.array( scaledplustwosigma)\n",
    "median_ar       = np.array( scaledmedian)\n",
    "minusonesigma_ar= np.array( scaledminusonesigma)\n",
    "plusonesigma_ar = np.array( scaledplusonesigma)\n",
    "mass_ar         = np.array( massarray)\n",
    "null_ar         = array.array('d', [0])\n",
    "susycrosssections_ar = np.array( susycrosssections)\n",
    "susyerrorapplied_ar  = np.array( susyerrorapplied)\n",
    "#susy_emu_ar          = np.array(susy_emu)"
   ]
  },
  {
   "cell_type": "code",
   "execution_count": 11,
   "metadata": {},
   "outputs": [
    {
     "name": "stderr",
     "output_type": "stream",
     "text": [
      "Warning in <TCanvas::Constructor>: Deleting canvas with same name: c1\n",
      "Info in <TCanvas::Print>: png file SUSY_limit_upper_regions.png has been created\n"
     ]
    }
   ],
   "source": [
    "lumi = 3000\n",
    "n    = len(median)\n",
    "c1   = TCanvas(\"c1\", \"c1\", 800,800);\n",
    "\n",
    "\n",
    "ROOT.gPad.SetLogy()\n",
    "\n",
    "twosigmaband = TGraphAsymmErrors(len(median_ar) ,mass_ar, median_ar, null_ar,null_ar , minustwosigma_ar ,plustwosigma_ar)\n",
    "#twosigmaband.SetFillColor(ROOT.kOrange)\n",
    "twosigmaband.SetFillColor(ROOT.TColor.GetColor(248, 206, 104))\n",
    "twosigmaband.Draw(\"a3\")\n",
    "\n",
    "onesigmaband = TGraphAsymmErrors(len(median_ar) ,mass_ar, median_ar, null_ar, null_ar, minusonesigma_ar ,plusonesigma_ar)\n",
    "#onesigmaband.SetFillColor(ROOT.kGreen)\n",
    "onesigmaband.SetFillColor(ROOT.TColor.GetColor(\"#00A88F\"))\n",
    "onesigmaband.Draw(\"Same3l\")\n",
    "\n",
    "medianline = TGraph(len(median), mass_ar, median_ar)\n",
    "medianline.SetLineStyle(2)\n",
    "medianline.SetLineWidth(2)\n",
    "medianline.Draw(\"same\")\n",
    "\n",
    "NLOpred = TGraph(len(median), mass_ar, susycrosssections_ar)\n",
    "NLOpred.SetLineStyle(9)\n",
    "NLOpred.SetLineWidth(4)\n",
    "#NLOpred.SetLineColor(ROOT.kRed)\n",
    "NLOpred.SetLineColor(ROOT.TColor.GetColor(222, 90, 106))\n",
    "NLOpred.Draw(\"same\")\n",
    "\n",
    "legend = TLegend(0.60,0.60,0.85,0.85)\n",
    "legend.AddEntry(onesigmaband, \"Expected #pm 1 #sigma\", \"f\")\n",
    "legend.AddEntry(twosigmaband, \"Expected #pm 2 #sigma\", \"f\")\n",
    "legend.AddEntry(NLOpred, \"NLO + NLL prediction\",\"l\")\n",
    "legend.SetBorderSize(0)\n",
    "legend.Draw()\n",
    "\n",
    "# Add title\n",
    "latex = ROOT.TLatex()\n",
    "latex.SetNDC()\n",
    "latex.SetTextSize(0.04)\n",
    "latex.SetTextFont(42)\n",
    "latex.DrawLatex(0.67, 0.935, \"3000 fb^{{-1}} (14 TeV)\".format(lumi))\n",
    "latex.DrawLatex(0.16, 0.935, \"#bf{ CMS Projection}\")\n",
    "ROOT.gStyle.SetLegendTextSize(0.03)\n",
    "\n",
    "twosigmaband.GetYaxis().SetTitle(\"#sigma(pp -> #tilde{t}#bar{#tilde{t}}) [pb]\")\n",
    "twosigmaband.GetXaxis().SetTitle(\"M(#tilde{t}) [GeV]\")\n",
    "twosigmaband.GetYaxis().SetTitleOffset(1.5)\n",
    "twosigmaband.GetYaxis().SetRangeUser(1,5000)\n",
    "twosigmaband.GetXaxis().SetRangeUser(227.5,242.5)\n",
    "#twosigmaband.SetTitle(\"Expected Limits M_{#chi_{0}} = 7.5 GeV\")\n",
    "\n",
    "c1.Print(\"SUSY_limit_upper_regions.png\")"
   ]
  },
  {
   "cell_type": "code",
   "execution_count": 115,
   "metadata": {},
   "outputs": [
    {
     "data": {
      "text/plain": [
       "[184.623, 139.252, 106.194]"
      ]
     },
     "execution_count": 115,
     "metadata": {},
     "output_type": "execute_result"
    }
   ],
   "source": [
    "susycrosssections"
   ]
  },
  {
   "cell_type": "code",
   "execution_count": null,
   "metadata": {
    "collapsed": true
   },
   "outputs": [],
   "source": [
    "{\n",
    "  \"175.0\": {\n",
    "    \"exp+1\": 0.0888908,\n",
    "    \"exp+2\": 0.14243,\n",
    "    \"exp-1\": 0.035078,\n",
    "    \"exp-2\": 0.0234634,\n",
    "    \"exp0\" : 0.0550594,\n",
    "    \"obs\"  : 0.0550594\n",
    "    },\n",
    "\n",
    "  \"182.5\": {\n",
    "    \"exp+1\": 0.237445,\n",
    "    \"exp+2\": 0.372054,\n",
    "    \"exp-1\": 0.0900925,\n",
    "    \"exp-2\": 0.0586996,\n",
    "    \"exp0\" : 0.145273,\n",
    "    \"obs\"  : 0.145273\n",
    "    },\n",
    "\n",
    "  \"190.0\": {\n",
    "    \"exp+1\": 0.0290454,\n",
    "    \"exp+2\": 0.0419469,\n",
    "    \"exp-1\": 0.0137334,\n",
    "    \"exp-2\": 0.0104207,\n",
    "    \"exp0\" : 0.0195743,\n",
    "    \"obs\"  : 0.0195743\n",
    "    }\n",
    "}"
   ]
  }
 ],
 "metadata": {
  "kernelspec": {
   "display_name": "Python 3",
   "language": "python",
   "name": "python3"
  },
  "language_info": {
   "codemirror_mode": {
    "name": "ipython",
    "version": 3
   },
   "file_extension": ".py",
   "mimetype": "text/x-python",
   "name": "python",
   "nbconvert_exporter": "python",
   "pygments_lexer": "ipython3",
   "version": "3.6.6"
  }
 },
 "nbformat": 4,
 "nbformat_minor": 4
}
