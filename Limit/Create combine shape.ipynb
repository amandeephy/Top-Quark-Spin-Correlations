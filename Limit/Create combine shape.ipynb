{
 "cells": [
  {
   "cell_type": "code",
   "execution_count": 1,
   "id": "2e2209e1",
   "metadata": {},
   "outputs": [
    {
     "name": "stdout",
     "output_type": "stream",
     "text": [
      "Welcome to JupyROOT 6.22/08\n"
     ]
    }
   ],
   "source": [
    "import ROOT\n",
    "import math\n",
    "import uproot\n",
    "import numpy  as np\n",
    "import pandas as pd\n",
    "import matplotlib.pyplot as plt"
   ]
  },
  {
   "cell_type": "code",
   "execution_count": 23,
   "id": "4d613711",
   "metadata": {},
   "outputs": [],
   "source": [
    "ttbar_pred       = np.loadtxt('DNN_pred/Mstop_242_5_mchi_60_tt_pred.txt')\n",
    "\n",
    "ttbar_ljet_up    = np.loadtxt('Weights/ttbar/JES/JES_ljet_weight_up.txt')\n",
    "ttbar_ljet_down  = np.loadtxt('Weights/ttbar/JES/JES_ljet_weight_down.txt')\n",
    "\n",
    "ttbar_sljet_up   = np.loadtxt('Weights/ttbar/JES/JES_sljet_weight_up.txt')\n",
    "ttbar_sljet_down = np.loadtxt('Weights/ttbar/JES/JES_sljet_weight_down.txt')"
   ]
  },
  {
   "cell_type": "code",
   "execution_count": 24,
   "id": "cc946fcf",
   "metadata": {},
   "outputs": [],
   "source": [
    "tt_JES_fin_up   = np.multiply(ttbar_ljet_up  , ttbar_sljet_up)\n",
    "tt_JES_fin_down = np.multiply(ttbar_ljet_down, ttbar_sljet_down)"
   ]
  },
  {
   "cell_type": "code",
   "execution_count": 25,
   "id": "74e37ce1",
   "metadata": {},
   "outputs": [],
   "source": [
    "SUSY_pred       = np.loadtxt('DNN_pred/Mstop_242_5_mchi_60_SUSY_pred.txt')\n",
    "\n",
    "SUSY_ljet_up    = np.loadtxt('Weights/SUSY/Mstop_242_5/JES/JES_ljet_weight_up.txt')\n",
    "SUSY_ljet_down  = np.loadtxt('Weights/SUSY/Mstop_242_5/JES/JES_ljet_weight_down.txt')\n",
    "\n",
    "SUSY_sljet_up   = np.loadtxt('Weights/SUSY/Mstop_242_5/JES/JES_sljet_weight_up.txt')\n",
    "SUSY_sljet_down = np.loadtxt('Weights/SUSY/Mstop_242_5/JES/JES_sljet_weight_down.txt')"
   ]
  },
  {
   "cell_type": "code",
   "execution_count": 26,
   "id": "dbc1dd50",
   "metadata": {},
   "outputs": [],
   "source": [
    "SUSY_JES_fin_up   = np.multiply(SUSY_ljet_up  , SUSY_sljet_up)\n",
    "SUSY_JES_fin_down = np.multiply(SUSY_ljet_down, SUSY_sljet_down)"
   ]
  },
  {
   "cell_type": "code",
   "execution_count": 27,
   "id": "79ec737d",
   "metadata": {},
   "outputs": [],
   "source": [
    "st_pred       = np.loadtxt('DNN_pred/Mstop_242_5_mchi_60_st_pred.txt')\n",
    "\n",
    "st_ljet_up    = np.loadtxt('Weights/ST/JES/JES_ljet_weight_up.txt')\n",
    "st_ljet_down  = np.loadtxt('Weights/ST/JES/JES_ljet_weight_down.txt')\n",
    "\n",
    "st_sljet_up   = np.loadtxt('Weights/ST/JES/JES_sljet_weight_up.txt')\n",
    "st_sljet_down = np.loadtxt('Weights/ST/JES/JES_sljet_weight_down.txt')"
   ]
  },
  {
   "cell_type": "code",
   "execution_count": 28,
   "id": "9bb7962f",
   "metadata": {},
   "outputs": [],
   "source": [
    "st_JES_fin_up   = np.multiply(st_ljet_up  , st_sljet_up)\n",
    "st_JES_fin_down = np.multiply(st_ljet_down, st_sljet_down)"
   ]
  },
  {
   "cell_type": "code",
   "execution_count": 29,
   "id": "2f7a3d38",
   "metadata": {},
   "outputs": [],
   "source": [
    "vv_pred       = np.loadtxt('DNN_pred/Mstop_242_5_mchi_60_vv_pred.txt')\n",
    "\n",
    "vv_ljet_up    = np.loadtxt('Weights/VV/JES/JES_ljet_weight_up.txt')\n",
    "vv_ljet_down  = np.loadtxt('Weights/VV/JES/JES_ljet_weight_down.txt')\n",
    "\n",
    "vv_sljet_up   = np.loadtxt('Weights/VV/JES/JES_sljet_weight_up.txt')\n",
    "vv_sljet_down = np.loadtxt('Weights/VV/JES/JES_sljet_weight_down.txt')"
   ]
  },
  {
   "cell_type": "code",
   "execution_count": 30,
   "id": "b5ef2a5f",
   "metadata": {},
   "outputs": [],
   "source": [
    "vv_JES_fin_up   = np.multiply(vv_ljet_up  , vv_sljet_up)\n",
    "vv_JES_fin_down = np.multiply(vv_ljet_down, vv_sljet_down)"
   ]
  },
  {
   "cell_type": "code",
   "execution_count": 31,
   "id": "22dc9d2b",
   "metadata": {},
   "outputs": [],
   "source": [
    "SUSY_mask = np.concatenate([np.zeros(15000, dtype=bool), np.ones(len(SUSY_pred), dtype=bool)])\n",
    "tt_mask   = np.concatenate([np.zeros(30000, dtype=bool), np.ones(len(ttbar_pred), dtype=bool)])\n",
    "st_mask   = np.concatenate([np.zeros(5000, dtype=bool), np.ones(len(st_pred), dtype=bool)])\n",
    "vv_mask   = np.concatenate([np.zeros(2000, dtype=bool), np.ones(len(vv_pred), dtype=bool)])"
   ]
  },
  {
   "cell_type": "code",
   "execution_count": 46,
   "id": "11db5273",
   "metadata": {},
   "outputs": [
    {
     "data": {
      "text/plain": [
       "<matplotlib.legend.Legend at 0x7f246f5b4f10>"
      ]
     },
     "execution_count": 46,
     "metadata": {},
     "output_type": "execute_result"
    },
    {
     "data": {
      "image/png": "[encoded data removed]",
      "text/plain": [
       "<Figure size 720x648 with 1 Axes>"
      ]
     },
     "metadata": {
      "needs_background": "light"
     },
     "output_type": "display_data"
    }
   ],
   "source": [
    "fig,ax  = plt.subplots(figsize=(10,9))\n",
    "binning = np.linspace(0, 1, 10)\n",
    "\n",
    "ns1,bins1,patches = ax.hist(st_pred, histtype='step', bins=binning, label = 'Nominal'      , linewidth=2)\n",
    "ns2,bins1,patches = ax.hist(st_pred, histtype='step', bins=binning, label = 'JEC + 1 sigma', linewidth=2 , weights=st_JES_fin_up[st_mask == 1])\n",
    "ns3,bins1,patches = ax.hist(st_pred, histtype='step', bins=binning, label = 'JEC - 1 sigma', linewidth=2 , weights=st_JES_fin_down[st_mask == 1])\n",
    "ax.set_ylabel('Number of events/ 0.314 radian', fontsize=17)\n",
    "ax.set_xlabel('DNN score', fontsize=17)\n",
    "ax.set_xlim(0,1)\n",
    "ax.tick_params(axis=\"y\", labelsize=15)\n",
    "ax.tick_params(axis=\"x\", labelsize=15)\n",
    "ax.legend(prop={'size': 17}, loc='upper right')"
   ]
  },
  {
   "cell_type": "code",
   "execution_count": 35,
   "id": "94ebc134",
   "metadata": {},
   "outputs": [
    {
     "name": "stderr",
     "output_type": "stream",
     "text": [
      "Warning in <TROOT::Append>: Replacing existing TH1: ttbar (Potential memory leak).\n",
      "Warning in <TROOT::Append>: Replacing existing TH1: ttbar_jesUp (Potential memory leak).\n",
      "Warning in <TROOT::Append>: Replacing existing TH1: ttbar_jesDown (Potential memory leak).\n"
     ]
    }
   ],
   "source": [
    "h_ttbar_jes      = ROOT.TH1F('ttbar'        , 'ttbar'        , 15, 0 , 1)\n",
    "h_ttbar_jes_up   = ROOT.TH1F('ttbar_jesUp'  , 'ttbar_jesUp'  , 15, 0 , 1)\n",
    "h_ttbar_jes_down = ROOT.TH1F('ttbar_jesDown', 'ttbar_jesDown', 15, 0 , 1)"
   ]
  },
  {
   "cell_type": "code",
   "execution_count": 36,
   "id": "4bbdbc97",
   "metadata": {},
   "outputs": [
    {
     "name": "stderr",
     "output_type": "stream",
     "text": [
      "Warning in <TROOT::Append>: Replacing existing TH1: SUSY (Potential memory leak).\n",
      "Warning in <TROOT::Append>: Replacing existing TH1: SUSY_jesUp (Potential memory leak).\n",
      "Warning in <TROOT::Append>: Replacing existing TH1: SUSY_jesDown (Potential memory leak).\n"
     ]
    }
   ],
   "source": [
    "h_SUSY_jes      = ROOT.TH1F('SUSY'        , 'SUSY'        , 15, 0 , 1)\n",
    "h_SUSY_jes_up   = ROOT.TH1F('SUSY_jesUp'  , 'SUSY_jesUp'  , 15, 0 , 1)\n",
    "h_SUSY_jes_down = ROOT.TH1F('SUSY_jesDown', 'SUSY_jesDown', 15, 0 , 1)"
   ]
  },
  {
   "cell_type": "code",
   "execution_count": 37,
   "id": "5ee138a2",
   "metadata": {},
   "outputs": [
    {
     "name": "stderr",
     "output_type": "stream",
     "text": [
      "Warning in <TROOT::Append>: Replacing existing TH1: st (Potential memory leak).\n",
      "Warning in <TROOT::Append>: Replacing existing TH1: st_jesUp (Potential memory leak).\n",
      "Warning in <TROOT::Append>: Replacing existing TH1: st_jesDown (Potential memory leak).\n"
     ]
    }
   ],
   "source": [
    "h_st_jes       = ROOT.TH1F('st'        , 'st'        , 15, 0 , 1)\n",
    "h_st_jes_up    = ROOT.TH1F('st_jesUp'  , 'st_jesUp'  , 15, 0 , 1)\n",
    "h_st_jes_down  = ROOT.TH1F('st_jesDown', 'st_jesDown', 15, 0 , 1)"
   ]
  },
  {
   "cell_type": "code",
   "execution_count": 38,
   "id": "7da02051",
   "metadata": {},
   "outputs": [
    {
     "name": "stderr",
     "output_type": "stream",
     "text": [
      "Warning in <TROOT::Append>: Replacing existing TH1: vv (Potential memory leak).\n",
      "Warning in <TROOT::Append>: Replacing existing TH1: vv_jesUp (Potential memory leak).\n",
      "Warning in <TROOT::Append>: Replacing existing TH1: vv_jesDown (Potential memory leak).\n"
     ]
    }
   ],
   "source": [
    "h_vv_jes       = ROOT.TH1F('vv'        , 'vv'        , 15, 0 , 1)\n",
    "h_vv_jes_up    = ROOT.TH1F('vv_jesUp'  , 'vv_jesUp'  , 15, 0 , 1)\n",
    "h_vv_jes_down  = ROOT.TH1F('vv_jesDown', 'vv_jesDown', 15, 0 , 1)"
   ]
  },
  {
   "cell_type": "code",
   "execution_count": 39,
   "id": "3a0a74fa",
   "metadata": {},
   "outputs": [],
   "source": [
    "# This takes into account \n",
    "# events that were used for training\n",
    "\n",
    "SUSY_train= 15000\n",
    "tt_train  = 30000\n",
    "st_train  = 5000\n",
    "sat_train = 5000\n",
    "vv_train  = 2000\n",
    "\n",
    "tt_train_sf   = (tt_train  + len(ttbar_pred))/ len(ttbar_pred)\n",
    "SUSY_train_sf = (SUSY_train + len(SUSY_pred))/ len(SUSY_pred)\n",
    "st_train_sf   = (st_train  + len(st_pred))   / len(st_pred)\n",
    "vv_train_sf   = (vv_train  + len(vv_pred))   / len(vv_pred)"
   ]
  },
  {
   "cell_type": "code",
   "execution_count": 40,
   "id": "7d6f70ff",
   "metadata": {},
   "outputs": [],
   "source": [
    "opfile = ROOT.TFile('Mstop_242_5_shape.root', 'recreate')"
   ]
  },
  {
   "cell_type": "code",
   "execution_count": 41,
   "id": "065d9216",
   "metadata": {},
   "outputs": [],
   "source": [
    "# Fill in the tops\n",
    "w_up   = tt_JES_fin_up[tt_mask == 1]\n",
    "w_down = tt_JES_fin_down[tt_mask == 1]\n",
    "\n",
    "for i in range(len(ttbar_pred)):\n",
    "    h_ttbar_jes.Fill(ttbar_pred[i])\n",
    "    h_ttbar_jes_up.Fill(ttbar_pred[i]  , w_up[i])\n",
    "    h_ttbar_jes_down.Fill(ttbar_pred[i], w_down[i])\n",
    "\n",
    "# Lumi scaling \n",
    "\n",
    "scale_tt  = 17.994815 * tt_train_sf\n",
    "h_ttbar_jes.Scale(scale_tt)\n",
    "h_ttbar_jes_up.Scale(scale_tt)\n",
    "h_ttbar_jes_down.Scale(scale_tt)"
   ]
  },
  {
   "cell_type": "code",
   "execution_count": 42,
   "id": "5ee79c7a",
   "metadata": {},
   "outputs": [],
   "source": [
    "# SUSY\n",
    "# Fill in the SUSY \n",
    "sus_w_up   = SUSY_JES_fin_up[SUSY_mask == 1]\n",
    "sus_w_down = SUSY_JES_fin_down[SUSY_mask == 1]\n",
    "\n",
    "for i in range(len(SUSY_pred)):\n",
    "    h_SUSY_jes.Fill(SUSY_pred[i])\n",
    "    h_SUSY_jes_up.Fill(SUSY_pred[i]  , sus_w_up[i])\n",
    "    h_SUSY_jes_down.Fill(SUSY_pred[i], sus_w_down[i])\n",
    "\n",
    "# Lumi scaling\n",
    "\n",
    "scale_SUSY= 14.389516 * SUSY_train_sf\n",
    "h_SUSY_jes.Scale(scale_SUSY)\n",
    "h_SUSY_jes_up.Scale(scale_SUSY)\n",
    "h_SUSY_jes_down.Scale(scale_SUSY)"
   ]
  },
  {
   "cell_type": "code",
   "execution_count": 43,
   "id": "77422432",
   "metadata": {},
   "outputs": [],
   "source": [
    "# Fill in the single top\n",
    "st_w_up   = st_JES_fin_up[st_mask == 1]\n",
    "st_w_down = st_JES_fin_down[st_mask == 1]\n",
    "\n",
    "for i in range(len(st_pred)):\n",
    "    h_st_jes.Fill(st_pred[i])\n",
    "    h_st_jes_up.Fill(st_pred[i]  , st_w_up[i])\n",
    "    h_st_jes_down.Fill(st_pred[i], st_w_down[i])\n",
    "\n",
    "# Lumi scaling\n",
    "scale_st  = 8.706901  * st_train_sf * 2 # For antitop\n",
    "h_st_jes.Scale(scale_st)\n",
    "h_st_jes_up.Scale(scale_st)\n",
    "h_st_jes_down.Scale(scale_st)"
   ]
  },
  {
   "cell_type": "code",
   "execution_count": 44,
   "id": "ac63ccb9",
   "metadata": {},
   "outputs": [],
   "source": [
    "# And finally the diboson\n",
    "vv_w_up   = vv_JES_fin_up[vv_mask == 1]\n",
    "vv_w_down = vv_JES_fin_down[vv_mask == 1]\n",
    "\n",
    "for i in range(len(vv_pred)):\n",
    "    h_vv_jes.Fill(vv_pred[i])\n",
    "    h_vv_jes_up.Fill(vv_pred[i]  , vv_w_up[i])\n",
    "    h_vv_jes_down.Fill(vv_pred[i], vv_w_down[i])\n",
    "\n",
    "# Lumi scaling\n",
    "scale_vv  = 2.580743  * vv_train_sf\n",
    "h_vv_jes.Scale(scale_vv)\n",
    "h_vv_jes_up.Scale(scale_vv)\n",
    "h_vv_jes_down.Scale(scale_vv)"
   ]
  },
  {
   "cell_type": "code",
   "execution_count": 45,
   "id": "0f0d168e",
   "metadata": {},
   "outputs": [],
   "source": [
    "h_ttbar_jes.Write()\n",
    "h_ttbar_jes_up.Write()\n",
    "h_ttbar_jes_down.Write()\n",
    "\n",
    "h_SUSY_jes.Write()\n",
    "h_SUSY_jes_up.Write()\n",
    "h_SUSY_jes_down.Write()\n",
    "\n",
    "h_st_jes.Write()\n",
    "h_st_jes_up.Write()\n",
    "h_st_jes_down.Write()\n",
    "\n",
    "h_vv_jes.Write()\n",
    "h_vv_jes_up.Write()\n",
    "h_vv_jes_down.Write()\n",
    "\n",
    "opfile.Close()"
   ]
  },
  {
   "cell_type": "code",
   "execution_count": null,
   "id": "91a73750",
   "metadata": {},
   "outputs": [],
   "source": []
  }
 ],
 "metadata": {
  "kernelspec": {
   "display_name": "Python 3",
   "language": "python",
   "name": "python3"
  },
  "language_info": {
   "codemirror_mode": {
    "name": "ipython",
    "version": 3
   },
   "file_extension": ".py",
   "mimetype": "text/x-python",
   "name": "python",
   "nbconvert_exporter": "python",
   "pygments_lexer": "ipython3",
   "version": "3.8.8"
  }
 },
 "nbformat": 4,
 "nbformat_minor": 5
}
