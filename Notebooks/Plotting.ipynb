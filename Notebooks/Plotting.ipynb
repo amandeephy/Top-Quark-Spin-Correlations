{
 "cells": [
  {
   "cell_type": "code",
   "execution_count": 1,
   "metadata": {},
   "outputs": [],
   "source": [
    "import numpy as np\n",
    "import matplotlib.pyplot as plt"
   ]
  },
  {
   "cell_type": "code",
   "execution_count": 2,
   "metadata": {},
   "outputs": [],
   "source": [
    "fig_style = {\n",
    "    'figsize': (5, 5),\n",
    "}\n",
    "\n",
    "ratio_fig_style = {\n",
    "    'figsize': (5, 5),\n",
    "    'gridspec_kw': {'height_ratios': (3, 1)},\n",
    "}\n",
    "\n",
    "stack_style = {\n",
    "    'edgecolor': (0, 0, 0, 0.5),\n",
    "}\n",
    "\n",
    "hatch_style = {\n",
    "    'facecolor': 'none',\n",
    "    'edgecolor': (0, 0, 0, 0.5),\n",
    "    'linewidth': 0,\n",
    "    'hatch': '///',\n",
    "}\n",
    "\n",
    "errorbar_style = {\n",
    "    'linestyle': 'none',\n",
    "    'marker': '.',\n",
    "    'elinewidth': 1,\n",
    "    'capsize': 1,\n",
    "    'color': 'k',\n",
    "}\n",
    "\n",
    "shaded_style = {\n",
    "    'facecolor': (0,0,0,0.3),\n",
    "    'linewidth': 0\n",
    "}"
   ]
  },
  {
   "cell_type": "code",
   "execution_count": 3,
   "metadata": {},
   "outputs": [],
   "source": [
    "x_signal = np.random.normal(loc=6, scale=1, size=100)\n",
    "weight_signal = 0.3\n",
    "\n",
    "x_bkg1 = np.random.exponential(scale=3, size=2000)\n",
    "weight_bkg1 = 0.2\n",
    "\n",
    "x_bkg2 = np.random.exponential(scale=1, size=1000)\n",
    "weight_bkg2 = 0.1\n",
    "\n",
    "bin_edges = np.linspace(0., 15., 16)\n",
    "\n",
    "pdf_signal = np.histogram(x_signal, bins=bin_edges)[0]*weight_signal\n",
    "pdf_bkg1   = np.histogram(x_bkg1,   bins=bin_edges)[0]*weight_bkg1\n",
    "pdf_bkg2   = np.histogram(x_bkg2,   bins=bin_edges)[0]*weight_bkg2\n",
    "\n",
    "# Usually sumw2 would be part of the histogram filling package\n",
    "sumw2_bkg1 = pdf_bkg1*weight_bkg1\n",
    "sumw2_bkg2 = pdf_bkg2*weight_bkg2\n",
    "sumw2_sig = pdf_signal*weight_signal\n",
    "\n",
    "\n",
    "sum_bkg = pdf_bkg1 + pdf_bkg2\n",
    "sumw2_bkg = sumw2_bkg1 + sumw2_bkg2\n",
    "\n",
    "observed_pdf = np.random.poisson(sum_bkg + pdf_signal)"
   ]
  },
  {
   "cell_type": "code",
   "execution_count": 4,
   "metadata": {},
   "outputs": [
    {
     "data": {
      "text/plain": [
       "Text(0, 0.5, 'Counts')"
      ]
     },
     "execution_count": 4,
     "metadata": {},
     "output_type": "execute_result"
    },
    {
     "data": {
      "image/png": "[encoded data removed]",
      "text/plain": [
       "<Figure size 360x360 with 1 Axes>"
      ]
     },
     "metadata": {
      "needs_background": "light"
     },
     "output_type": "display_data"
    }
   ],
   "source": [
    "fig, ax = plt.subplots(**fig_style)\n",
    "\n",
    "bin_centers = (bin_edges[:-1] + bin_edges[1:])/2\n",
    "\n",
    "# To draw both the vertical error bar as well as a stairstep through\n",
    "# the bin content we have to make two separate draw calls.  \n",
    "line1, = ax.step(x=bin_edges,\n",
    "                 # Depending on the 'where' option ('pre' or 'post'), the last bin \n",
    "                 # needs be concatenated on one side, so that the edge bin is drawn\n",
    "                 y=np.hstack([sum_bkg, sum_bkg[-1]]),\n",
    "                 where='post'\n",
    "                )\n",
    "err1 = ax.errorbar(x=bin_centers,\n",
    "                   y=sum_bkg,\n",
    "                   yerr=np.sqrt(sumw2_bkg),\n",
    "                   # By default, a line connecting the errorbars is drawn, turn it off\n",
    "                   linestyle='none',\n",
    "                   # Grab the last used color, so that the objects share the same color\n",
    "                   color=line1.get_color()\n",
    "                  )\n",
    "\n",
    "line2, = ax.step(x=bin_edges, y=np.hstack([pdf_signal, pdf_signal[-1]]), where='post')\n",
    "err2 = ax.errorbar(x=bin_centers, y=pdf_signal, yerr=np.sqrt(sumw2_sig),\n",
    "            linestyle='none', color=line2.get_color()\n",
    "           )\n",
    "\n",
    "# matplotlib defaults to having a margin around the visible plots, this removes it\n",
    "ax.autoscale(axis='x', tight=True)\n",
    "ax.set_ylim(0, None)\n",
    "\n",
    "# A tuple can be passed to plt.legend to group two items together\n",
    "# (and hence overlay their legend marker styles)\n",
    "ax.legend([(line1, err1), (line2, err2)], ['Background', 'Signal'])\n",
    "\n",
    "ax.set_xlabel('x variable')\n",
    "ax.set_ylabel('Counts')"
   ]
  },
  {
   "cell_type": "code",
   "execution_count": 5,
   "metadata": {},
   "outputs": [
    {
     "data": {
      "image/png": "[encoded data removed]",
      "text/plain": [
       "<Figure size 360x360 with 2 Axes>"
      ]
     },
     "metadata": {
      "needs_background": "light"
     },
     "output_type": "display_data"
    }
   ],
   "source": [
    "fig, (ax, rax) = plt.subplots(2, 1, sharex=True, **ratio_fig_style)\n",
    "fig.subplots_adjust(hspace=.07)  # this controls the margin between the two axes\n",
    "\n",
    "# Stack up the various contributions\n",
    "labels = ['Background 1', 'Background 2', 'Signal']\n",
    "sumw_stack = np.vstack([pdf_bkg1, pdf_bkg2, pdf_signal])\n",
    "# depending on step option ('pre' or 'post'), the last bin\n",
    "# needs be concatenated on one side, so that the edge bin is drawn\n",
    "sumw_stack = np.hstack([sumw_stack, sumw_stack[:,-1:]])\n",
    "ax.stackplot(bin_edges, sumw_stack, labels=labels, step='post', **stack_style)\n",
    "\n",
    "# Overlay an uncertainty hatch\n",
    "sumw_total = sumw_stack.sum(axis=0)\n",
    "unc = np.sqrt(sumw2_sig + sumw2_bkg)\n",
    "unc = np.hstack([unc, unc[-1]])\n",
    "ax.fill_between(x=bin_edges, y1=sumw_total - unc, y2=sumw_total + unc,\n",
    "                label='Stat. Unc.', step='post', **hatch_style\n",
    "               )\n",
    "\n",
    "# Draw the observation\n",
    "ax.errorbar(x=bin_centers, y=observed_pdf, yerr=np.sqrt(observed_pdf),\n",
    "            label='Pseudodata', **errorbar_style\n",
    "            )\n",
    "\n",
    "ax.set_ylim(0, None)\n",
    "ax.set_ylabel('Counts')\n",
    "ax.legend()\n",
    "\n",
    "# Draw some sort of ratio, keeping the two uncertainty sources\n",
    "# separate rather than combining (as per tradition)\n",
    "rax.fill_between(x=bin_edges, y1=1 - unc/sumw_total, y2=1 + unc/sumw_total, step='post', **shaded_style)\n",
    "sumw_total = sumw_total[:-1]  # Take away that copy of the last bin\n",
    "rax.errorbar(x=bin_centers, y=observed_pdf/sumw_total, yerr=np.sqrt(observed_pdf)/sumw_total, **errorbar_style)\n",
    "\n",
    "rax.set_ylim(0, 2)\n",
    "rax.set_ylabel('Obs. / Pred.')\n",
    "# setting the x label on the stack pad clashes with the ratio axes frame\n",
    "rax.set_xlabel('x variable')\n",
    "# we have to autoscale in the ratio axis after drawing all items\n",
    "rax.autoscale(axis='x', tight=True)"
   ]
  },
  {
   "cell_type": "code",
   "execution_count": null,
   "metadata": {},
   "outputs": [],
   "source": []
  }
 ],
 "metadata": {
  "kernelspec": {
   "display_name": "Python 3",
   "language": "python",
   "name": "python3"
  },
  "language_info": {
   "codemirror_mode": {
    "name": "ipython",
    "version": 3
   },
   "file_extension": ".py",
   "mimetype": "text/x-python",
   "name": "python",
   "nbconvert_exporter": "python",
   "pygments_lexer": "ipython3",
   "version": "3.7.3"
  }
 },
 "nbformat": 4,
 "nbformat_minor": 2
}
