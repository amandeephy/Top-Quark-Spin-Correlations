{
 "cells": [
  {
   "cell_type": "code",
   "execution_count": 2,
   "metadata": {},
   "outputs": [
    {
     "name": "stdout",
     "output_type": "stream",
     "text": [
      "Welcome to JupyROOT 6.22/00\n"
     ]
    }
   ],
   "source": [
    "import ROOT\n",
    "import uproot\n",
    "import numpy  as np\n",
    "import pandas as pd"
   ]
  },
  {
   "cell_type": "code",
   "execution_count": 3,
   "metadata": {},
   "outputs": [],
   "source": [
    "ROOT.gROOT.SetBatch(True)\n",
    "\n",
    "\n",
    "# Declare a human-readable label for each variable\n",
    "labels = {\n",
    "        \"pt_1\": \"Muon p_{T} / GeV\",\n",
    "        \"pt_2\": \"Tau p_{T} / GeV\",\n",
    "        \"eta_1\": \"Muon #eta\",\n",
    "        \"eta_2\": \"Tau #eta\",\n",
    "        \"phi_1\": \"Muon #phi\",\n",
    "        \"phi_2\": \"Tau #phi\",\n",
    "        \"pt_met\": \"Missing p_{T} / GeV\",\n",
    "        \"phi_met\": \"Missing p_{T} (#phi)\",\n",
    "        \"q_1\": \"Muon charge\",\n",
    "        \"q_2\": \"Tau charge\",\n",
    "        \"iso_1\": \"Muon isolation\",\n",
    "        \"iso_2\": \"Tau isolation\",\n",
    "        \"m_1\": \"Muon mass / GeV\",\n",
    "        \"m_2\": \"Tau mass / GeV\",\n",
    "        \"mt_1\": \"Muon transverse mass / GeV\",\n",
    "        \"mt_2\": \"Tau transverse mass / GeV\",\n",
    "        \"dm_2\": \"Tau decay mode\",\n",
    "        \"m_vis\": \"Visible di-tau mass / GeV\",\n",
    "        \"pt_vis\": \"Visible di-tau p_{T} / GeV\",\n",
    "        \"mjj\": \"Di-jet mass / GeV\",\n",
    "        \"ptjj\": \"Di-jet p_{T} / GeV\",\n",
    "        \"jdeta\": \"Di-jet #Delta#eta\",\n",
    "        \"jpt_1\": \"Leading jet p_{T} / GeV\",\n",
    "        \"jpt_2\": \"Trailing jet p_{T} / GeV\",\n",
    "        \"jeta_1\": \"Leading jet #eta\",\n",
    "        \"jeta_2\": \"Trailing jet #eta\",\n",
    "        \"jphi_1\": \"Leading jet #phi\",\n",
    "        \"jphi_2\": \"Trailing jet #phi\",\n",
    "        \"jm_1\": \"Leading jet mass / GeV\",\n",
    "        \"jm_2\": \"Trailing jet mass / GeV\",\n",
    "        \"jbtag_1\": \"Leading jet b-tag / GeV\",\n",
    "        \"jbtag_2\": \"Trailing jet b-tag / GeV\",\n",
    "        \"npv\": \"Number of primary vertices\",\n",
    "        \"njets\": \"Number of jets\",\n",
    "        }\n",
    "\n",
    "\n",
    "# Specify the color for each process\n",
    "colors = {\n",
    "        \"ggH\": ROOT.TColor.GetColor(\"#BF2229\"),\n",
    "        \"qqH\": ROOT.TColor.GetColor(\"#00A88F\"),\n",
    "        \"TT\": ROOT.TColor.GetColor(155, 152, 204),\n",
    "        \"W\": ROOT.TColor.GetColor(222, 90, 106),\n",
    "        \"QCD\":  ROOT.TColor.GetColor(250, 202, 255),\n",
    "        \"ZLL\": ROOT.TColor.GetColor(100, 192, 232),\n",
    "        \"ZTT\": ROOT.TColor.GetColor(248, 206, 104),\n",
    "        }\n",
    "\n",
    "\n",
    "# Retrieve a histogram from the input file based on the process and the variable\n",
    "# name\n",
    "def getHistogram(tfile, name, variable, tag=\"\"):\n",
    "    name = \"{}_{}{}\".format(name, variable, tag)\n",
    "    h = tfile.Get(name)\n",
    "    if not h:\n",
    "        raise Exception(\"Failed to load histogram {}.\".format(name))\n",
    "    return h"
   ]
  },
  {
   "cell_type": "code",
   "execution_count": 4,
   "metadata": {},
   "outputs": [],
   "source": [
    "# Main function of the plotting step\n",
    "#\n",
    "# The major part of the code below is dedicated to define a nice-looking layout.\n",
    "# The interesting part is the combination of the histograms to the QCD estimation.\n",
    "# There, we take the data histogram from the control region and subtract all known\n",
    "# processes defined in simulation and define the remaining part as QCD. Then,\n",
    "# this shape is extrapolated into the signal region with a scale factor.\n",
    "\n",
    "# Styles\n",
    "ROOT.gStyle.SetOptStat(0)\n",
    "\n",
    "ROOT.gStyle.SetCanvasBorderMode(0)\n",
    "ROOT.gStyle.SetCanvasColor(ROOT.kWhite)\n",
    "ROOT.gStyle.SetCanvasDefH(600)\n",
    "ROOT.gStyle.SetCanvasDefW(600)\n",
    "ROOT.gStyle.SetCanvasDefX(0)\n",
    "ROOT.gStyle.SetCanvasDefY(0)\n",
    "\n",
    "ROOT.gStyle.SetPadTopMargin(0.08)\n",
    "ROOT.gStyle.SetPadBottomMargin(0.13)\n",
    "ROOT.gStyle.SetPadLeftMargin(0.16)\n",
    "ROOT.gStyle.SetPadRightMargin(0.05)\n",
    "\n",
    "ROOT.gStyle.SetHistLineColor(1)\n",
    "ROOT.gStyle.SetHistLineStyle(0)\n",
    "ROOT.gStyle.SetHistLineWidth(1)\n",
    "ROOT.gStyle.SetEndErrorSize(2)\n",
    "ROOT.gStyle.SetMarkerStyle(20)\n",
    "\n",
    "ROOT.gStyle.SetOptTitle(0)\n",
    "ROOT.gStyle.SetTitleFont(42)\n",
    "ROOT.gStyle.SetTitleColor(1)\n",
    "ROOT.gStyle.SetTitleTextColor(1)\n",
    "ROOT.gStyle.SetTitleFillColor(10)\n",
    "ROOT.gStyle.SetTitleFontSize(0.05)\n",
    "\n",
    "ROOT.gStyle.SetTitleColor(1, \"XYZ\")\n",
    "ROOT.gStyle.SetTitleFont(42, \"XYZ\")\n",
    "ROOT.gStyle.SetTitleSize(0.05, \"XYZ\")\n",
    "ROOT.gStyle.SetTitleXOffset(1.00)\n",
    "ROOT.gStyle.SetTitleYOffset(1.60)\n",
    "\n",
    "ROOT.gStyle.SetLabelColor(1, \"XYZ\")\n",
    "ROOT.gStyle.SetLabelFont(42, \"XYZ\")\n",
    "ROOT.gStyle.SetLabelOffset(0.007, \"XYZ\")\n",
    "ROOT.gStyle.SetLabelSize(0.04, \"XYZ\")\n",
    "\n",
    "ROOT.gStyle.SetAxisColor(1, \"XYZ\")\n",
    "ROOT.gStyle.SetStripDecimals(True)\n",
    "ROOT.gStyle.SetTickLength(0.03, \"XYZ\")\n",
    "ROOT.gStyle.SetNdivisions(510, \"XYZ\")\n",
    "ROOT.gStyle.SetPadTickX(1)\n",
    "ROOT.gStyle.SetPadTickY(1)\n",
    "\n",
    "ROOT.gStyle.SetPaperSize(20., 20.)\n",
    "ROOT.gStyle.SetHatchesLineWidth(5)\n",
    "ROOT.gStyle.SetHatchesSpacing(0.05)\n",
    "\n",
    "ROOT.TGaxis.SetExponentOffset(-0.08, 0.01, \"Y\")"
   ]
  },
  {
   "cell_type": "code",
   "execution_count": 6,
   "metadata": {},
   "outputs": [],
   "source": [
    "#Loading in the required variables\n",
    "sig_df = pd.read_pickle('../DNN_ips/SUSY_Mstop_175_mchi_7_5.pkl')\n",
    "tt_df  = pd.read_pickle('../DNN_ips/ttbar.pkl')\n",
    "vv_df  = pd.read_pickle('../DNN_ips/VV.pkl')\n",
    "st_df  = pd.read_pickle('../DNN_ips/Single_top.pkl')\n",
    "sat_df = pd.read_pickle('../DNN_ips/Single_antitop.pkl')"
   ]
  },
  {
   "cell_type": "code",
   "execution_count": 8,
   "metadata": {},
   "outputs": [],
   "source": [
    "vv_lep_pt    = np.array(vv_df['sublepton_pt'])\n",
    "tt_lep_pt    = np.array(tt_df['sublepton_pt'])\n",
    "st_lep_pt    = np.array(st_df['sublepton_pt'])\n",
    "sat_lep_pt   = np.array(sat_df['sublepton_pt'])\n",
    "sig_lep_pt   = np.array(sig_df['sublepton_pt'])"
   ]
  },
  {
   "cell_type": "code",
   "execution_count": 17,
   "metadata": {},
   "outputs": [
    {
     "name": "stderr",
     "output_type": "stream",
     "text": [
      "Warning in <TROOT::Append>: Replacing existing TH1: vv_l_pt (Potential memory leak).\n",
      "Warning in <TROOT::Append>: Replacing existing TH1: st_l_pt (Potential memory leak).\n",
      "Warning in <TROOT::Append>: Replacing existing TH1: sat_l_pt (Potential memory leak).\n",
      "Warning in <TROOT::Append>: Replacing existing TH1: tt_l_pt (Potential memory leak).\n",
      "Warning in <TROOT::Append>: Replacing existing TH1: SUSY_l_pt (Potential memory leak).\n"
     ]
    }
   ],
   "source": [
    "xlim  = 300\n",
    "nbins = 25\n",
    "\n",
    "h_vv_l_pt   = ROOT.TH1F('vv_l_pt'  , 'vv_l_pt'  , nbins, 0, xlim)\n",
    "h_st_l_pt   = ROOT.TH1F('st_l_pt'  , 'st_l_pt'  , nbins, 0, xlim)\n",
    "h_sat_l_pt  = ROOT.TH1F('sat_l_pt' , 'sat_l_pt' , nbins, 0, xlim)\n",
    "h_tt_l_pt   = ROOT.TH1F('tt_l_pt'  , 'tt_l_pt'  , nbins, 0, xlim)\n",
    "h_SUSY_l_pt = ROOT.TH1F('SUSY_l_pt', 'SUSY_l_pt', nbins, 0, xlim)"
   ]
  },
  {
   "cell_type": "code",
   "execution_count": 18,
   "metadata": {},
   "outputs": [],
   "source": [
    "for pt in vv_lep_pt :\n",
    "    if(pt > xlim) :\n",
    "        h_vv_l_pt.Fill(xlim-1)\n",
    "    else :\n",
    "        h_vv_l_pt.Fill(pt)"
   ]
  },
  {
   "cell_type": "code",
   "execution_count": 19,
   "metadata": {},
   "outputs": [],
   "source": [
    "for pt in tt_lep_pt :\n",
    "    if(pt > xlim) :\n",
    "        h_tt_l_pt.Fill(xlim -1)\n",
    "    else :\n",
    "        h_tt_l_pt.Fill(pt)"
   ]
  },
  {
   "cell_type": "code",
   "execution_count": 20,
   "metadata": {},
   "outputs": [],
   "source": [
    "for pt in st_lep_pt :\n",
    "    if(pt > xlim) :\n",
    "        h_st_l_pt.Fill(xlim -1)\n",
    "    else :\n",
    "        h_st_l_pt.Fill(pt)"
   ]
  },
  {
   "cell_type": "code",
   "execution_count": 21,
   "metadata": {},
   "outputs": [],
   "source": [
    "for pt in sat_lep_pt :\n",
    "    if(pt > xlim) :\n",
    "        h_sat_l_pt.Fill(xlim -1)\n",
    "    else :\n",
    "        h_sat_l_pt.Fill(pt)"
   ]
  },
  {
   "cell_type": "code",
   "execution_count": 22,
   "metadata": {},
   "outputs": [],
   "source": [
    "for pt in sig_lep_pt :\n",
    "    if(pt > xlim) :\n",
    "        h_SUSY_l_pt.Fill(xlim -1)\n",
    "    else :\n",
    "        h_SUSY_l_pt.Fill(pt)"
   ]
  },
  {
   "cell_type": "code",
   "execution_count": 23,
   "metadata": {},
   "outputs": [],
   "source": [
    "# Draw histograms\n",
    "lumi      = 3000\n",
    "scale_tt  = 17.994815\n",
    "h_tt_l_pt.Scale(scale_tt)\n",
    "\n",
    "scale_l_pt  = 8.706901\n",
    "h_st_l_pt.Scale(scale_l_pt)\n",
    "\n",
    "scale_sat = 8.706901\n",
    "h_sat_l_pt.Scale(scale_sat)\n",
    "\n",
    "scale_vv  = 2.580743\n",
    "h_vv_l_pt.Scale(scale_vv)\n",
    "\n",
    "scale_SUSY= 14.389516\n",
    "h_SUSY_l_pt.Scale(scale_SUSY)"
   ]
  },
  {
   "cell_type": "code",
   "execution_count": 25,
   "metadata": {},
   "outputs": [
    {
     "name": "stderr",
     "output_type": "stream",
     "text": [
      "Info in <TCanvas::Print>: pdf file slpt_w_of_bin.pdf has been created\n"
     ]
    }
   ],
   "source": [
    "h_SUSY_l_pt.SetLineColor(colors[\"qqH\"])\n",
    "h_SUSY_l_pt.SetLineWidth(3)\n",
    "\n",
    "for x, l in [(h_tt_l_pt, \"W\"), (h_st_l_pt, \"ZTT\"), (h_sat_l_pt, \"ZTT\"), (h_vv_l_pt, \"ZLL\")]:\n",
    "    x.SetLineWidth(0)\n",
    "    x.SetFillColor(colors[l])\n",
    "\n",
    "stack = ROOT.THStack(\"\", \"\")\n",
    "for x in [h_vv_l_pt, h_sat_l_pt, h_st_l_pt, h_tt_l_pt, h_SUSY_l_pt]:\n",
    "    stack.Add(x)\n",
    "\n",
    "c = ROOT.TCanvas(\"\", \"\", 800, 800)\n",
    "stack.Draw(\"hist\")\n",
    "\n",
    "stack.GetXaxis().SetTitle('Sub-leading lepton p_{T}[GeV]')\n",
    "stack.GetYaxis().SetTitle(\"N_{Events} / bin\")\n",
    "stack.SetMaximum(stack.GetMaximum() * 1.1)\n",
    "stack.SetMinimum(100.0)\n",
    "#ROOT.gPad.SetLogy()\n",
    "\n",
    "# Add legend\n",
    "legend = ROOT.TLegend(0.4, 0.73, 0.80, 0.88)\n",
    "legend.SetNColumns(1)\n",
    "legend.AddEntry(h_tt_l_pt , \"t#bar{t}\", \"f\")\n",
    "legend.AddEntry(h_st_l_pt , \"Single Top\", \"f\")\n",
    "legend.AddEntry(h_vv_l_pt , \"Diboson\", \"f\")\n",
    "legend.AddEntry(h_SUSY_l_pt,\"SUSY m_{ #tilde{t}} = 175 GeV m_{#chi0} = 7.5 GeV\", \"l\")\n",
    "legend.SetBorderSize(0)\n",
    "legend.Draw()\n",
    "\n",
    "# Add title\n",
    "latex = ROOT.TLatex()\n",
    "latex.SetNDC()\n",
    "latex.SetTextSize(0.04)\n",
    "latex.SetTextFont(42)\n",
    "latex.DrawLatex(0.67, 0.935, \"3000 fb^{{-1}} (14 TeV)\".format(lumi))\n",
    "latex.DrawLatex(0.16, 0.935, \"#bf{ CMS Projection}\")\n",
    "ROOT.gStyle.SetLegendTextSize(0.03)\n",
    "\n",
    "# Save\n",
    "c.SaveAs(\"slpt_w_of_bin.pdf\")"
   ]
  },
  {
   "cell_type": "code",
   "execution_count": 246,
   "metadata": {},
   "outputs": [],
   "source": [
    "#Loading in the required variables\n",
    "vv_llbar_dphi    = np.array(vv_df['bbbar_dphi'])\n",
    "tt_llbar_dphi    = np.array(tt_df['bbbar_dphi'])\n",
    "st_llbar_dphi    = np.array(st_df['bbbar_dphi'])\n",
    "sat_llbar_dphi   = np.array(sat_df['bbbar_dphi'])\n",
    "sig_llbar_dphi   = np.array(sig_df['bbbar_dphi'])"
   ]
  },
  {
   "cell_type": "code",
   "execution_count": 247,
   "metadata": {},
   "outputs": [
    {
     "name": "stderr",
     "output_type": "stream",
     "text": [
      "Warning in <TROOT::Append>: Replacing existing TH1: vv_llbar_dphi (Potential memory leak).\n",
      "Warning in <TROOT::Append>: Replacing existing TH1: st_llbar_dphi (Potential memory leak).\n",
      "Warning in <TROOT::Append>: Replacing existing TH1: sat_llbar_dphi (Potential memory leak).\n",
      "Warning in <TROOT::Append>: Replacing existing TH1: tt_llbar_dphi (Potential memory leak).\n",
      "Warning in <TROOT::Append>: Replacing existing TH1: SUSY_llbar_dphi (Potential memory leak).\n"
     ]
    }
   ],
   "source": [
    "x_low       = 0\n",
    "x_high      = np.pi\n",
    "n_bins      = 10\n",
    "\n",
    "h_vv_llbar_dphi   = ROOT.TH1F('vv_llbar_dphi'  , 'vv_llbar_dphi'  , n_bins, x_low, x_high)\n",
    "h_st_llbar_dphi   = ROOT.TH1F('st_llbar_dphi'  , 'st_llbar_dphi'  , n_bins, x_low, x_high)\n",
    "h_sat_llbar_dphi  = ROOT.TH1F('sat_llbar_dphi' , 'sat_llbar_dphi' , n_bins, x_low, x_high)\n",
    "h_tt_llbar_dphi   = ROOT.TH1F('tt_llbar_dphi'  , 'tt_llbar_dphi'  , n_bins, x_low, x_high)\n",
    "h_SUSY_llbar_dphi = ROOT.TH1F('SUSY_llbar_dphi', 'SUSY_llbar_dphi', n_bins, x_low, x_high)"
   ]
  },
  {
   "cell_type": "code",
   "execution_count": 248,
   "metadata": {},
   "outputs": [],
   "source": [
    "for dphi in vv_llbar_dphi :\n",
    "    h_vv_llbar_dphi.Fill(dphi)\n",
    "    \n",
    "for dphi in tt_llbar_dphi :\n",
    "    h_tt_llbar_dphi.Fill(dphi)\n",
    "    \n",
    "for dphi in st_llbar_dphi :\n",
    "    h_st_llbar_dphi.Fill(dphi)\n",
    "\n",
    "for dphi in sat_llbar_dphi :\n",
    "    h_sat_llbar_dphi.Fill(dphi)\n",
    "    \n",
    "for dphi in sig_llbar_dphi :\n",
    "    h_SUSY_llbar_dphi.Fill(dphi)"
   ]
  },
  {
   "cell_type": "code",
   "execution_count": 249,
   "metadata": {},
   "outputs": [],
   "source": [
    "# Draw histograms\n",
    "lumi  = 3000\n",
    "scale_tt  = 17.994815\n",
    "h_tt_llbar_dphi.Scale(scale_tt)\n",
    "\n",
    "scale_st  = 8.706901\n",
    "h_st_llbar_dphi.Scale(scale_st)\n",
    "\n",
    "scale_sat = 8.706901\n",
    "h_sat_llbar_dphi.Scale(scale_sat)\n",
    "\n",
    "scale_vv  = 2.580743\n",
    "h_vv_llbar_dphi.Scale(scale_vv)\n",
    "\n",
    "scale_SUSY= 14.389516\n",
    "h_SUSY_llbar_dphi.Scale(scale_SUSY)"
   ]
  },
  {
   "cell_type": "code",
   "execution_count": 250,
   "metadata": {},
   "outputs": [
    {
     "name": "stderr",
     "output_type": "stream",
     "text": [
      "Info in <TCanvas::Print>: pdf file bbbar_dphi.pdf has been created\n"
     ]
    }
   ],
   "source": [
    "h_SUSY_llbar_dphi.SetLineColor(colors[\"qqH\"])\n",
    "h_SUSY_llbar_dphi.SetLineWidth(3)\n",
    "\n",
    "for x, l in [(h_tt_llbar_dphi, \"W\"), (h_st_llbar_dphi, \"ZTT\"), (h_sat_llbar_dphi, \"ZTT\"), (h_vv_llbar_dphi, \"ZLL\")]:\n",
    "    x.SetLineWidth(0)\n",
    "    x.SetFillColor(colors[l])\n",
    "\n",
    "stack = ROOT.THStack(\"\", \"\")\n",
    "for x in [h_sat_llbar_dphi, h_st_llbar_dphi, h_vv_llbar_dphi, h_tt_llbar_dphi, h_SUSY_llbar_dphi]:\n",
    "    stack.Add(x)\n",
    "\n",
    "c = ROOT.TCanvas(\"\", \"\", 800, 800)\n",
    "stack.Draw(\"hist\")\n",
    "\n",
    "stack.GetXaxis().SetTitle('\\Delta \\phi_{jj}')\n",
    "stack.GetYaxis().SetTitle(\"N_{Events} /  bin\")\n",
    "stack.SetMaximum(stack.GetMaximum()*1.3 )\n",
    "#stack.SetMinimum(100.0)\n",
    "#ROOT.gStyle.SetTitleFontSize(0.05)\n",
    "\n",
    "\n",
    "# Add legend\n",
    "legend = ROOT.TLegend(0.27, 0.73, 0.67, 0.88)\n",
    "legend.SetNColumns(1)\n",
    "legend.AddEntry(h_tt_llbar_dphi , \"t#bar{t}\", \"f\")\n",
    "legend.AddEntry(h_vv_llbar_dphi , \"Diboson\", \"f\")\n",
    "legend.AddEntry(h_st_llbar_dphi , \"Single Top\", \"f\")\n",
    "legend.AddEntry(h_SUSY_llbar_dphi, \"SUSY m_{ #tilde{t}} = 175 GeV m_{#chi0} = 7.5 GeV\", \"l\")\n",
    "legend.SetBorderSize(0)\n",
    "legend.Draw()\n",
    "\n",
    "# Add title\n",
    "latex = ROOT.TLatex()\n",
    "latex.SetNDC()\n",
    "latex.SetTextSize(0.04)\n",
    "latex.SetTextFont(42)\n",
    "latex.DrawLatex(0.67, 0.935, \"3000 fb^{{-1}} (14 TeV)\".format(lumi))\n",
    "latex.DrawLatex(0.16, 0.935, \"#bf{ CMS Projection}\")\n",
    "ROOT.gStyle.SetLegendTextSize(0.03)\n",
    "\n",
    "# Save\n",
    "c.SaveAs(\"bbbar_dphi.pdf\")"
   ]
  },
  {
   "cell_type": "code",
   "execution_count": 7,
   "metadata": {},
   "outputs": [
    {
     "data": {
      "text/plain": [
       "<bound method NDFrame.keys of          lepton_pt  lepton_eta  lepton_phi  sublepton_pt  sublepton_eta  \\\n",
       "0        54.800117    1.631996    0.838088     30.457233      -0.072351   \n",
       "1        62.871208   -0.502981    1.041450     53.695518      -0.962942   \n",
       "2        77.377106    0.397918   -0.471417     44.754673       0.134825   \n",
       "3        33.959000    1.905253    1.452651     26.326990       0.545058   \n",
       "4        58.220764    0.724194    1.281943     35.121616      -0.592697   \n",
       "...            ...         ...         ...           ...            ...   \n",
       "125934   57.198299    0.769189   -0.495362     51.997704       0.167035   \n",
       "125935   40.453503    1.226450    2.385078     26.996359       2.329891   \n",
       "125936   56.961548    1.253774    2.691810     24.658413       0.200721   \n",
       "125937  249.689850    0.172857   -0.140644     61.737934       0.313576   \n",
       "125938  102.404465    1.678013    2.461559     28.256666      -0.343879   \n",
       "\n",
       "        sublepton_phi     ljet_pt  ljet_eta  ljet_phi    sljet_pt  sljet_eta  \\\n",
       "0            0.119014   57.013615  1.591103 -2.151438   45.433125   1.289961   \n",
       "1           -1.347593   41.727928 -0.659312 -2.780716   30.603504  -0.831530   \n",
       "2            2.681452   61.531235 -1.234149  2.433561   43.837818   1.559163   \n",
       "3            3.103461  187.410858  0.940405  1.804004   87.532959  -0.371349   \n",
       "4           -1.238645  127.381683 -0.314894 -0.817387  115.373047  -0.415983   \n",
       "...               ...         ...       ...       ...         ...        ...   \n",
       "125934       2.583208  179.117188  1.099946  0.072392  145.993607   1.511142   \n",
       "125935      -1.586886   82.533897 -0.986647 -1.731901   81.160614  -2.098746   \n",
       "125936       1.124670  100.304573  0.841771 -2.129481   38.907200  -0.412011   \n",
       "125937       0.507042  353.745239  0.052842 -2.872907  102.010773  -1.569904   \n",
       "125938      -1.860978  112.903870  0.648138 -1.605834   80.668182   2.231628   \n",
       "\n",
       "        sljet_phi  llbar_dphi  llbar_deta  bbbar_dphi  bbbar_deta         MET  \\\n",
       "0        1.390726    0.719074    1.704347    2.741022    0.301142  103.958435   \n",
       "1        3.058750    2.389043    0.459961    0.443719    0.172218   65.174500   \n",
       "2       -2.075771    3.130316    0.263093    1.773854    2.793312    9.168856   \n",
       "3       -1.622643    1.650811    1.360195    2.856539    1.311754  156.398865   \n",
       "4       -2.763231    2.520588    1.316891    1.945844    0.101089  108.123840   \n",
       "...           ...         ...         ...         ...         ...         ...   \n",
       "125934  -2.709130    3.078570    0.602154    2.781522    0.411196   27.154974   \n",
       "125935   0.434443    2.311221    1.103441    2.166344    1.112098   18.845642   \n",
       "125936  -1.469141    1.567140    1.053053    0.660340    1.253782   99.331322   \n",
       "125937   2.556015    0.647686    0.140719    0.854263    1.622746   95.747322   \n",
       "125938   1.108321    1.960649    2.021892    2.714155    1.583490   69.496910   \n",
       "\n",
       "                HT           ST  \n",
       "0       219.790268   338.688904  \n",
       "1       276.519348   401.978882  \n",
       "2       264.180054   426.937836  \n",
       "3       396.704498   499.314545  \n",
       "4       339.867798   441.432373  \n",
       "...            ...          ...  \n",
       "125934  546.848267   666.796936  \n",
       "125935  333.878052   426.679108  \n",
       "125936  322.286285   411.947601  \n",
       "125937  848.794617  1310.174683  \n",
       "125938  379.872803   514.817505  \n",
       "\n",
       "[125939 rows x 19 columns]>"
      ]
     },
     "execution_count": 7,
     "metadata": {},
     "output_type": "execute_result"
    }
   ],
   "source": [
    "sig_df.keys"
   ]
  },
  {
   "cell_type": "code",
   "execution_count": null,
   "metadata": {},
   "outputs": [],
   "source": []
  }
 ],
 "metadata": {
  "kernelspec": {
   "display_name": "Python 3",
   "language": "python",
   "name": "python3"
  },
  "language_info": {
   "codemirror_mode": {
    "name": "ipython",
    "version": 3
   },
   "file_extension": ".py",
   "mimetype": "text/x-python",
   "name": "python",
   "nbconvert_exporter": "python",
   "pygments_lexer": "ipython3",
   "version": "3.8.5"
  }
 },
 "nbformat": 4,
 "nbformat_minor": 4
}
