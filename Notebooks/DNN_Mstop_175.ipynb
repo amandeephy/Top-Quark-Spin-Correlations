{
 "cells": [
  {
   "cell_type": "code",
   "execution_count": 1,
   "metadata": {},
   "outputs": [
    {
     "name": "stdout",
     "output_type": "stream",
     "text": [
      "Welcome to JupyROOT 6.18/04\n"
     ]
    }
   ],
   "source": [
    "import uproot\n",
    "import numpy as np\n",
    "import pandas as pd\n",
    "import torch \n",
    "import matplotlib.pyplot as plt\n",
    "from torch import nn, optim\n",
    "import ROOT"
   ]
  },
  {
   "cell_type": "code",
   "execution_count": 2,
   "metadata": {},
   "outputs": [],
   "source": [
    "bkg_events     = uproot.open('ttbar.root')['Delphes_Ntuples']\n",
    "\n",
    "SM_muon_pt     = bkg_events['muon_pt'].array()\n",
    "SM_muon_eta    = bkg_events['muon_eta'].array()\n",
    "SM_muon_phi    = bkg_events['muon_phi'].array()\n",
    "SM_muon_mass   = bkg_events['muon_mass'].array()\n",
    "SM_muon_charge = bkg_events['muon_charge'].array()\n",
    "\n",
    "SM_elec_pt     = bkg_events['elec_pt'].array()\n",
    "SM_elec_eta    = bkg_events['elec_eta'].array()\n",
    "SM_elec_phi    = bkg_events['elec_phi'].array()\n",
    "SM_elec_mass   = bkg_events['elec_mass'].array()\n",
    "SM_elec_charge = bkg_events['elec_charge'].array()"
   ]
  },
  {
   "cell_type": "code",
   "execution_count": 3,
   "metadata": {},
   "outputs": [],
   "source": [
    "sig_events       = uproot.open('Mstop_175_mchi_7_5.root')['Delphes_Ntuples']\n",
    "\n",
    "SUSY_muon_pt     = sig_events['muon_pt'].array()\n",
    "SUSY_muon_eta    = sig_events['muon_eta'].array()\n",
    "SUSY_muon_phi    = sig_events['muon_phi'].array()\n",
    "SUSY_muon_mass   = sig_events['muon_mass'].array()\n",
    "SUSY_muon_charge = sig_events['muon_charge'].array()\n",
    "\n",
    "SUSY_elec_pt     = sig_events['elec_pt'].array()\n",
    "SUSY_elec_eta    = sig_events['elec_eta'].array()\n",
    "SUSY_elec_phi    = sig_events['elec_phi'].array()\n",
    "SUSY_elec_mass   = sig_events['elec_mass'].array()\n",
    "SUSY_elec_charge = sig_events['elec_charge'].array()"
   ]
  },
  {
   "cell_type": "code",
   "execution_count": 4,
   "metadata": {},
   "outputs": [
    {
     "name": "stdout",
     "output_type": "stream",
     "text": [
      "Processed :: 250000 events of which :: 23638 passed \n"
     ]
    }
   ],
   "source": [
    "## SM arrays for the dataframe\n",
    "n_events = len(SM_elec_eta)\n",
    "\n",
    "SM_eptcut    = SM_elec_pt > 30\n",
    "SM_muptcut   = SM_muon_pt > 30\n",
    "\n",
    "SM_elptreduced  = SM_elec_pt[SM_eptcut]\n",
    "SM_muptreduced  = SM_muon_pt[SM_muptcut]\n",
    "\n",
    "SM_eletareduced = SM_elec_eta[SM_eptcut]\n",
    "SM_muetareduced = SM_muon_eta[SM_muptcut]\n",
    "\n",
    "SM_elphireduced = SM_elec_phi[SM_eptcut]\n",
    "SM_muphireduced = SM_muon_phi[SM_muptcut]\n",
    "\n",
    "SM_elmassreduced = SM_elec_mass[SM_eptcut]\n",
    "SM_mumassreduced = SM_muon_mass[SM_muptcut]\n",
    "\n",
    "SM_mu_pt_array     = np.array([])\n",
    "SM_el_pt_array     = np.array([])\n",
    "\n",
    "SM_delta_eta_array = np.array([])\n",
    "SM_delta_phi_array = np.array([])\n",
    "\n",
    "SM_el_phi_array     = np.array([])\n",
    "SM_mu_phi_array     = np.array([])\n",
    "\n",
    "SM_el_eta_array     = np.array([])\n",
    "SM_mu_eta_array     = np.array([])\n",
    "\n",
    "for i in range(n_events) :\n",
    "    if (len(SM_eletareduced[i]) == 1 and len(SM_muetareduced[i]) == 1) :\n",
    "        \n",
    "        e4vec              = ROOT.TLorentzVector()\n",
    "        e4vec.SetPtEtaPhiM(SM_elptreduced[i], SM_eletareduced[i], SM_elphireduced[i], SM_elmassreduced [i])\n",
    "\n",
    "        mu4vec             = ROOT.TLorentzVector()\n",
    "        mu4vec.SetPtEtaPhiM(SM_muptreduced[i], SM_muetareduced[i], SM_muphireduced[i], SM_mumassreduced[i])\n",
    "        \n",
    "        SM_delta_eta       = abs(SM_eletareduced[i] - SM_muetareduced[i])\n",
    "        SM_delta_phi       = abs(e4vec.DeltaPhi(mu4vec))\n",
    "        \n",
    "        SM_el_pt_array     = np.append(SM_el_pt_array, SM_elptreduced[i])\n",
    "        SM_mu_pt_array     = np.append(SM_mu_pt_array, SM_muptreduced[i])  \n",
    "\n",
    "        SM_el_phi_array    = np.append(SM_el_phi_array, SM_elphireduced[i])\n",
    "        SM_mu_phi_array    = np.append(SM_mu_phi_array, SM_muphireduced[i])\n",
    "        \n",
    "        SM_el_eta_array    = np.append(SM_el_eta_array, SM_eletareduced[i])\n",
    "        SM_mu_eta_array    = np.append(SM_mu_eta_array, SM_muetareduced[i]) \n",
    "        \n",
    "        SM_delta_eta_array = np.append(SM_delta_eta_array, SM_delta_eta)\n",
    "        SM_delta_phi_array = np.append(SM_delta_phi_array, SM_delta_phi)   \n",
    "\n",
    "print('Processed :: %i events of which :: %i passed ' %(n_events, len(SM_mu_eta_array)))"
   ]
  },
  {
   "cell_type": "code",
   "execution_count": 6,
   "metadata": {},
   "outputs": [
    {
     "name": "stdout",
     "output_type": "stream",
     "text": [
      "Processed :: 235859 events of which :: 20624 passed \n"
     ]
    }
   ],
   "source": [
    "n_events = len(SUSY_elec_eta)\n",
    "\n",
    "SUSY_eptcut  = SUSY_elec_pt > 30\n",
    "SUSY_muptcut = SUSY_muon_pt > 30\n",
    "\n",
    "SUSY_elptreduced  = SUSY_elec_pt[SUSY_eptcut]\n",
    "SUSY_muptreduced  = SUSY_muon_pt[SUSY_muptcut]\n",
    "\n",
    "SUSY_eletareduced = SUSY_elec_eta[SUSY_eptcut]\n",
    "SUSY_muetareduced = SUSY_muon_eta[SUSY_muptcut]\n",
    "\n",
    "SUSY_elphireduced = SUSY_elec_phi[SUSY_eptcut]\n",
    "SUSY_muphireduced = SUSY_muon_phi[SUSY_muptcut]\n",
    "\n",
    "SUSY_elmassreduced = SUSY_elec_mass[SUSY_eptcut]\n",
    "SUSY_mumassreduced = SUSY_muon_mass[SUSY_muptcut]\n",
    "\n",
    "SUSY_mu_pt_array     = np.array([])\n",
    "SUSY_el_pt_array     = np.array([])\n",
    "\n",
    "SUSY_delta_eta_array = np.array([])\n",
    "SUSY_delta_phi_array = np.array([])\n",
    "\n",
    "SUSY_el_phi_array     = np.array([])\n",
    "SUSY_mu_phi_array     = np.array([])\n",
    "\n",
    "SUSY_el_eta_array     = np.array([])\n",
    "SUSY_mu_eta_array     = np.array([])\n",
    "\n",
    "for i in range(n_events) :\n",
    "    if (len(SUSY_eletareduced[i]) == 1 and len(SUSY_muetareduced[i]) == 1) : \n",
    "        SUSY_e4vec           = ROOT.TLorentzVector()\n",
    "        SUSY_e4vec.SetPtEtaPhiM(SUSY_elptreduced[i], SUSY_eletareduced[i], SUSY_elphireduced[i],SUSY_elmassreduced[i])\n",
    "\n",
    "        SUSY_mu4vec          = ROOT.TLorentzVector()\n",
    "        SUSY_mu4vec.SetPtEtaPhiM(SUSY_muptreduced[i], SUSY_muetareduced[i], SUSY_muphireduced[i],SUSY_elmassreduced[i])\n",
    "        \n",
    "        SUSY_delta_eta       = abs(SUSY_eletareduced[i] - SUSY_muetareduced[i])\n",
    "        SUSY_delta_phi       = abs(SUSY_e4vec.DeltaPhi(SUSY_mu4vec))\n",
    "        \n",
    "        SUSY_el_pt_array     = np.append(SUSY_el_pt_array, SUSY_elptreduced[i])\n",
    "        SUSY_mu_pt_array     = np.append(SUSY_mu_pt_array, SUSY_muptreduced[i])     \n",
    "\n",
    "        SUSY_el_phi_array    = np.append(SUSY_el_phi_array, SUSY_elphireduced[i])\n",
    "        SUSY_mu_phi_array    = np.append(SUSY_mu_phi_array, SUSY_muphireduced[i])\n",
    "        \n",
    "        SUSY_el_eta_array    = np.append(SUSY_el_eta_array, SUSY_eletareduced[i])\n",
    "        SUSY_mu_eta_array    = np.append(SUSY_mu_eta_array, SUSY_muetareduced[i]) \n",
    "        \n",
    "        SUSY_delta_eta_array = np.append(SUSY_delta_eta_array, SUSY_delta_eta)\n",
    "        SUSY_delta_phi_array = np.append(SUSY_delta_phi_array, SUSY_delta_phi)  \n",
    "\n",
    "print('Processed :: %i events of which :: %i passed ' %(n_events, len(SUSY_mu_eta_array)))"
   ]
  },
  {
   "cell_type": "code",
   "execution_count": 7,
   "metadata": {},
   "outputs": [],
   "source": [
    "SM_arr   = [ SM_el_pt_array, SM_mu_pt_array, SM_el_eta_array, SM_mu_eta_array, SM_delta_eta_array,   SM_delta_phi_array ]\n",
    "SUSY_arr = [ SUSY_el_pt_array,   SUSY_mu_pt_array, SUSY_el_eta_array, SUSY_mu_eta_array, SUSY_delta_eta_array, SUSY_delta_phi_array ]\n",
    "\n",
    "bkg_df   = pd.DataFrame(data = SM_arr).T\n",
    "sig_df   = pd.DataFrame(data =SUSY_arr).T   \n",
    "\n",
    "bkg_df.columns = ['Leading elec pt', 'Leading muon pt','Leading elec eta', 'Leading muon eta', 'Abs Delta Eta', 'Abs Delta Phi']\n",
    "sig_df.columns = ['Leading elec pt', 'Leading muon pt', 'Leading elec eta', 'Leading muon eta','Abs Delta Eta', 'Abs Delta Phi']"
   ]
  },
  {
   "cell_type": "code",
   "execution_count": 8,
   "metadata": {},
   "outputs": [
    {
     "data": {
      "text/plain": [
       "23638"
      ]
     },
     "execution_count": 8,
     "metadata": {},
     "output_type": "execute_result"
    }
   ],
   "source": [
    "len(bkg_df)"
   ]
  },
  {
   "cell_type": "code",
   "execution_count": 9,
   "metadata": {},
   "outputs": [
    {
     "name": "stderr",
     "output_type": "stream",
     "text": [
      "/Users/amandeepsinghbakshi/anaconda3/lib/python3.7/site-packages/ipykernel_launcher.py:4: MatplotlibDeprecationWarning: \n",
      "The 'normed' kwarg was deprecated in Matplotlib 2.1 and will be removed in 3.1. Use 'density' instead.\n",
      "  after removing the cwd from sys.path.\n",
      "/Users/amandeepsinghbakshi/anaconda3/lib/python3.7/site-packages/ipykernel_launcher.py:5: MatplotlibDeprecationWarning: \n",
      "The 'normed' kwarg was deprecated in Matplotlib 2.1 and will be removed in 3.1. Use 'density' instead.\n",
      "  \"\"\"\n"
     ]
    },
    {
     "data": {
      "image/png": "[encoded data removed]",
      "text/plain": [
       "<Figure size 432x288 with 1 Axes>"
      ]
     },
     "metadata": {
      "needs_background": "light"
     },
     "output_type": "display_data"
    },
    {
     "data": {
      "image/png": "[encoded data removed]",
      "text/plain": [
       "<Figure size 432x288 with 1 Axes>"
      ]
     },
     "metadata": {
      "needs_background": "light"
     },
     "output_type": "display_data"
    },
    {
     "data": {
      "image/png": "[encoded data removed]",
      "text/plain": [
       "<Figure size 432x288 with 1 Axes>"
      ]
     },
     "metadata": {
      "needs_background": "light"
     },
     "output_type": "display_data"
    },
    {
     "data": {
      "image/png": "[encoded data removed]",
      "text/plain": [
       "<Figure size 432x288 with 1 Axes>"
      ]
     },
     "metadata": {
      "needs_background": "light"
     },
     "output_type": "display_data"
    },
    {
     "data": {
      "image/png": "[encoded data removed]",
      "text/plain": [
       "<Figure size 432x288 with 1 Axes>"
      ]
     },
     "metadata": {
      "needs_background": "light"
     },
     "output_type": "display_data"
    },
    {
     "data": {
      "image/png": "[encoded data removed]",
      "text/plain": [
       "<Figure size 432x288 with 1 Axes>"
      ]
     },
     "metadata": {
      "needs_background": "light"
     },
     "output_type": "display_data"
    }
   ],
   "source": [
    "HLFs = ['Leading elec pt', 'Leading muon pt', 'Leading elec eta', 'Leading muon eta','Abs Delta Eta', 'Abs Delta Phi']\n",
    "for hlf in HLFs:\n",
    "    plt.figure()\n",
    "    plt.hist(sig_df[hlf], bins=20, normed=True, histtype='step', label='SUSY Signal')\n",
    "    plt.hist(bkg_df[hlf], bins=20, normed=True, histtype='step', label='SM ttbar')\n",
    "    plt.xlabel(hlf)\n",
    "    plt.legend(loc='best')"
   ]
  },
  {
   "cell_type": "code",
   "execution_count": 10,
   "metadata": {},
   "outputs": [],
   "source": [
    "# Set both to equal sizes \n",
    "# Reducing the bkg dataframe size\n",
    "\n",
    "sig_df = sig_df[1:len(bkg_df)]\n",
    "\n",
    "# Standardize\n",
    "# It was originally just subtracting bkg mean from both,\n",
    "# not sure how much sense that makes\n",
    "\n",
    "sig_mean = sig_df.mean()\n",
    "sig_std  = sig_df.std()\n",
    "\n",
    "bkg_mean = bkg_df.mean()\n",
    "bkg_std  = bkg_df.std()\n",
    "\n",
    "sig_df = (sig_df - bkg_mean)/ sig_std\n",
    "bkg_df = (bkg_df - bkg_mean)/ bkg_std\n",
    "\n",
    "signal = sig_df.values\n",
    "bkg    = bkg_df.values\n",
    "\n",
    "sig_label = np.ones(len(signal))\n",
    "bkg_label = np.zeros(len(bkg))\n",
    "\n",
    "data      = np.concatenate((signal,bkg))\n",
    "label     = np.concatenate((sig_label,bkg_label))"
   ]
  },
  {
   "cell_type": "code",
   "execution_count": 11,
   "metadata": {},
   "outputs": [
    {
     "data": {
      "text/plain": [
       "(44261, 6)"
      ]
     },
     "execution_count": 11,
     "metadata": {},
     "output_type": "execute_result"
    }
   ],
   "source": [
    "data.shape"
   ]
  },
  {
   "cell_type": "code",
   "execution_count": 12,
   "metadata": {},
   "outputs": [
    {
     "data": {
      "text/plain": [
       "23638"
      ]
     },
     "execution_count": 12,
     "metadata": {},
     "output_type": "execute_result"
    }
   ],
   "source": [
    "len(label[label == 0])"
   ]
  },
  {
   "cell_type": "code",
   "execution_count": 13,
   "metadata": {},
   "outputs": [
    {
     "data": {
      "text/plain": [
       "<generator object _BaseKFold.split at 0x28cae7048>"
      ]
     },
     "execution_count": 13,
     "metadata": {},
     "output_type": "execute_result"
    }
   ],
   "source": [
    "from sklearn.model_selection import StratifiedKFold\n",
    "skf = StratifiedKFold(n_splits=2, shuffle=True)\n",
    "skf.get_n_splits(data, label)\n",
    "skf.split(data, label)"
   ]
  },
  {
   "cell_type": "code",
   "execution_count": 14,
   "metadata": {},
   "outputs": [
    {
     "name": "stdout",
     "output_type": "stream",
     "text": [
      "TRAIN: [    0     4     6 ... 44258 44259 44260] TEST: [    1     2     3 ... 44251 44253 44254]\n",
      "TRAIN: [    1     2     3 ... 44251 44253 44254] TEST: [    0     4     6 ... 44258 44259 44260]\n"
     ]
    }
   ],
   "source": [
    "for train_index, test_index in skf.split(data, label):\n",
    "    print(\"TRAIN:\", train_index, \"TEST:\", test_index)\n",
    "    x_train, x_test = data[train_index], data[test_index]\n",
    "    y_train, y_test = label[train_index], label[test_index]"
   ]
  },
  {
   "cell_type": "code",
   "execution_count": 17,
   "metadata": {},
   "outputs": [],
   "source": [
    "idx = np.random.permutation(len(x_train))\n",
    "x_train = x_train[idx]\n",
    "y_train = y_train[idx]"
   ]
  },
  {
   "cell_type": "code",
   "execution_count": 18,
   "metadata": {},
   "outputs": [
    {
     "name": "stderr",
     "output_type": "stream",
     "text": [
      "Using TensorFlow backend.\n",
      "/Users/amandeepsinghbakshi/anaconda3/lib/python3.7/site-packages/tensorflow/python/framework/dtypes.py:526: FutureWarning: Passing (type, 1) or '1type' as a synonym of type is deprecated; in a future version of numpy, it will be understood as (type, (1,)) / '(1,)type'.\n",
      "  _np_qint8 = np.dtype([(\"qint8\", np.int8, 1)])\n",
      "/Users/amandeepsinghbakshi/anaconda3/lib/python3.7/site-packages/tensorflow/python/framework/dtypes.py:527: FutureWarning: Passing (type, 1) or '1type' as a synonym of type is deprecated; in a future version of numpy, it will be understood as (type, (1,)) / '(1,)type'.\n",
      "  _np_quint8 = np.dtype([(\"quint8\", np.uint8, 1)])\n",
      "/Users/amandeepsinghbakshi/anaconda3/lib/python3.7/site-packages/tensorflow/python/framework/dtypes.py:528: FutureWarning: Passing (type, 1) or '1type' as a synonym of type is deprecated; in a future version of numpy, it will be understood as (type, (1,)) / '(1,)type'.\n",
      "  _np_qint16 = np.dtype([(\"qint16\", np.int16, 1)])\n",
      "/Users/amandeepsinghbakshi/anaconda3/lib/python3.7/site-packages/tensorflow/python/framework/dtypes.py:529: FutureWarning: Passing (type, 1) or '1type' as a synonym of type is deprecated; in a future version of numpy, it will be understood as (type, (1,)) / '(1,)type'.\n",
      "  _np_quint16 = np.dtype([(\"quint16\", np.uint16, 1)])\n",
      "/Users/amandeepsinghbakshi/anaconda3/lib/python3.7/site-packages/tensorflow/python/framework/dtypes.py:530: FutureWarning: Passing (type, 1) or '1type' as a synonym of type is deprecated; in a future version of numpy, it will be understood as (type, (1,)) / '(1,)type'.\n",
      "  _np_qint32 = np.dtype([(\"qint32\", np.int32, 1)])\n",
      "/Users/amandeepsinghbakshi/anaconda3/lib/python3.7/site-packages/tensorflow/python/framework/dtypes.py:535: FutureWarning: Passing (type, 1) or '1type' as a synonym of type is deprecated; in a future version of numpy, it will be understood as (type, (1,)) / '(1,)type'.\n",
      "  np_resource = np.dtype([(\"resource\", np.ubyte, 1)])\n"
     ]
    },
    {
     "name": "stdout",
     "output_type": "stream",
     "text": [
      "WARNING:tensorflow:From /Users/amandeepsinghbakshi/anaconda3/lib/python3.7/site-packages/tensorflow/python/framework/op_def_library.py:263: colocate_with (from tensorflow.python.framework.ops) is deprecated and will be removed in a future version.\n",
      "Instructions for updating:\n",
      "Colocations handled automatically by placer.\n",
      "WARNING:tensorflow:From /Users/amandeepsinghbakshi/anaconda3/lib/python3.7/site-packages/keras/backend/tensorflow_backend.py:3445: calling dropout (from tensorflow.python.ops.nn_ops) with keep_prob is deprecated and will be removed in a future version.\n",
      "Instructions for updating:\n",
      "Please use `rate` instead of `keep_prob`. Rate should be set to `rate = 1 - keep_prob`.\n",
      "_________________________________________________________________\n",
      "Layer (type)                 Output Shape              Param #   \n",
      "=================================================================\n",
      "dense_1 (Dense)              (None, 10)                70        \n",
      "_________________________________________________________________\n",
      "dropout_1 (Dropout)          (None, 10)                0         \n",
      "_________________________________________________________________\n",
      "dense_2 (Dense)              (None, 1)                 11        \n",
      "=================================================================\n",
      "Total params: 81\n",
      "Trainable params: 81\n",
      "Non-trainable params: 0\n",
      "_________________________________________________________________\n"
     ]
    }
   ],
   "source": [
    "from keras.optimizers import SGD\n",
    "from keras.models import Sequential\n",
    "from keras.layers import Dense, Activation,Dropout\n",
    "from skopt import gp_minimize\n",
    "\n",
    "model = Sequential()\n",
    "opt = SGD(lr=1, decay=1e-6, momentum=0.05, nesterov=True)\n",
    "model.add(Dense(10, input_dim = 6 ,activation='relu'))\n",
    "model.add(Dropout(0.2))\n",
    "model.add(Dense(1, activation='sigmoid'))\n",
    "#model.compile(loss='binary_crossentropy', optimizer='adam',metrics=['accuracy'])\n",
    "model.compile(loss='binary_crossentropy', optimizer=opt, metrics=['accuracy'])\n",
    "model.summary()"
   ]
  },
  {
   "cell_type": "code",
   "execution_count": null,
   "metadata": {},
   "outputs": [],
   "source": []
  },
  {
   "cell_type": "code",
   "execution_count": 19,
   "metadata": {},
   "outputs": [],
   "source": [
    "from keras.callbacks import EarlyStopping\n",
    "from keras.callbacks import ModelCheckpoint"
   ]
  },
  {
   "cell_type": "code",
   "execution_count": 20,
   "metadata": {},
   "outputs": [
    {
     "name": "stdout",
     "output_type": "stream",
     "text": [
      "WARNING:tensorflow:From /Users/amandeepsinghbakshi/anaconda3/lib/python3.7/site-packages/tensorflow/python/ops/math_ops.py:3066: to_int32 (from tensorflow.python.ops.math_ops) is deprecated and will be removed in a future version.\n",
      "Instructions for updating:\n",
      "Use tf.cast instead.\n"
     ]
    },
    {
     "name": "stderr",
     "output_type": "stream",
     "text": [
      "/Users/amandeepsinghbakshi/anaconda3/lib/python3.7/site-packages/ipykernel_launcher.py:3: UserWarning: The `nb_epoch` argument in `fit` has been renamed `epochs`.\n",
      "  This is separate from the ipykernel package so we can avoid doing imports until\n"
     ]
    },
    {
     "name": "stdout",
     "output_type": "stream",
     "text": [
      "Train on 15491 samples, validate on 6640 samples\n",
      "Epoch 1/50\n",
      "15491/15491 [==============================] - 0s 24us/step - loss: 0.6872 - acc: 0.5506 - val_loss: 0.6901 - val_acc: 0.5675\n",
      "Epoch 2/50\n",
      "15491/15491 [==============================] - 0s 9us/step - loss: 0.6761 - acc: 0.5756 - val_loss: 0.6835 - val_acc: 0.5663\n",
      "Epoch 3/50\n",
      "15491/15491 [==============================] - 0s 9us/step - loss: 0.6740 - acc: 0.5769 - val_loss: 0.6731 - val_acc: 0.5878\n",
      "Epoch 4/50\n",
      "15491/15491 [==============================] - 0s 9us/step - loss: 0.6698 - acc: 0.5851 - val_loss: 0.6732 - val_acc: 0.5852\n",
      "Epoch 5/50\n",
      "15491/15491 [==============================] - 0s 9us/step - loss: 0.6673 - acc: 0.5842 - val_loss: 0.6663 - val_acc: 0.5858\n",
      "Epoch 6/50\n",
      "15491/15491 [==============================] - 0s 8us/step - loss: 0.6647 - acc: 0.5882 - val_loss: 0.6687 - val_acc: 0.5810\n",
      "Epoch 7/50\n",
      "15491/15491 [==============================] - 0s 9us/step - loss: 0.6623 - acc: 0.5907 - val_loss: 0.6728 - val_acc: 0.5783\n",
      "Epoch 8/50\n",
      "15491/15491 [==============================] - 0s 9us/step - loss: 0.6611 - acc: 0.5911 - val_loss: 0.6609 - val_acc: 0.5925\n",
      "Epoch 9/50\n",
      "15491/15491 [==============================] - 0s 11us/step - loss: 0.6600 - acc: 0.5921 - val_loss: 0.6645 - val_acc: 0.5905\n",
      "Epoch 10/50\n",
      "15491/15491 [==============================] - 0s 12us/step - loss: 0.6574 - acc: 0.5996 - val_loss: 0.6610 - val_acc: 0.5928\n",
      "Epoch 11/50\n",
      "15491/15491 [==============================] - 0s 13us/step - loss: 0.6575 - acc: 0.5961 - val_loss: 0.6571 - val_acc: 0.5946\n",
      "Epoch 12/50\n",
      "15491/15491 [==============================] - 0s 11us/step - loss: 0.6559 - acc: 0.5991 - val_loss: 0.6525 - val_acc: 0.6026\n",
      "Epoch 13/50\n",
      "15491/15491 [==============================] - 0s 10us/step - loss: 0.6512 - acc: 0.6054 - val_loss: 0.6523 - val_acc: 0.6101\n",
      "Epoch 14/50\n",
      "15491/15491 [==============================] - 0s 8us/step - loss: 0.6458 - acc: 0.6191 - val_loss: 0.6469 - val_acc: 0.6074\n",
      "Epoch 15/50\n",
      "15491/15491 [==============================] - 0s 9us/step - loss: 0.6375 - acc: 0.6298 - val_loss: 0.6714 - val_acc: 0.5977\n",
      "Epoch 16/50\n",
      "15491/15491 [==============================] - 0s 10us/step - loss: 0.6302 - acc: 0.6394 - val_loss: 0.6448 - val_acc: 0.6197\n",
      "Epoch 17/50\n",
      "15491/15491 [==============================] - 0s 9us/step - loss: 0.6256 - acc: 0.6446 - val_loss: 0.6075 - val_acc: 0.6771\n",
      "Epoch 18/50\n",
      "15491/15491 [==============================] - 0s 8us/step - loss: 0.6130 - acc: 0.6596 - val_loss: 0.6509 - val_acc: 0.6229\n",
      "Epoch 19/50\n",
      "15491/15491 [==============================] - 0s 10us/step - loss: 0.6044 - acc: 0.6728 - val_loss: 0.6187 - val_acc: 0.6530\n",
      "Epoch 20/50\n",
      "15491/15491 [==============================] - 0s 9us/step - loss: 0.5919 - acc: 0.6809 - val_loss: 0.6964 - val_acc: 0.5997\n",
      "Epoch 21/50\n",
      "15491/15491 [==============================] - 0s 8us/step - loss: 0.5860 - acc: 0.6859 - val_loss: 0.6242 - val_acc: 0.6502\n",
      "Epoch 22/50\n",
      "15491/15491 [==============================] - 0s 9us/step - loss: 0.5696 - acc: 0.7012 - val_loss: 0.7739 - val_acc: 0.5872\n",
      "Epoch 23/50\n",
      "15491/15491 [==============================] - 0s 10us/step - loss: 0.5584 - acc: 0.7107 - val_loss: 0.6320 - val_acc: 0.6495\n",
      "Epoch 24/50\n",
      "15491/15491 [==============================] - 0s 9us/step - loss: 0.5644 - acc: 0.7040 - val_loss: 0.5699 - val_acc: 0.6985\n",
      "Epoch 25/50\n",
      "15491/15491 [==============================] - 0s 12us/step - loss: 0.5385 - acc: 0.7268 - val_loss: 0.6321 - val_acc: 0.6664\n",
      "Epoch 26/50\n",
      "15491/15491 [==============================] - 0s 11us/step - loss: 0.5418 - acc: 0.7248 - val_loss: 0.6476 - val_acc: 0.6642\n",
      "Epoch 27/50\n",
      "15491/15491 [==============================] - 0s 10us/step - loss: 0.5256 - acc: 0.7397 - val_loss: 0.5179 - val_acc: 0.7331\n",
      "Epoch 28/50\n",
      "15491/15491 [==============================] - 0s 10us/step - loss: 0.5160 - acc: 0.7396 - val_loss: 0.4493 - val_acc: 0.8033\n",
      "Epoch 29/50\n",
      "15491/15491 [==============================] - 0s 11us/step - loss: 0.5042 - acc: 0.7530 - val_loss: 0.5564 - val_acc: 0.7015\n",
      "Epoch 30/50\n",
      "15491/15491 [==============================] - 0s 12us/step - loss: 0.5183 - acc: 0.7412 - val_loss: 0.4140 - val_acc: 0.8331\n",
      "Epoch 31/50\n",
      "15491/15491 [==============================] - 0s 12us/step - loss: 0.4938 - acc: 0.7584 - val_loss: 0.5151 - val_acc: 0.7358\n",
      "Epoch 32/50\n",
      "15491/15491 [==============================] - 0s 11us/step - loss: 0.4798 - acc: 0.7697 - val_loss: 0.4272 - val_acc: 0.8051\n",
      "Epoch 33/50\n",
      "15491/15491 [==============================] - 0s 8us/step - loss: 0.4726 - acc: 0.7739 - val_loss: 0.6460 - val_acc: 0.6931\n",
      "Epoch 34/50\n",
      "15491/15491 [==============================] - 0s 7us/step - loss: 0.4787 - acc: 0.7647 - val_loss: 0.4303 - val_acc: 0.7878\n",
      "Epoch 35/50\n",
      "15491/15491 [==============================] - 0s 7us/step - loss: 0.4777 - acc: 0.7691 - val_loss: 0.3864 - val_acc: 0.8218\n",
      "Epoch 36/50\n",
      "15491/15491 [==============================] - 0s 7us/step - loss: 0.4592 - acc: 0.7767 - val_loss: 0.6548 - val_acc: 0.7035\n",
      "Epoch 37/50\n",
      "15491/15491 [==============================] - 0s 8us/step - loss: 0.4554 - acc: 0.7820 - val_loss: 0.4457 - val_acc: 0.7840\n",
      "Epoch 38/50\n",
      "15491/15491 [==============================] - 0s 10us/step - loss: 0.4627 - acc: 0.7763 - val_loss: 0.4065 - val_acc: 0.8123\n",
      "Epoch 39/50\n",
      "15491/15491 [==============================] - 0s 8us/step - loss: 0.4464 - acc: 0.7901 - val_loss: 0.4920 - val_acc: 0.7669\n",
      "Epoch 40/50\n",
      "15491/15491 [==============================] - 0s 8us/step - loss: 0.4476 - acc: 0.7877 - val_loss: 0.4133 - val_acc: 0.7961\n",
      "Epoch 41/50\n",
      "15491/15491 [==============================] - 0s 10us/step - loss: 0.4351 - acc: 0.7898 - val_loss: 0.5703 - val_acc: 0.7209\n",
      "Epoch 42/50\n",
      "15491/15491 [==============================] - 0s 8us/step - loss: 0.4321 - acc: 0.7936 - val_loss: 0.3843 - val_acc: 0.8015\n",
      "Epoch 43/50\n",
      "15491/15491 [==============================] - 0s 10us/step - loss: 0.4411 - acc: 0.7890 - val_loss: 0.3585 - val_acc: 0.8380\n",
      "Epoch 44/50\n",
      "15491/15491 [==============================] - 0s 9us/step - loss: 0.4280 - acc: 0.7965 - val_loss: 0.6974 - val_acc: 0.7649\n",
      "Epoch 45/50\n",
      "15491/15491 [==============================] - 0s 7us/step - loss: 0.4310 - acc: 0.7970 - val_loss: 0.3771 - val_acc: 0.8380\n",
      "Epoch 46/50\n",
      "15491/15491 [==============================] - 0s 8us/step - loss: 0.4347 - acc: 0.7929 - val_loss: 0.5277 - val_acc: 0.7402\n",
      "Epoch 47/50\n",
      "15491/15491 [==============================] - 0s 8us/step - loss: 0.4227 - acc: 0.8033 - val_loss: 0.5287 - val_acc: 0.7681\n",
      "Epoch 48/50\n",
      "15491/15491 [==============================] - 0s 8us/step - loss: 0.4314 - acc: 0.7960 - val_loss: 0.3365 - val_acc: 0.8473\n",
      "Epoch 49/50\n",
      "15491/15491 [==============================] - 0s 8us/step - loss: 0.4185 - acc: 0.8045 - val_loss: 0.3500 - val_acc: 0.8336\n",
      "Epoch 50/50\n",
      "15491/15491 [==============================] - 0s 8us/step - loss: 0.4145 - acc: 0.8052 - val_loss: 0.4461 - val_acc: 0.7785\n"
     ]
    },
    {
     "name": "stderr",
     "output_type": "stream",
     "text": [
      "2020-02-20 14:34:07.710646: I tensorflow/core/platform/cpu_feature_guard.cc:141] Your CPU supports instructions that this TensorFlow binary was not compiled to use: AVX2 FMA\n"
     ]
    }
   ],
   "source": [
    "hist = model.fit(x_train, y_train, batch_size=150, nb_epoch=50,verbose=1, shuffle=True, validation_split=0.3,\n",
    "                  callbacks=[EarlyStopping(monitor='val_loss', patience=10, verbose=1, mode='min'),\n",
    "                  ModelCheckpoint(filepath='model.h5', verbose=0)])"
   ]
  },
  {
   "cell_type": "code",
   "execution_count": 21,
   "metadata": {},
   "outputs": [],
   "source": [
    "def show_losses( histories ):\n",
    "    plt.figure(figsize=(10,10))\n",
    "    #plt.ylim(bottom=0)\n",
    "    plt.xlabel('Epoch')\n",
    "    plt.ylabel('Loss')\n",
    "    plt.title('Training Error by Epoch')\n",
    "    colors=[]\n",
    "    do_acc=False\n",
    "    for label,loss in histories:\n",
    "        color = tuple(np.random.random(3))\n",
    "        colors.append(color)\n",
    "        l = label\n",
    "        vl= label+\" validation\"\n",
    "        if 'acc' in loss.history:\n",
    "            l+=' (acc %2.4f)'% (loss.history['acc'][-1])\n",
    "            do_acc = True\n",
    "        if 'val_acc' in loss.history:\n",
    "            vl+=' (val acc %2.4f)'% (loss.history['val_acc'][-1])\n",
    "            do_acc = True\n",
    "        plt.plot(loss.history['loss'], label=l, color=color)\n",
    "        if 'val_loss' in loss.history:\n",
    "            plt.plot(loss.history['val_loss'], lw=2, ls='dashed', label=vl, color=color)\n",
    "\n",
    "\n",
    "    plt.legend()\n",
    "    plt.yscale('log')\n",
    "    plt.show()\n",
    "    if not do_acc: return\n",
    "    plt.figure(figsize=(10,10))\n",
    "    plt.xlabel('Epoch')\n",
    "    plt.ylabel('Accuracy')\n",
    "    for i,(label,loss) in enumerate(histories):\n",
    "        color = colors[i]\n",
    "        if 'acc' in loss.history:\n",
    "            plt.plot(loss.history['acc'], lw=2, label=label+\" accuracy\", color=color)\n",
    "        if 'val_acc' in loss.history:\n",
    "            plt.plot(loss.history['val_acc'], lw=2, ls='dashed', label=label+\" validation accuracy\", color=color)\n",
    "    plt.legend(loc='lower right')\n",
    "\n",
    "    plt.show()"
   ]
  },
  {
   "cell_type": "code",
   "execution_count": 22,
   "metadata": {},
   "outputs": [
    {
     "data": {
      "image/png": "[encoded data removed]",
      "text/plain": [
       "<Figure size 720x720 with 1 Axes>"
      ]
     },
     "metadata": {
      "needs_background": "light"
     },
     "output_type": "display_data"
    },
    {
     "data": {
      "image/png": "[encoded data removed]",
      "text/plain": [
       "<Figure size 720x720 with 1 Axes>"
      ]
     },
     "metadata": {
      "needs_background": "light"
     },
     "output_type": "display_data"
    }
   ],
   "source": [
    "show_losses( [(\"Cross Entropy Loss S/B\", hist)])"
   ]
  },
  {
   "cell_type": "code",
   "execution_count": 23,
   "metadata": {},
   "outputs": [],
   "source": [
    "def accuracy( p ):\n",
    "    p_cat = np.argmax(p,axis=1)\n",
    "    print(\"Fraction of good prediction\")\n",
    "    print(len(np.where( p_cat == y_test)[0]))\n",
    "    print(len(np.where( p_cat == y_test )[0])/float(len(p_cat)),\"%\")"
   ]
  },
  {
   "cell_type": "code",
   "execution_count": 24,
   "metadata": {},
   "outputs": [
    {
     "data": {
      "text/plain": [
       "array([[0.4900801 ],\n",
       "       [0.9961418 ],\n",
       "       [0.9917595 ],\n",
       "       ...,\n",
       "       [0.28061548],\n",
       "       [0.07788826],\n",
       "       [0.07817835]], dtype=float32)"
      ]
     },
     "execution_count": 24,
     "metadata": {},
     "output_type": "execute_result"
    }
   ],
   "source": [
    "pred = model.predict(x_test) \n",
    "pred"
   ]
  },
  {
   "cell_type": "code",
   "execution_count": 25,
   "metadata": {},
   "outputs": [
    {
     "data": {
      "text/plain": [
       "array([1., 1., 1., ..., 0., 0., 0.])"
      ]
     },
     "execution_count": 25,
     "metadata": {},
     "output_type": "execute_result"
    }
   ],
   "source": [
    "y_test"
   ]
  },
  {
   "cell_type": "code",
   "execution_count": 26,
   "metadata": {},
   "outputs": [],
   "source": [
    "from sklearn.metrics import roc_curve\n",
    "y_pred = model.predict(x_test).ravel()\n",
    "fpr_keras, tpr_keras, thresholds_keras = roc_curve(y_test, y_pred)"
   ]
  },
  {
   "cell_type": "code",
   "execution_count": 27,
   "metadata": {},
   "outputs": [],
   "source": [
    "from sklearn.metrics import auc\n",
    "auc_keras = auc(fpr_keras, tpr_keras)"
   ]
  },
  {
   "cell_type": "code",
   "execution_count": 28,
   "metadata": {},
   "outputs": [
    {
     "data": {
      "image/png": "[encoded data removed]",
      "text/plain": [
       "<Figure size 432x288 with 1 Axes>"
      ]
     },
     "metadata": {
      "needs_background": "light"
     },
     "output_type": "display_data"
    },
    {
     "data": {
      "image/png": "[encoded data removed]",
      "text/plain": [
       "<Figure size 432x288 with 1 Axes>"
      ]
     },
     "metadata": {
      "needs_background": "light"
     },
     "output_type": "display_data"
    }
   ],
   "source": [
    "plt.figure(1)\n",
    "plt.plot([0, 1], [0, 1], 'k--')\n",
    "plt.plot(fpr_keras, tpr_keras, label='Keras (area = {:.3f})'.format(auc_keras))\n",
    "plt.xlabel('False positive rate')\n",
    "plt.ylabel('True positive rate')\n",
    "plt.title('ROC curve')\n",
    "plt.legend(loc='best')\n",
    "plt.show()\n",
    "# Zoom in view of the upper left corner.\n",
    "plt.figure(2)\n",
    "plt.xlim(0, 0.2)\n",
    "plt.ylim(0.8, 1)\n",
    "plt.plot([0, 1], [0, 1], 'k--')\n",
    "plt.plot(fpr_keras, tpr_keras, label='Keras (area = {:.3f})'.format(auc_keras))\n",
    "plt.ylabel('True positive rate')\n",
    "plt.xlabel('False positive rate')\n",
    "plt.title('ROC curve (zoomed in at top left)')\n",
    "plt.legend(loc='best')\n",
    "plt.show()"
   ]
  },
  {
   "cell_type": "code",
   "execution_count": 29,
   "metadata": {},
   "outputs": [
    {
     "name": "stderr",
     "output_type": "stream",
     "text": [
      "/Users/amandeepsinghbakshi/anaconda3/lib/python3.7/site-packages/ipykernel_launcher.py:2: MatplotlibDeprecationWarning: \n",
      "The 'normed' kwarg was deprecated in Matplotlib 2.1 and will be removed in 3.1. Use 'density' instead.\n",
      "  \n",
      "/Users/amandeepsinghbakshi/anaconda3/lib/python3.7/site-packages/ipykernel_launcher.py:3: MatplotlibDeprecationWarning: \n",
      "The 'normed' kwarg was deprecated in Matplotlib 2.1 and will be removed in 3.1. Use 'density' instead.\n",
      "  This is separate from the ipykernel package so we can avoid doing imports until\n"
     ]
    },
    {
     "data": {
      "text/plain": [
       "<matplotlib.legend.Legend at 0x1b9f8b9d68>"
      ]
     },
     "execution_count": 29,
     "metadata": {},
     "output_type": "execute_result"
    },
    {
     "data": {
      "image/png": "[encoded data removed]",
      "text/plain": [
       "<Figure size 432x288 with 1 Axes>"
      ]
     },
     "metadata": {
      "needs_background": "light"
     },
     "output_type": "display_data"
    }
   ],
   "source": [
    "plt.figure()\n",
    "plt.hist(pred[y_test == 1], bins=20, normed=True, histtype='step', label='SUSY signal')\n",
    "plt.hist(pred[y_test == 0], bins=20, normed=True, histtype='step', label='TTBar background')\n",
    "plt.xlabel('Assigned Binary Probability')\n",
    "plt.legend(loc='best')"
   ]
  },
  {
   "cell_type": "code",
   "execution_count": 30,
   "metadata": {},
   "outputs": [
    {
     "data": {
      "text/plain": [
       "5557"
      ]
     },
     "execution_count": 30,
     "metadata": {},
     "output_type": "execute_result"
    }
   ],
   "source": [
    "bool_arr = pred[y_test == 1] > 0.8\n",
    "np.sum(bool_arr)"
   ]
  },
  {
   "cell_type": "code",
   "execution_count": 31,
   "metadata": {},
   "outputs": [
    {
     "data": {
      "text/plain": [
       "383"
      ]
     },
     "execution_count": 31,
     "metadata": {},
     "output_type": "execute_result"
    }
   ],
   "source": [
    "bool_arr = pred[y_test == 0] > 0.8\n",
    "np.sum(bool_arr)"
   ]
  },
  {
   "cell_type": "code",
   "execution_count": 32,
   "metadata": {},
   "outputs": [
    {
     "data": {
      "text/plain": [
       "10311"
      ]
     },
     "execution_count": 32,
     "metadata": {},
     "output_type": "execute_result"
    }
   ],
   "source": [
    "len(pred[y_test == 1])"
   ]
  },
  {
   "cell_type": "code",
   "execution_count": 33,
   "metadata": {},
   "outputs": [
    {
     "name": "stderr",
     "output_type": "stream",
     "text": [
      "/Users/amandeepsinghbakshi/anaconda3/lib/python3.7/site-packages/ipykernel_launcher.py:1: MatplotlibDeprecationWarning: \n",
      "The 'normed' kwarg was deprecated in Matplotlib 2.1 and will be removed in 3.1. Use 'density' instead.\n",
      "  \"\"\"Entry point for launching an IPython kernel.\n"
     ]
    },
    {
     "data": {
      "text/plain": [
       "1.0"
      ]
     },
     "execution_count": 33,
     "metadata": {},
     "output_type": "execute_result"
    },
    {
     "data": {
      "image/png": "[encoded data removed]",
      "text/plain": [
       "<Figure size 432x288 with 1 Axes>"
      ]
     },
     "metadata": {
      "needs_background": "light"
     },
     "output_type": "display_data"
    }
   ],
   "source": [
    "values, bins, _ = plt.hist(pred[y_test == 0], normed=True)\n",
    "area = sum(np.diff(bins)*values)\n",
    "area"
   ]
  },
  {
   "cell_type": "code",
   "execution_count": 34,
   "metadata": {},
   "outputs": [
    {
     "name": "stderr",
     "output_type": "stream",
     "text": [
      "/Users/amandeepsinghbakshi/anaconda3/lib/python3.7/site-packages/ipykernel_launcher.py:1: MatplotlibDeprecationWarning: \n",
      "The 'normed' kwarg was deprecated in Matplotlib 2.1 and will be removed in 3.1. Use 'density' instead.\n",
      "  \"\"\"Entry point for launching an IPython kernel.\n"
     ]
    },
    {
     "data": {
      "text/plain": [
       "1.0"
      ]
     },
     "execution_count": 34,
     "metadata": {},
     "output_type": "execute_result"
    },
    {
     "data": {
      "image/png": "[encoded data removed]",
      "text/plain": [
       "<Figure size 432x288 with 1 Axes>"
      ]
     },
     "metadata": {
      "needs_background": "light"
     },
     "output_type": "display_data"
    }
   ],
   "source": [
    "values, bins, _ = plt.hist(pred[y_test == 1], normed=True)\n",
    "area = sum(np.diff(bins)*values)\n",
    "area"
   ]
  },
  {
   "cell_type": "code",
   "execution_count": 35,
   "metadata": {},
   "outputs": [],
   "source": [
    "scale_factor = 0.14\n",
    "(counts, bins) = np.histogram(pred[y_test == 1], bins=20)"
   ]
  },
  {
   "cell_type": "code",
   "execution_count": 36,
   "metadata": {},
   "outputs": [
    {
     "data": {
      "text/plain": [
       "<matplotlib.legend.Legend at 0x1b9fba7eb8>"
      ]
     },
     "execution_count": 36,
     "metadata": {},
     "output_type": "execute_result"
    },
    {
     "data": {
      "image/png": "[encoded data removed]",
      "text/plain": [
       "<Figure size 432x288 with 1 Axes>"
      ]
     },
     "metadata": {
      "needs_background": "light"
     },
     "output_type": "display_data"
    }
   ],
   "source": [
    "plt.figure()\n",
    "SUSY_cts, SUSY_bins,_  = plt.hist(bins[:-1], bins, weights = scale_factor * counts, histtype='step', label='SUSY signal')\n",
    "SM_cts, SM_bins,_      = plt.hist(pred[y_test == 0], bins=20, histtype='step', label='TTBar background')\n",
    "plt.xlabel('Assigned Binary Probability')\n",
    "plt.legend(loc='best')"
   ]
  },
  {
   "cell_type": "code",
   "execution_count": 36,
   "metadata": {},
   "outputs": [
    {
     "data": {
      "text/plain": [
       "245"
      ]
     },
     "execution_count": 36,
     "metadata": {},
     "output_type": "execute_result"
    }
   ],
   "source": [
    "bool_arr = pred[y_test == 0] > 0.8\n",
    "np.sum(bool_arr)"
   ]
  },
  {
   "cell_type": "code",
   "execution_count": 37,
   "metadata": {},
   "outputs": [
    {
     "data": {
      "text/plain": [
       "5995"
      ]
     },
     "execution_count": 37,
     "metadata": {},
     "output_type": "execute_result"
    }
   ],
   "source": [
    "bool_arr = pred[y_test == 1] > 0.8\n",
    "np.sum(bool_arr)"
   ]
  },
  {
   "cell_type": "code",
   "execution_count": 38,
   "metadata": {},
   "outputs": [
    {
     "data": {
      "text/plain": [
       "778.68"
      ]
     },
     "execution_count": 38,
     "metadata": {},
     "output_type": "execute_result"
    }
   ],
   "source": [
    "sum(SUSY_cts[16:20])"
   ]
  },
  {
   "cell_type": "code",
   "execution_count": 39,
   "metadata": {},
   "outputs": [
    {
     "data": {
      "text/plain": [
       "101.0"
      ]
     },
     "execution_count": 39,
     "metadata": {},
     "output_type": "execute_result"
    }
   ],
   "source": [
    "sum(SM_cts[16:20])"
   ]
  },
  {
   "cell_type": "code",
   "execution_count": 42,
   "metadata": {},
   "outputs": [
    {
     "data": {
      "text/plain": [
       "<keras.engine.sequential.Sequential at 0x1b93b7c048>"
      ]
     },
     "execution_count": 42,
     "metadata": {},
     "output_type": "execute_result"
    }
   ],
   "source": [
    "model"
   ]
  },
  {
   "cell_type": "code",
   "execution_count": 41,
   "metadata": {},
   "outputs": [
    {
     "name": "stdout",
     "output_type": "stream",
     "text": [
      "Saved model to disk\n"
     ]
    }
   ],
   "source": [
    "from keras.models import model_from_json\n",
    "# serialize model to JSON\n",
    "model_json = model.to_json()\n",
    "with open(\"model_mstop175.json\", \"w\") as json_file:\n",
    "    json_file.write(model_json)\n",
    "# serialize weights to HDF5\n",
    "model.save_weights(\"model_mstop175.h5\")\n",
    "print(\"Saved model to disk\")"
   ]
  },
  {
   "cell_type": "code",
   "execution_count": 37,
   "metadata": {},
   "outputs": [],
   "source": [
    "events     = uproot.open('emu_2016.root')['ttBar_treeVariables_step8']\n",
    "\n",
    "# load branches relevant to the analysis\n",
    "\n",
    "l_pt            = events['l_pt'].array()\n",
    "l_eta           = events['l_eta'].array()\n",
    "lbar_pt         = events['lbar_pt'].array()\n",
    "lbar_eta        = events['lbar_eta'].array()\n",
    "llbar_delta_phi = events['llbar_delta_phi'].array()\n",
    "llbar_delta_eta = events['llbar_delta_eta'].array()\n",
    "\n",
    "# convert to a dataframe\n",
    "l_arr    = [ l_pt, lbar_pt, l_eta, lbar_eta, abs(llbar_delta_eta), llbar_delta_phi]\n",
    "bkg_df   = pd.DataFrame(data = l_arr).T"
   ]
  },
  {
   "cell_type": "code",
   "execution_count": 38,
   "metadata": {},
   "outputs": [
    {
     "data": {
      "text/html": [
       "<div>\n",
       "<style scoped>\n",
       "    .dataframe tbody tr th:only-of-type {\n",
       "        vertical-align: middle;\n",
       "    }\n",
       "\n",
       "    .dataframe tbody tr th {\n",
       "        vertical-align: top;\n",
       "    }\n",
       "\n",
       "    .dataframe thead th {\n",
       "        text-align: right;\n",
       "    }\n",
       "</style>\n",
       "<table border=\"1\" class=\"dataframe\">\n",
       "  <thead>\n",
       "    <tr style=\"text-align: right;\">\n",
       "      <th></th>\n",
       "      <th>0</th>\n",
       "      <th>1</th>\n",
       "      <th>2</th>\n",
       "      <th>3</th>\n",
       "      <th>4</th>\n",
       "      <th>5</th>\n",
       "    </tr>\n",
       "  </thead>\n",
       "  <tbody>\n",
       "    <tr>\n",
       "      <td>0</td>\n",
       "      <td>74.467216</td>\n",
       "      <td>50.973518</td>\n",
       "      <td>-0.418409</td>\n",
       "      <td>0.587055</td>\n",
       "      <td>1.005464</td>\n",
       "      <td>2.802483</td>\n",
       "    </tr>\n",
       "    <tr>\n",
       "      <td>1</td>\n",
       "      <td>27.841042</td>\n",
       "      <td>26.756859</td>\n",
       "      <td>2.015959</td>\n",
       "      <td>0.991299</td>\n",
       "      <td>1.024660</td>\n",
       "      <td>0.353197</td>\n",
       "    </tr>\n",
       "    <tr>\n",
       "      <td>2</td>\n",
       "      <td>33.562599</td>\n",
       "      <td>23.000994</td>\n",
       "      <td>0.469944</td>\n",
       "      <td>-0.486257</td>\n",
       "      <td>0.956200</td>\n",
       "      <td>2.680645</td>\n",
       "    </tr>\n",
       "    <tr>\n",
       "      <td>3</td>\n",
       "      <td>108.975418</td>\n",
       "      <td>90.221825</td>\n",
       "      <td>1.056395</td>\n",
       "      <td>-0.713909</td>\n",
       "      <td>1.770305</td>\n",
       "      <td>2.046340</td>\n",
       "    </tr>\n",
       "    <tr>\n",
       "      <td>4</td>\n",
       "      <td>53.236568</td>\n",
       "      <td>20.296711</td>\n",
       "      <td>-1.560789</td>\n",
       "      <td>-0.513840</td>\n",
       "      <td>1.046949</td>\n",
       "      <td>1.433123</td>\n",
       "    </tr>\n",
       "    <tr>\n",
       "      <td>...</td>\n",
       "      <td>...</td>\n",
       "      <td>...</td>\n",
       "      <td>...</td>\n",
       "      <td>...</td>\n",
       "      <td>...</td>\n",
       "      <td>...</td>\n",
       "    </tr>\n",
       "    <tr>\n",
       "      <td>135692</td>\n",
       "      <td>38.186626</td>\n",
       "      <td>52.054928</td>\n",
       "      <td>0.245965</td>\n",
       "      <td>-0.921310</td>\n",
       "      <td>1.167275</td>\n",
       "      <td>0.675114</td>\n",
       "    </tr>\n",
       "    <tr>\n",
       "      <td>135693</td>\n",
       "      <td>142.667358</td>\n",
       "      <td>93.270966</td>\n",
       "      <td>-0.215162</td>\n",
       "      <td>2.310761</td>\n",
       "      <td>2.525923</td>\n",
       "      <td>2.553042</td>\n",
       "    </tr>\n",
       "    <tr>\n",
       "      <td>135694</td>\n",
       "      <td>52.220943</td>\n",
       "      <td>80.904778</td>\n",
       "      <td>1.273188</td>\n",
       "      <td>0.574369</td>\n",
       "      <td>0.698818</td>\n",
       "      <td>2.616055</td>\n",
       "    </tr>\n",
       "    <tr>\n",
       "      <td>135695</td>\n",
       "      <td>25.912148</td>\n",
       "      <td>73.027985</td>\n",
       "      <td>0.676635</td>\n",
       "      <td>-1.382806</td>\n",
       "      <td>2.059440</td>\n",
       "      <td>1.839178</td>\n",
       "    </tr>\n",
       "    <tr>\n",
       "      <td>135696</td>\n",
       "      <td>88.613556</td>\n",
       "      <td>42.066662</td>\n",
       "      <td>-2.100847</td>\n",
       "      <td>-1.204986</td>\n",
       "      <td>0.895861</td>\n",
       "      <td>0.006032</td>\n",
       "    </tr>\n",
       "  </tbody>\n",
       "</table>\n",
       "<p>135697 rows × 6 columns</p>\n",
       "</div>"
      ],
      "text/plain": [
       "                 0          1         2         3         4         5\n",
       "0        74.467216  50.973518 -0.418409  0.587055  1.005464  2.802483\n",
       "1        27.841042  26.756859  2.015959  0.991299  1.024660  0.353197\n",
       "2        33.562599  23.000994  0.469944 -0.486257  0.956200  2.680645\n",
       "3       108.975418  90.221825  1.056395 -0.713909  1.770305  2.046340\n",
       "4        53.236568  20.296711 -1.560789 -0.513840  1.046949  1.433123\n",
       "...            ...        ...       ...       ...       ...       ...\n",
       "135692   38.186626  52.054928  0.245965 -0.921310  1.167275  0.675114\n",
       "135693  142.667358  93.270966 -0.215162  2.310761  2.525923  2.553042\n",
       "135694   52.220943  80.904778  1.273188  0.574369  0.698818  2.616055\n",
       "135695   25.912148  73.027985  0.676635 -1.382806  2.059440  1.839178\n",
       "135696   88.613556  42.066662 -2.100847 -1.204986  0.895861  0.006032\n",
       "\n",
       "[135697 rows x 6 columns]"
      ]
     },
     "execution_count": 38,
     "metadata": {},
     "output_type": "execute_result"
    }
   ],
   "source": [
    "bkg_df"
   ]
  },
  {
   "cell_type": "code",
   "execution_count": 39,
   "metadata": {},
   "outputs": [],
   "source": [
    "bkg_mean = bkg_df.mean()\n",
    "bkg_std  = bkg_df.std()\n",
    "\n",
    "# normalize dataframe\n",
    "bkg_df   = (bkg_df - bkg_mean)/ bkg_std"
   ]
  },
  {
   "cell_type": "code",
   "execution_count": 40,
   "metadata": {},
   "outputs": [],
   "source": [
    "bkg_df.columns = ['l pt', 'lbar pt','l eta', 'lbar eta', 'llbar Delta Eta', 'llbar Delta Phi']"
   ]
  },
  {
   "cell_type": "code",
   "execution_count": 41,
   "metadata": {},
   "outputs": [
    {
     "data": {
      "text/html": [
       "<div>\n",
       "<style scoped>\n",
       "    .dataframe tbody tr th:only-of-type {\n",
       "        vertical-align: middle;\n",
       "    }\n",
       "\n",
       "    .dataframe tbody tr th {\n",
       "        vertical-align: top;\n",
       "    }\n",
       "\n",
       "    .dataframe thead th {\n",
       "        text-align: right;\n",
       "    }\n",
       "</style>\n",
       "<table border=\"1\" class=\"dataframe\">\n",
       "  <thead>\n",
       "    <tr style=\"text-align: right;\">\n",
       "      <th></th>\n",
       "      <th>l pt</th>\n",
       "      <th>lbar pt</th>\n",
       "      <th>l eta</th>\n",
       "      <th>lbar eta</th>\n",
       "      <th>llbar Delta Eta</th>\n",
       "      <th>llbar Delta Phi</th>\n",
       "    </tr>\n",
       "  </thead>\n",
       "  <tbody>\n",
       "    <tr>\n",
       "      <td>0</td>\n",
       "      <td>0.434275</td>\n",
       "      <td>-0.229873</td>\n",
       "      <td>-0.394593</td>\n",
       "      <td>0.541161</td>\n",
       "      <td>-0.112474</td>\n",
       "      <td>1.132268</td>\n",
       "    </tr>\n",
       "    <tr>\n",
       "      <td>1</td>\n",
       "      <td>-0.882741</td>\n",
       "      <td>-0.913013</td>\n",
       "      <td>1.884167</td>\n",
       "      <td>0.917388</td>\n",
       "      <td>-0.087623</td>\n",
       "      <td>-1.678226</td>\n",
       "    </tr>\n",
       "    <tr>\n",
       "      <td>2</td>\n",
       "      <td>-0.721128</td>\n",
       "      <td>-1.018963</td>\n",
       "      <td>0.436975</td>\n",
       "      <td>-0.457764</td>\n",
       "      <td>-0.176252</td>\n",
       "      <td>0.992463</td>\n",
       "    </tr>\n",
       "    <tr>\n",
       "      <td>3</td>\n",
       "      <td>1.409004</td>\n",
       "      <td>0.877300</td>\n",
       "      <td>0.985940</td>\n",
       "      <td>-0.669639</td>\n",
       "      <td>0.877700</td>\n",
       "      <td>0.264613</td>\n",
       "    </tr>\n",
       "    <tr>\n",
       "      <td>4</td>\n",
       "      <td>-0.165412</td>\n",
       "      <td>-1.095250</td>\n",
       "      <td>-1.463951</td>\n",
       "      <td>-0.483435</td>\n",
       "      <td>-0.058767</td>\n",
       "      <td>-0.439038</td>\n",
       "    </tr>\n",
       "    <tr>\n",
       "      <td>...</td>\n",
       "      <td>...</td>\n",
       "      <td>...</td>\n",
       "      <td>...</td>\n",
       "      <td>...</td>\n",
       "      <td>...</td>\n",
       "      <td>...</td>\n",
       "    </tr>\n",
       "    <tr>\n",
       "      <td>135692</td>\n",
       "      <td>-0.590517</td>\n",
       "      <td>-0.199367</td>\n",
       "      <td>0.227313</td>\n",
       "      <td>-0.862666</td>\n",
       "      <td>0.097009</td>\n",
       "      <td>-1.308835</td>\n",
       "    </tr>\n",
       "    <tr>\n",
       "      <td>135693</td>\n",
       "      <td>2.360676</td>\n",
       "      <td>0.963315</td>\n",
       "      <td>-0.204338</td>\n",
       "      <td>2.145404</td>\n",
       "      <td>1.855934</td>\n",
       "      <td>0.846041</td>\n",
       "    </tr>\n",
       "    <tr>\n",
       "      <td>135694</td>\n",
       "      <td>-0.194099</td>\n",
       "      <td>0.614472</td>\n",
       "      <td>1.188874</td>\n",
       "      <td>0.529354</td>\n",
       "      <td>-0.509462</td>\n",
       "      <td>0.918346</td>\n",
       "    </tr>\n",
       "    <tr>\n",
       "      <td>135695</td>\n",
       "      <td>-0.937225</td>\n",
       "      <td>0.392271</td>\n",
       "      <td>0.630454</td>\n",
       "      <td>-1.292177</td>\n",
       "      <td>1.252019</td>\n",
       "      <td>0.026900</td>\n",
       "    </tr>\n",
       "    <tr>\n",
       "      <td>135696</td>\n",
       "      <td>0.833857</td>\n",
       "      <td>-0.481131</td>\n",
       "      <td>-1.969488</td>\n",
       "      <td>-1.126681</td>\n",
       "      <td>-0.254368</td>\n",
       "      <td>-2.076589</td>\n",
       "    </tr>\n",
       "  </tbody>\n",
       "</table>\n",
       "<p>135697 rows × 6 columns</p>\n",
       "</div>"
      ],
      "text/plain": [
       "            l pt   lbar pt     l eta  lbar eta  llbar Delta Eta  \\\n",
       "0       0.434275 -0.229873 -0.394593  0.541161        -0.112474   \n",
       "1      -0.882741 -0.913013  1.884167  0.917388        -0.087623   \n",
       "2      -0.721128 -1.018963  0.436975 -0.457764        -0.176252   \n",
       "3       1.409004  0.877300  0.985940 -0.669639         0.877700   \n",
       "4      -0.165412 -1.095250 -1.463951 -0.483435        -0.058767   \n",
       "...          ...       ...       ...       ...              ...   \n",
       "135692 -0.590517 -0.199367  0.227313 -0.862666         0.097009   \n",
       "135693  2.360676  0.963315 -0.204338  2.145404         1.855934   \n",
       "135694 -0.194099  0.614472  1.188874  0.529354        -0.509462   \n",
       "135695 -0.937225  0.392271  0.630454 -1.292177         1.252019   \n",
       "135696  0.833857 -0.481131 -1.969488 -1.126681        -0.254368   \n",
       "\n",
       "        llbar Delta Phi  \n",
       "0              1.132268  \n",
       "1             -1.678226  \n",
       "2              0.992463  \n",
       "3              0.264613  \n",
       "4             -0.439038  \n",
       "...                 ...  \n",
       "135692        -1.308835  \n",
       "135693         0.846041  \n",
       "135694         0.918346  \n",
       "135695         0.026900  \n",
       "135696        -2.076589  \n",
       "\n",
       "[135697 rows x 6 columns]"
      ]
     },
     "execution_count": 41,
     "metadata": {},
     "output_type": "execute_result"
    }
   ],
   "source": [
    "bkg_df"
   ]
  },
  {
   "cell_type": "code",
   "execution_count": 42,
   "metadata": {},
   "outputs": [],
   "source": [
    "predicted = model.predict(bkg_df)"
   ]
  },
  {
   "cell_type": "code",
   "execution_count": 43,
   "metadata": {},
   "outputs": [
    {
     "data": {
      "text/plain": [
       "array([[0.99577177],\n",
       "       [0.9999999 ],\n",
       "       [0.9999959 ],\n",
       "       ...,\n",
       "       [0.99999994],\n",
       "       [1.        ],\n",
       "       [0.99365073]], dtype=float32)"
      ]
     },
     "execution_count": 43,
     "metadata": {},
     "output_type": "execute_result"
    }
   ],
   "source": [
    "predicted"
   ]
  },
  {
   "cell_type": "code",
   "execution_count": 44,
   "metadata": {},
   "outputs": [
    {
     "data": {
      "text/plain": [
       "(array([  5323.,   3129.,   2669.,   1829.,   1792.,   1870.,   2289.,\n",
       "          2942.,   4737., 109117.]),\n",
       " array([0.05813667, 0.15232301, 0.24650934, 0.34069568, 0.43488201,\n",
       "        0.52906835, 0.62325466, 0.717441  , 0.8116273 , 0.9058137 ,\n",
       "        1.        ], dtype=float32),\n",
       " <a list of 10 Patch objects>)"
      ]
     },
     "execution_count": 44,
     "metadata": {},
     "output_type": "execute_result"
    },
    {
     "data": {
      "image/png": "[encoded data removed]",
      "text/plain": [
       "<Figure size 432x288 with 1 Axes>"
      ]
     },
     "metadata": {
      "needs_background": "light"
     },
     "output_type": "display_data"
    }
   ],
   "source": [
    "plt.hist(predicted)"
   ]
  },
  {
   "cell_type": "code",
   "execution_count": null,
   "metadata": {},
   "outputs": [],
   "source": []
  },
  {
   "cell_type": "code",
   "execution_count": 38,
   "metadata": {},
   "outputs": [
    {
     "name": "stderr",
     "output_type": "stream",
     "text": [
      "/Users/amandeepsinghbakshi/anaconda3/lib/python3.7/site-packages/ipykernel_launcher.py:1: MatplotlibDeprecationWarning: \n",
      "The 'normed' kwarg was deprecated in Matplotlib 2.1 and will be removed in 3.1. Use 'density' instead.\n",
      "  \"\"\"Entry point for launching an IPython kernel.\n",
      "/Users/amandeepsinghbakshi/anaconda3/lib/python3.7/site-packages/ipykernel_launcher.py:2: MatplotlibDeprecationWarning: \n",
      "The 'normed' kwarg was deprecated in Matplotlib 2.1 and will be removed in 3.1. Use 'density' instead.\n",
      "  \n"
     ]
    },
    {
     "data": {
      "text/plain": [
       "(array([5.43054079e-01, 1.98753231e-01, 5.01343321e-02, 1.39794203e-02,\n",
       "        3.98727790e-03, 1.57455569e-03, 4.49017782e-04, 2.57436862e-04,\n",
       "        8.38166526e-05, 6.58559413e-05, 3.59214225e-05, 0.00000000e+00,\n",
       "        1.19738075e-05, 1.19738075e-05, 0.00000000e+00, 0.00000000e+00,\n",
       "        0.00000000e+00, 0.00000000e+00, 0.00000000e+00, 5.98690376e-06]),\n",
       " array([-1.10359286,  0.12732047,  1.35823381,  2.58914714,  3.82006048,\n",
       "         5.05097382,  6.28188715,  7.51280049,  8.74371383,  9.97462716,\n",
       "        11.2055405 , 12.43645383, 13.66736717, 14.89828051, 16.12919384,\n",
       "        17.36010718, 18.59102052, 19.82193385, 21.05284719, 22.28376052,\n",
       "        23.51467386]),\n",
       " <a list of 1 Patch objects>)"
      ]
     },
     "execution_count": 38,
     "metadata": {},
     "output_type": "execute_result"
    },
    {
     "data": {
      "image/png": "[encoded data removed]",
      "text/plain": [
       "<Figure size 432x288 with 1 Axes>"
      ]
     },
     "metadata": {
      "needs_background": "light"
     },
     "output_type": "display_data"
    }
   ],
   "source": [
    "plt.hist(bkg_df['l pt'], bins=20, normed=True, histtype='step', label='SM ttbar')\n",
    "plt.hist(bkg_df['lbar pt'], bins=20, normed=True, histtype='step', label='SM ttbar')"
   ]
  },
  {
   "cell_type": "code",
   "execution_count": 41,
   "metadata": {},
   "outputs": [],
   "source": [
    "pred = model.predict(x_test)"
   ]
  },
  {
   "cell_type": "code",
   "execution_count": 42,
   "metadata": {},
   "outputs": [
    {
     "data": {
      "text/plain": [
       "(array([ 597., 2066., 2137., 3415., 3306., 1825.,  799.,  512.,  533.,\n",
       "        6940.]),\n",
       " array([0.14526889, 0.230742  , 0.3162151 , 0.40168822, 0.48716134,\n",
       "        0.57263446, 0.6581076 , 0.74358064, 0.82905376, 0.9145269 ,\n",
       "        1.        ], dtype=float32),\n",
       " <a list of 10 Patch objects>)"
      ]
     },
     "execution_count": 42,
     "metadata": {},
     "output_type": "execute_result"
    },
    {
     "data": {
      "image/png": "[encoded data removed]",
      "text/plain": [
       "<Figure size 432x288 with 1 Axes>"
      ]
     },
     "metadata": {
      "needs_background": "light"
     },
     "output_type": "display_data"
    }
   ],
   "source": [
    "plt.hist(pred)"
   ]
  },
  {
   "cell_type": "code",
   "execution_count": null,
   "metadata": {},
   "outputs": [],
   "source": []
  }
 ],
 "metadata": {
  "kernelspec": {
   "display_name": "Python 3",
   "language": "python",
   "name": "python3"
  },
  "language_info": {
   "codemirror_mode": {
    "name": "ipython",
    "version": 3
   },
   "file_extension": ".py",
   "mimetype": "text/x-python",
   "name": "python",
   "nbconvert_exporter": "python",
   "pygments_lexer": "ipython3",
   "version": "3.7.3"
  }
 },
 "nbformat": 4,
 "nbformat_minor": 2
}
