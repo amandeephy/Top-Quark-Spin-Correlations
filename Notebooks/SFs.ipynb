{
 "cells": [
  {
   "cell_type": "code",
   "execution_count": 1,
   "id": "1873f617",
   "metadata": {},
   "outputs": [],
   "source": [
    "import math"
   ]
  },
  {
   "cell_type": "code",
   "execution_count": 2,
   "id": "7ec7cb8c",
   "metadata": {},
   "outputs": [],
   "source": [
    "# From the DAS entries\n",
    "n_st   = 11388200\n",
    "n_vv   = 20974626\n",
    "n_tt   = 18932274\n",
    "n_sat  = 12000000\n",
    "n_SUSY = 22734419"
   ]
  },
  {
   "cell_type": "code",
   "execution_count": 3,
   "id": "eca9fb07",
   "metadata": {},
   "outputs": [],
   "source": [
    "lumi   = 3000 * 1000"
   ]
  },
  {
   "cell_type": "code",
   "execution_count": 4,
   "id": "c61fdf90",
   "metadata": {},
   "outputs": [],
   "source": [
    "# Inclusive samples\n",
    "xs_st   = 84.4\n",
    "xs_sat  = 84.4\n",
    "xs_vv   = 2\n",
    "\n",
    "# Dilepton samples, but inclusive xsection mentioned below\n",
    "xs_tt   = 966\n",
    "xs_SUSY = 885.8"
   ]
  },
  {
   "cell_type": "code",
   "execution_count": 5,
   "id": "d89d4e92",
   "metadata": {},
   "outputs": [],
   "source": [
    "# Branching ratio\n",
    "br_tt   = 0.1055\n",
    "br_SUSY = 0.1055"
   ]
  },
  {
   "cell_type": "code",
   "execution_count": 6,
   "id": "40a071e2",
   "metadata": {},
   "outputs": [],
   "source": [
    "w_st    =  (lumi * xs_st)  / (n_st)\n",
    "w_sat   =  (lumi * xs_sat) / (n_sat)\n",
    "w_vv    =  (lumi * xs_vv)  / (n_vv)\n",
    "\n",
    "w_tt    =  (lumi * xs_tt   * br_tt  )  / (n_tt)\n",
    "w_SUSY  =  (lumi * xs_SUSY * br_SUSY)  / (n_SUSY)"
   ]
  },
  {
   "cell_type": "code",
   "execution_count": 7,
   "id": "d234b1f1",
   "metadata": {},
   "outputs": [
    {
     "name": "stdout",
     "output_type": "stream",
     "text": [
      "22.23353997997928 21.1 0.2860599278385226 16.14909017268607 12.33177324654745\n"
     ]
    }
   ],
   "source": [
    "print(w_st, w_sat, w_vv, w_tt, w_SUSY)"
   ]
  },
  {
   "cell_type": "code",
   "execution_count": 8,
   "id": "98705397",
   "metadata": {},
   "outputs": [],
   "source": [
    "# Inclusive samples\n",
    "xs_st   = 71.7\n",
    "xs_sat  = 71.7\n",
    "xs_vv   = 2\n",
    "\n",
    "# Dilepton samples, but inclusive xsection mentioned below\n",
    "xs_tt   = 831\n",
    "xs_SUSY = 880"
   ]
  },
  {
   "cell_type": "code",
   "execution_count": 9,
   "id": "c30d185e",
   "metadata": {},
   "outputs": [],
   "source": [
    "lumi    = 36 * 1000"
   ]
  },
  {
   "cell_type": "code",
   "execution_count": 10,
   "id": "09d80fad",
   "metadata": {},
   "outputs": [],
   "source": [
    "w_st    =  (lumi * xs_st)  / (n_st)\n",
    "w_sat   =  (lumi * xs_sat) / (n_sat)\n",
    "w_vv    =  (lumi * xs_vv)  / (n_vv)\n",
    "\n",
    "w_tt    =  (lumi * xs_tt   * br_tt  )  / (n_tt)\n",
    "w_SUSY  =  (lumi * xs_SUSY * br_SUSY)  / (n_SUSY)"
   ]
  },
  {
   "cell_type": "code",
   "execution_count": 11,
   "id": "3ec2de5b",
   "metadata": {},
   "outputs": [
    {
     "name": "stdout",
     "output_type": "stream",
     "text": [
      "0.2266556611229167 0.2151 0.003432719134062271 0.1667067569379146 0.147012334029737\n"
     ]
    }
   ],
   "source": [
    "print(w_st, w_sat, w_vv, w_tt, w_SUSY)"
   ]
  },
  {
   "cell_type": "code",
   "execution_count": null,
   "id": "5c6af081",
   "metadata": {},
   "outputs": [],
   "source": []
  }
 ],
 "metadata": {
  "kernelspec": {
   "display_name": "Python 3",
   "language": "python",
   "name": "python3"
  },
  "language_info": {
   "codemirror_mode": {
    "name": "ipython",
    "version": 3
   },
   "file_extension": ".py",
   "mimetype": "text/x-python",
   "name": "python",
   "nbconvert_exporter": "python",
   "pygments_lexer": "ipython3",
   "version": "3.8.8"
  }
 },
 "nbformat": 4,
 "nbformat_minor": 5
}
