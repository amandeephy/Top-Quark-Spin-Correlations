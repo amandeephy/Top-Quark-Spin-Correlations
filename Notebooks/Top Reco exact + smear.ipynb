{
 "cells": [
  {
   "cell_type": "code",
   "execution_count": 1,
   "metadata": {},
   "outputs": [
    {
     "name": "stdout",
     "output_type": "stream",
     "text": [
      "Welcome to JupyROOT 6.22/00\n"
     ]
    }
   ],
   "source": [
    "import sys\n",
    "import math\n",
    "import uproot\n",
    "import operator\n",
    "import numpy as np\n",
    "import ROOT  as r\n",
    "import matplotlib.pyplot as plt\n",
    "from   scipy.optimize    import leastsq\n",
    "from   scipy             import stats"
   ]
  },
  {
   "cell_type": "code",
   "execution_count": 2,
   "metadata": {},
   "outputs": [],
   "source": [
    "def deltaphi(e_phi, m_phi) :\n",
    "    d_phi =  e_phi - m_phi\n",
    "    if (d_phi >  np.pi) : d_phi -= 2*np.pi\n",
    "    if (d_phi < -np.pi) : d_phi += 2*np.pi\n",
    "    return d_phi"
   ]
  },
  {
   "cell_type": "code",
   "execution_count": 3,
   "metadata": {},
   "outputs": [],
   "source": [
    "def dR(e_phi, e_eta, m_phi, m_eta) :\n",
    "    d_eta = abs(e_eta - m_eta)\n",
    "    d_phi = deltaphi(e_phi, m_phi)\n",
    "    return np.sqrt(d_phi**2 + d_eta**2)"
   ]
  },
  {
   "cell_type": "code",
   "execution_count": 4,
   "metadata": {},
   "outputs": [],
   "source": [
    "# Implemented from https://gitlab.cern.ch/TopAnalysis/Configuration/analysis/common/src/KinematicReconstruction.cc\n",
    "\n",
    "def angle_rot(e, vect_sm) :                       # alpha should be passed, vect_sm is the smeared 4 vector to returned by reference\n",
    "    \n",
    "    #if abs(vect_sm.Px()) < e  : vect_sm.setPx(0)\n",
    "    #if abs(vect_sm.Py()) < e  : vect_sm.setPy(0)\n",
    "    #if abs(vect_sm.Pz()) < e  : vect_sm.setPz(0)\n",
    "    \n",
    "    alpha = np.random.normal(0, 1)                 # should be related to vect_sm angular resolution\n",
    "    phi   = 2 * np.pi * np.random.uniform(-1 , 1)   \n",
    "    pz_1  = vect_sm.Vect().Mag() * np.cos(alpha)\n",
    "    px_1  = vect_sm.Vect().Mag() * np.sin(alpha) * np.sin(phi)\n",
    "    py_1  = vect_sm.Vect().Mag() * np.sin(alpha) * np.cos(phi)\n",
    "    \n",
    "    if (vect_sm.Py() != 0 or vect_sm.Pz() != 0) :\n",
    "        d = np.sqrt(vect_sm.Pz()**2 + vect_sm.Py()**2)\n",
    "        p = vect_sm.Vect().Mag()\n",
    "        \n",
    "        x1 = d/p \n",
    "        y1 = 0\n",
    "        z1 = vect_sm.Px() / p\n",
    "        \n",
    "        x2 = -(vect_sm.Px() * vect_sm.Py()) / (d * p)\n",
    "        y2 =   vect_sm.Pz() / d\n",
    "        z2 =   vect_sm.Py() / p \n",
    "        \n",
    "        x3 = -(vect_sm.Px() * vect_sm.Pz()) / (d * p)\n",
    "        y3 = - vect_sm.Py() / d\n",
    "        z3 =   vect_sm.Pz() / p     \n",
    "        \n",
    "        vect_sm.SetPx(x1*px_1 + y1*py_1 + z1*pz_1)\n",
    "        vect_sm.SetPy(x2*px_1 + y2*py_1 + z2*pz_1)\n",
    "        vect_sm.SetPz(x3*px_1 + y3*py_1 + z3*pz_1)\n",
    "        vect_sm.SetE(vect_sm.E())\n",
    "        \n",
    "        \n",
    "    if (vect_sm.Px()==0 and vect_sm.Py()==0 and vect_sm.Pz()==0):\n",
    "        vect_sm.SetPx(vect_sm.Px())\n",
    "        vect_sm.SetPy(vect_sm.Py())\n",
    "        vect_sm.SetPz(vect_sm.Pz())\n",
    "        vect_sm.SetE(vect_sm.E())\n",
    "    \n",
    "    if (vect_sm.Px()!=0 and vect_sm.Py()==0 and vect_sm.Pz()==0) : \n",
    "        vect_sm.SetPx(pz_1)\n",
    "        vect_sm.SetPy(px_1)\n",
    "        vect_sm.SetPz(py_1)\n",
    "        vect_sm.SetE(vect_sm.E())"
   ]
  },
  {
   "cell_type": "code",
   "execution_count": 5,
   "metadata": {},
   "outputs": [],
   "source": [
    "# Implemented from https://gitlab.cern.ch/TopAnalysis/Configuration/analysis/common/src/KinematicReconstruction.cc\n",
    "\n",
    "def try_smear(jet1, jet2, lep1, lep2, metx, mety) :\n",
    "    \n",
    "    ttbar_mass = []\n",
    "    chi_sq     = []\n",
    "    \n",
    "    if  ( ((lep1 + lep2).M() > 100) or ((jet1 + jet1).M() > 100) ) : return 0\n",
    "    \n",
    "    # Define met, not sure what Vx is\n",
    "    met     = ROOT.TVector3(metx, mety ,0)\n",
    "    vX_reco = - jet1.Vect() - jet2.Vect() - lep1.Vect() - lep2.Vect() - met\n",
    "    \n",
    "    for i in range(100) :\n",
    "        \n",
    "        met_sm  = ROOT.TLorentzVector()\n",
    "        jet1_sm = ROOT.TLorentzVector(jet1)\n",
    "        jet2_sm = ROOT.TLorentzVector(jet2)\n",
    "        lep1_sm = ROOT.TLorentzVector(lep1)\n",
    "        lep2_sm = ROOT.TLorentzVector(lep2)\n",
    "        \n",
    "        metV3_sm = ROOT.TVector3()\n",
    "        \n",
    "        # Jet energy based smearing \n",
    "        #fB1 = np.random.uniform(low= 1.0, high=1.04) # From Jet Energy Resolution\n",
    "        fB1 = np.random.normal(1.0, 0.05)\n",
    "        xB1 = np.sqrt((fB1**2 * jet1_sm.E()**2 - jet1_sm.M2()) / (jet1_sm.P() ** 2))\n",
    "\n",
    "        jet1_sm.SetXYZT(jet1_sm.Px()*xB1, jet1_sm.Py()*xB1, jet1_sm.Pz()*xB1, jet1_sm.E()*fB1)\n",
    "        angle_rot(0.001, jet1_sm)\n",
    "\n",
    "        #fB2 = np.random.uniform(low= 1.0, high=1.04) # From Jet Energy Resolution\n",
    "        fB2 = np.random.normal(1.0, 0.05)\n",
    "        xB2 = np.sqrt((fB2**2 * jet2_sm.E()**2  - jet2_sm.M2()) / (jet2_sm.P() ** 2))\n",
    "\n",
    "        jet2_sm.SetXYZT(jet2_sm.Px()*xB2, jet2_sm.Py()*xB2, jet2_sm.Pz()*xB2, jet2_sm.E()*fB2)\n",
    "        angle_rot(0.001, jet2_sm)\n",
    "\n",
    "        # Lepton energy based smearing \n",
    "        #fL1 = np.random.uniform(low= 1.0, high=1.02) # From Lep Energy Resolution\n",
    "        fL1 = np.random.normal(1.0, 0.01)        \n",
    "        xL1 = np.sqrt((fL1**2 * lep1_sm.E()**2  - lep1_sm.M2()) / (lep1_sm.P() ** 2))\n",
    "\n",
    "        lep1_sm.SetXYZT(lep1_sm.Px()*xB1, lep1_sm.Py()*xB1, lep1_sm.Pz()*xB1, lep1_sm.E()*fB1)\n",
    "        angle_rot(0.001, lep1_sm)\n",
    "\n",
    "        #fL2 = np.random.uniform(low= 1.0, high=1.02) # From Lep Energy Resolution,\n",
    "        fL2 = np.random.normal(1.0, 0.01)  \n",
    "        xL2 = np.sqrt((fL2**2 * lep2_sm.E()**2  - lep2_sm.M2()) / (lep2_sm.P() ** 2))\n",
    "\n",
    "        lep2_sm.SetXYZT(lep2_sm.Px()*xB2, lep2_sm.Py()*xB2, lep2_sm.Pz()*xB2, lep2_sm.E()*fB2)\n",
    "        angle_rot(0.001, lep2_sm)\n",
    "\n",
    "        # Adjust MET so that it is still balanced\n",
    "        metV3_sm = -jet1_sm.Vect() - jet2_sm.Vect() - lep1_sm.Vect() - lep2_sm.Vect()- vX_reco\n",
    "        \n",
    "        met_sm.SetXYZM(metV3_sm.Px(),metV3_sm.Py(),0,0)\n",
    "\n",
    "        #Maybe see if a solution exists or not\n",
    "        try    :\n",
    "            d          = doubleNeutrinoSolutions(jet1_sm, jet2_sm, lep1_sm, lep2_sm, met_sm.Px(), met_sm.Py())\n",
    "            neutrino1  = Convertnuto4vec(d.nunu_s,0)\n",
    "            neutrino2  = Convertnuto4vec(d.nunu_s,1)\n",
    "\n",
    "            top1 = jet1_sm + lep1_sm + neutrino1\n",
    "            top2 = jet2_sm + lep2_sm + neutrino2\n",
    "            ttbar_mass.append((top1   + top2).M())\n",
    "\n",
    "        except np.linalg.LinAlgError :\n",
    "            # Alternative pairing\n",
    "            try :\n",
    "                d_alt      = doubleNeutrinoSolutions(jet2_sm, jet1_sm, lep1_sm, lep2_sm, met_sm.Px(), met_sm.Py())\n",
    "                neutrino1  = Convertnuto4vec(d_alt.nunu_s,0)\n",
    "                neutrino2  = Convertnuto4vec(d_alt.nunu_s,1)\n",
    "\n",
    "                top1 = jet2_sm + lep1_sm + neutrino1\n",
    "                top2 = jet1_sm + lep2_sm + neutrino2\n",
    "                ttbar_mass.append((top1   + top2).M())\n",
    "\n",
    "            except np.linalg.LinAlgError as err:\n",
    "                if 'Singular matrix' in str(err): \n",
    "                    continue\n",
    "                else:\n",
    "                    raise\n",
    "\n",
    "    ttbar_mass = np.array(ttbar_mass)\n",
    "    if len(ttbar_mass) == 0 :\n",
    "        return 0\n",
    "    else : \n",
    "        return ttbar_mass.min()"
   ]
  },
  {
   "cell_type": "code",
   "execution_count": 6,
   "metadata": {},
   "outputs": [],
   "source": [
    "mT = 172.5   # GeV : top quark mass\n",
    "mW = 80.385  # GeV : W boson mass\n",
    "mN = 0       # GeV : neutrino mass\n",
    "\n",
    "\n",
    "def UnitCircle():\n",
    "    '''Unit circle in extended representation'''\n",
    "    return np.diag([1, 1, -1])\n",
    "\n",
    "\n",
    "def cofactor(A, i, j):\n",
    "    '''Cofactor[i,j] of 3x3 matrix A'''\n",
    "    a = A[not i:2 if i==2 else None:2 if i==1 else 1,\n",
    "          not j:2 if j==2 else None:2 if j==1 else 1]\n",
    "    return (-1)**(i+j) * (a[0,0]*a[1,1] - a[1,0]*a[0,1])\n",
    "\n",
    "\n",
    "def R(axis, angle):\n",
    "    '''Rotation matrix about x(0),y(1), or z(2) axis'''\n",
    "    c, s = math.cos(angle), math.sin(angle)\n",
    "    R = c * np.eye(3)\n",
    "    for i in [-1, 0, 1]:\n",
    "        R[(axis-i) % 3, (axis+i) % 3] = i*s + (1 - i*i)\n",
    "    return R\n",
    "\n",
    "\n",
    "def Derivative():\n",
    "    '''Matrix to differentiate [cos(t),sin(t),1]'''\n",
    "    return R(2, math.pi / 2).dot(np.diag([1, 1, 0]))\n",
    "\n",
    "\n",
    "def multisqrt(y):\n",
    "    '''Valid real solutions to y=x*x'''\n",
    "    return ([] if y < 0 else\n",
    "            [0] if y == 0 else\n",
    "            (lambda r: [-r, r])(math.sqrt(y)))\n",
    "\n",
    "\n",
    "def factor_degenerate(G, zero=0):\n",
    "    '''Linear factors of degenerate quadratic polynomial'''\n",
    "    if G[0,0] == 0 == G[1,1]:\n",
    "        return [[G[0,1], 0, G[1,2]],\n",
    "                [0, G[0,1], G[0,2] - G[1,2]]]\n",
    "\n",
    "    swapXY = abs(G[0,0]) > abs(G[1,1])\n",
    "    Q = G[(1,0,2),][:,(1,0,2)] if swapXY else G\n",
    "    Q /= Q[1,1]\n",
    "    q22 = cofactor(Q, 2, 2)\n",
    "\n",
    "    if -q22 <= zero:\n",
    "        lines = [[Q[0,1], Q[1,1], Q[1,2]+s]\n",
    "                 for s in multisqrt(-cofactor(Q, 0, 0))]\n",
    "    else:\n",
    "        x0, y0 = [cofactor(Q, i, 2) / q22 for i in [0, 1]]\n",
    "        lines = [[m, Q[1,1], -Q[1,1]*y0 - m*x0]\n",
    "                 for m in [Q[0,1] + s\n",
    "                           for s in multisqrt(-q22)]]\n",
    "\n",
    "    return [[L[swapXY],L[not swapXY],L[2]] for L in lines]\n",
    "\n",
    "\n",
    "def intersections_ellipse_line(ellipse, line, zero=1e-12):\n",
    "    '''Points of intersection between ellipse and line'''\n",
    "    _,V = np.linalg.eig(np.cross(line,ellipse).T)\n",
    "    sols = sorted([(v.real / v[2].real,\n",
    "                    np.dot(line,v.real)**2 +\n",
    "                    np.dot(v.real,ellipse).dot(v.real)**2)\n",
    "                    for v in V.T],\n",
    "                    key=lambda s: s[1])[:2]\n",
    "    return [s for s, k in sols if k < zero]\n",
    "\n",
    "\n",
    "def intersections_ellipses(A, B, returnLines=False):\n",
    "    '''Points of intersection between two ellipses'''\n",
    "    LA = np.linalg\n",
    "    if abs(LA.det(B)) > abs(LA.det(A)): A,B = B,A\n",
    "    e = next(e.real for e in LA.eigvals(LA.inv(A).dot(B))\n",
    "             if not e.imag)\n",
    "    lines = factor_degenerate(B - e*A)\n",
    "    points = sum([intersections_ellipse_line(A,L)\n",
    "                  for L in lines],[])\n",
    "    return (points,lines) if returnLines else points\n",
    "\n",
    "\n",
    "class nuSolutionSet(object):\n",
    "    '''Definitions for nu analytic solution, t->b,mu,nu'''\n",
    "\n",
    "    def __init__(self, b, mu, mW2=mW**2, mT2=mT**2, mN2=mN**2):\n",
    "        \n",
    "        c = r.Math.VectorUtil.CosTheta(b,mu)\n",
    "        s = math.sqrt(1-c**2)\n",
    "\n",
    "        x0p = - (mT2 - mW2 - b.M2()) / (2*b.E())\n",
    "        x0  = - (mW2 - mu.M2() - mN2) / (2*mu.E())\n",
    "\n",
    "        Bb, Bm = b.Beta(), mu.Beta()\n",
    "\n",
    "        Sx = (x0 * Bm - mu.P()*(1-Bm**2)) / Bm**2\n",
    "        Sy = (x0p / Bb - c * Sx) / s\n",
    "\n",
    "        w  = (Bm / Bb - c) / s\n",
    "        w_ = (-Bm / Bb - c) / s\n",
    "\n",
    "        Om2  = w**2 + 1 - Bm**2\n",
    "        eps2 = (mW2 - mN2) * (1 - Bm**2)\n",
    "        x1   = Sx - (Sx+w*Sy) / Om2\n",
    "        y1   = Sy - (Sx+w*Sy) * w / Om2\n",
    "        Z2   = x1**2 * Om2 - (Sy-w*Sx)**2 - (mW2-x0**2-eps2)\n",
    "        Z    = math.sqrt(max(0, Z2))\n",
    "\n",
    "        for item in ['b','mu','c','s','x0','x0p',\n",
    "                     'Sx','Sy','w','w_','x1','y1',\n",
    "                     'Z','Om2','eps2','mW2']:\n",
    "            setattr(self, item, eval(item))\n",
    "\n",
    "    @property\n",
    "    def K(self):\n",
    "        '''Extended rotation from F' to F coord.'''\n",
    "        return np.array([[self.c, -self.s, 0, 0],\n",
    "                         [self.s,  self.c, 0, 0],\n",
    "                         [     0,       0, 1, 0],\n",
    "                         [     0,       0, 0, 1]])\n",
    "\n",
    "    @property\n",
    "    def A_mu(self):\n",
    "        '''F coord. constraint on W momentum: ellipsoid'''\n",
    "        B2   = self.mu.Beta()**2\n",
    "        SxB2 = self.Sx * B2\n",
    "        F    = self.mW2 - self.x0**2 - self.eps2\n",
    "        return np.array([[1-B2, 0, 0, SxB2],\n",
    "                         [   0, 1, 0,    0],\n",
    "                         [   0, 0, 1,    0],\n",
    "                         [SxB2, 0, 0,    F]])\n",
    "\n",
    "    @property\n",
    "    def A_b(self):\n",
    "        '''F coord. constraint on W momentum: ellipsoid'''\n",
    "        K, B = self.K, self.b.Beta()\n",
    "        mW2, x0p = self.mW2, self.x0p\n",
    "        A_b_ = np.array([[1-B*B,  0,  0,      B*x0p],\n",
    "                         [    0,  1,  0,          0],\n",
    "                         [    0,  0,  1,          0],\n",
    "                         [B*x0p,  0,  0, mW2-x0p**2]])\n",
    "        return K.dot(A_b_).dot(K.T)\n",
    "\n",
    "    @property\n",
    "    def R_T(self):\n",
    "        '''Rotation from F coord. to laboratory coord.'''\n",
    "        b_xyz = self.b.X(), self.b.Y(), self.b.Z()\n",
    "        R_z   = R(2, -self.mu.Phi())\n",
    "        R_y   = R(1, 0.5*math.pi - self.mu.Theta())\n",
    "        R_x   = next(R(0,-math.atan2(z,y))\n",
    "                   for x,y,z in (R_y.dot(R_z.dot(b_xyz)),))\n",
    "        return R_z.T.dot(R_y.T.dot(R_x.T))\n",
    "\n",
    "    @property\n",
    "    def H_tilde(self):\n",
    "        '''Transformation of t=[c,s,1] to p_nu: F coord.'''\n",
    "        x1, y1, p = self.x1, self.y1, self.mu.P()\n",
    "        Z, w, Om  = self.Z , self.w , math.sqrt(self.Om2)\n",
    "        return np.array([[  Z/Om, 0, x1-p],\n",
    "                         [w*Z/Om, 0,   y1],\n",
    "                         [     0, Z,    0]])\n",
    "\n",
    "    @property\n",
    "    def H(self):\n",
    "        '''Transformation of t=[c,s,1] to p_nu: lab coord.'''\n",
    "        return self.R_T.dot(self.H_tilde)\n",
    "\n",
    "    @property\n",
    "    def H_perp(self):\n",
    "        '''Transformation of t=[c,s,1] to pT_nu: lab coord.'''\n",
    "        return np.vstack([self.H[:2], [0, 0, 1]])\n",
    "\n",
    "    @property\n",
    "    def N(self):\n",
    "        '''Solution ellipse of pT_nu: lab coord.'''\n",
    "        HpInv = np.linalg.inv(self.H_perp)\n",
    "        return HpInv.T.dot(UnitCircle()).dot(HpInv)\n",
    "\n",
    "\n",
    "class doubleNeutrinoSolutions(object):\n",
    "    '''Solution pairs of neutrino momenta, tt -> leptons'''\n",
    "    def __init__(self, b, b_ , mu, mu_, metX, metY, mW2=mW**2, mT2=mT**2):\n",
    "        \n",
    "        self.solutionSets = [nuSolutionSet(B, M, mW2, mT2)\n",
    "                             for B,M in zip((b,b_),(mu,mu_))]\n",
    "\n",
    "        V0     = np.outer([metX, metY, 0], [0, 0, 1])\n",
    "        self.S = V0 - UnitCircle()\n",
    "\n",
    "        N, N_ = [ss.N for ss in self.solutionSets]\n",
    "        n_    = self.S.T.dot(N_).dot(self.S)\n",
    "\n",
    "        v  = intersections_ellipses(N, n_)\n",
    "        v_ = [self.S.dot(sol) for sol in v]\n",
    "\n",
    "        if not v and leastsq:\n",
    "            es  = [ss.H_perp for ss in self.solutionSets]\n",
    "            met = np.array([metX, metY, 1])\n",
    "\n",
    "            def nus(ts):\n",
    "                return tuple(e.dot([math.cos(t), math.sin(t), 1])\n",
    "                             for e, t in zip(es, ts))\n",
    "\n",
    "            def residuals(params):\n",
    "                return sum(nus(params), -met)[:2]\n",
    "\n",
    "            ts,_  = leastsq(residuals, [0, 0], ftol=5e-5, epsfcn=0.01)\n",
    "            v, v_ = [[i] for i in nus(ts)]\n",
    "      \n",
    "        for k, v in {'perp': v, 'perp_': v_, 'n_': n_}.items():\n",
    "            setattr(self, k, v)\n",
    "\n",
    "    @property\n",
    "    def nunu_s(self):\n",
    "        '''Solution pairs for neutrino momenta'''\n",
    "        K, K_ = [ss.H.dot(np.linalg.inv(ss.H_perp))\n",
    "                 for ss in self.solutionSets]\n",
    "        return [(K.dot(s), K_.dot(s_))\n",
    "                for s, s_ in zip(self.perp, self.perp_)]"
   ]
  },
  {
   "cell_type": "code",
   "execution_count": 7,
   "metadata": {},
   "outputs": [],
   "source": [
    "def Convertnuto4vec(nu,i):\n",
    "    neutrino = ROOT.TLorentzVector()\n",
    "    Px = nu[0][i][0]\n",
    "    Py = nu[0][i][1]\n",
    "    Pz = nu[0][i][2]\n",
    "    E  = math.sqrt(Px**2 + Py**2 + Pz**2)\n",
    "    neutrino.SetPxPyPzE(Px,Py,Pz,E)\n",
    "    return neutrino"
   ]
  },
  {
   "cell_type": "code",
   "execution_count": 8,
   "metadata": {},
   "outputs": [],
   "source": [
    "def Convertnuto4vec_new(nu):\n",
    "    nu_arr = []\n",
    "    # Solution number, nuetrino number, Px/y/z\n",
    "    for i in range(len(nu)):\n",
    "        for j in range(2): \n",
    "            neutrino = ROOT.TLorentzVector()\n",
    "            Px = nu[i][j][0]\n",
    "            Py = nu[i][j][1]\n",
    "            Pz = nu[i][j][2]\n",
    "            E  = math.sqrt(Px**2 + Py**2 + Pz**2)\n",
    "            neutrino.SetPxPyPzE(Px,Py,Pz,E)\n",
    "            nu_arr.append(neutrino)\n",
    "    return nu_arr"
   ]
  },
  {
   "cell_type": "code",
   "execution_count": 9,
   "metadata": {},
   "outputs": [],
   "source": [
    "tt_ptr        = uproot.open('ttbar_final.root')['Step8']\n",
    "\n",
    "tt_ST         = tt_ptr['ST'].array()\n",
    "tt_MET        = tt_ptr['MET'].array()\n",
    "tt_MET_phi    = tt_ptr['MET_phi'].array()\n",
    "\n",
    "tt_l_pt       = tt_ptr['l_pt'].array()\n",
    "tt_l_eta      = tt_ptr['l_eta'].array()\n",
    "tt_l_phi      = tt_ptr['l_phi'].array()\n",
    "tt_l_mass     = tt_ptr['l_mass'].array()\n",
    "\n",
    "tt_sl_pt      = tt_ptr['sl_pt'].array()\n",
    "tt_sl_eta     = tt_ptr['sl_eta'].array()\n",
    "tt_sl_phi     = tt_ptr['sl_phi'].array()\n",
    "tt_sl_mass    = tt_ptr['sl_mass'].array()\n",
    "\n",
    "tt_ljet_pt    = tt_ptr['ljet_pt'].array()\n",
    "tt_ljet_eta   = tt_ptr['ljet_eta'].array()\n",
    "tt_ljet_phi   = tt_ptr['ljet_phi'].array()\n",
    "\n",
    "tt_sljet_pt   = tt_ptr['sljet_pt'].array()\n",
    "tt_sljet_eta  = tt_ptr['sljet_eta'].array()\n",
    "tt_sljet_phi  = tt_ptr['sljet_phi'].array()"
   ]
  },
  {
   "cell_type": "markdown",
   "metadata": {},
   "source": [
    "## EXACT WHEN POSSIBLE, SMEAR THE REST"
   ]
  },
  {
   "cell_type": "code",
   "execution_count": 10,
   "metadata": {},
   "outputs": [
    {
     "name": "stderr",
     "output_type": "stream",
     "text": [
      "<ipython-input-6-d2c98e6ea2ab>:59: DeprecationWarning: In future, it will be an error for 'np.bool_' scalars to be interpreted as an index\n",
      "  return [[L[swapXY],L[not swapXY],L[2]] for L in lines]\n",
      "/Users/amandeepsinghbakshi/opt/anaconda3/lib/python3.8/site-packages/scipy/optimize/minpack.py:475: RuntimeWarning: Number of calls to function has reached maxfev = 600.\n",
      "  warnings.warn(errors[info][0], RuntimeWarning)\n"
     ]
    }
   ],
   "source": [
    "import ROOT\n",
    "\n",
    "no_sol    = 0\n",
    "tt_mass   = []\n",
    "selection = np.zeros(100000)\n",
    "\n",
    "needs_smear= 0 \n",
    "\n",
    "for i in range (100000) :\n",
    "    first_pair = 0\n",
    "    sec_pair   = 0\n",
    "    \n",
    "    jet1 = ROOT.TLorentzVector()\n",
    "    jet2 = ROOT.TLorentzVector()\n",
    "    lep1 = ROOT.TLorentzVector()\n",
    "    lep2 = ROOT.TLorentzVector()\n",
    "    \n",
    "    top1 = ROOT.TLorentzVector()\n",
    "    top2 = ROOT.TLorentzVector()\n",
    "    \n",
    "    atop1 = ROOT.TLorentzVector()\n",
    "    atop2 = ROOT.TLorentzVector()\n",
    "    \n",
    "    jet1.SetPtEtaPhiM(tt_ljet_pt[i] , tt_ljet_eta[i] , tt_ljet_phi[i] , 4.2)\n",
    "    jet2.SetPtEtaPhiM(tt_sljet_pt[i], tt_sljet_eta[i], tt_sljet_phi[i], 4.2)\n",
    "    \n",
    "    lep1.SetPtEtaPhiM(tt_l_pt[i] , tt_l_eta[i] , tt_l_phi[i] , tt_l_mass[i])\n",
    "    lep2.SetPtEtaPhiM(tt_sl_pt[i], tt_sl_eta[i], tt_sl_phi[i], tt_sl_mass[i])\n",
    "    \n",
    "    met_x   =  tt_MET[i] * np.cos(tt_MET_phi[i])\n",
    "    met_y   =  tt_MET[i] * np.sin(tt_MET_phi[i])\n",
    "\n",
    "    #Maybe see if a solution exists or not\n",
    "    try    :\n",
    "        d  = doubleNeutrinoSolutions(jet1, jet2, lep1, lep2, met_x, met_y)\n",
    "        first_pair  += 1\n",
    "        \n",
    "    except np.linalg.LinAlgError : pass\n",
    "        \n",
    "    # If not the first pairing, then the other one\n",
    "    try :\n",
    "        d_alt = doubleNeutrinoSolutions(jet2, jet1, lep1, lep2, met_x, met_y)\n",
    "        sec_pair += 1\n",
    "        \n",
    "    except np.linalg.LinAlgError: pass\n",
    "    \n",
    "    if (first_pair == 1 and sec_pair == 0) :\n",
    "        neutrino1  = Convertnuto4vec(d.nunu_s,0)\n",
    "        neutrino2  = Convertnuto4vec(d.nunu_s,1)\n",
    "        top1       = jet1 + lep1 + neutrino1\n",
    "        top2       = jet2 + lep2 + neutrino2\n",
    "        tt_mass.append((top1   + top2).M())\n",
    "        selection[i] = 1\n",
    "        \n",
    "    elif(sec_pair == 1  and first_pair == 0) :\n",
    "        neutrino1  = Convertnuto4vec(d_alt.nunu_s,0)\n",
    "        neutrino2  = Convertnuto4vec(d_alt.nunu_s,1)\n",
    "        top1       = jet1 + lep1 + neutrino1\n",
    "        top2       = jet2 + lep2 + neutrino2\n",
    "        tt_mass.append((top1   + top2).M())\n",
    "        selection[i] = 1\n",
    "        \n",
    "    elif(first_pair == 1 and sec_pair == 1) :\n",
    "        dr1 = dR(jet1.Phi(), jet1.Eta(), lep1.Phi(), lep1.Eta()) + dR(jet2.Phi(), jet2.Eta(), lep2.Phi(), lep2.Eta())\n",
    "        dr2 = dR(jet1.Phi(), jet1.Eta(), lep2.Phi(), lep2.Eta()) + dR(jet2.Phi(), jet2.Eta(), lep1.Phi(), lep1.Eta())\n",
    "        \n",
    "        if (dr1 < dr2) :\n",
    "            neutrino1  = Convertnuto4vec(d.nunu_s,0)\n",
    "            neutrino2  = Convertnuto4vec(d.nunu_s,1)\n",
    "        else:\n",
    "            neutrino1  = Convertnuto4vec(d_alt.nunu_s,0)\n",
    "            neutrino2  = Convertnuto4vec(d_alt.nunu_s,1)\n",
    "            \n",
    "        top1 = jet1 + lep1 + neutrino1\n",
    "        top2 = jet2 + lep2 + neutrino2\n",
    "        \n",
    "        tt_mass.append((top1   + top2).M())\n",
    "        selection[i] = 1\n",
    "    \n",
    "    # Finally try smearing by JER or LER\n",
    "    if (first_pair == 0 and sec_pair == 0) :\n",
    "        try :\n",
    "            tt_min = try_smear(jet1, jet2, lep1, lep2, met_x, met_y)\n",
    "            tt_mass.append(tt_min)\n",
    "            selection[i] = 1\n",
    "            needs_smear += 1\n",
    "\n",
    "        except np.linalg.LinAlgError as err:\n",
    "            if 'Singular matrix' in str(err): \n",
    "                no_sol += 1\n",
    "                continue\n",
    "            else:\n",
    "                raise"
   ]
  },
  {
   "cell_type": "code",
   "execution_count": 11,
   "metadata": {},
   "outputs": [],
   "source": [
    "np.savetxt('ttbar_mass_exact_and_smear_sol.txt', tt_mass)"
   ]
  },
  {
   "cell_type": "code",
   "execution_count": 12,
   "metadata": {},
   "outputs": [],
   "source": [
    "tt_gen_mass = np.loadtxt('ttbar_final_gen_mass.txt')"
   ]
  },
  {
   "cell_type": "code",
   "execution_count": 81,
   "metadata": {},
   "outputs": [
    {
     "data": {
      "text/plain": [
       "<matplotlib.legend.Legend at 0x7ff2d1297e80>"
      ]
     },
     "execution_count": 81,
     "metadata": {},
     "output_type": "execute_result"
    },
    {
     "data": {
      "image/png": "[encoded data removed]",
      "text/plain": [
       "<Figure size 720x576 with 1 Axes>"
      ]
     },
     "metadata": {
      "needs_background": "light"
     },
     "output_type": "display_data"
    }
   ],
   "source": [
    "tt_mass = np.array(tt_mass)\n",
    "fig, ax = plt.subplots(figsize=(10,8))\n",
    "mask1   = tt_mass > 200\n",
    "mask2   = tt_mass < 1500\n",
    "mask_fin = mask1 & mask2\n",
    "\n",
    "tt_gen_red = tt_gen_mass[:100000]\n",
    "ax.hist(tt_mass[mask_fin]   , histtype='step', label='ttbar reco', linewidth=1.5, bins=30, density=True)\n",
    "ax.hist(tt_gen_red[mask_fin], histtype='step', label='tt gen'    , linewidth=1.5, bins=30, density=True)\n",
    "ax.set_xlim(300, 1500)\n",
    "plt.xlabel('Top mass',  fontsize=15)\n",
    "plt.ylabel('AU',  fontsize=15)\n",
    "plt.legend(loc='upper right', fontsize=15)"
   ]
  },
  {
   "cell_type": "code",
   "execution_count": 165,
   "metadata": {},
   "outputs": [
    {
     "data": {
      "text/plain": [
       "<matplotlib.colorbar.Colorbar at 0x7ff2d3ec2910>"
      ]
     },
     "execution_count": 165,
     "metadata": {},
     "output_type": "execute_result"
    },
    {
     "data": {
      "image/png": "[encoded data removed]",
      "text/plain": [
       "<Figure size 720x576 with 2 Axes>"
      ]
     },
     "metadata": {
      "needs_background": "light"
     },
     "output_type": "display_data"
    }
   ],
   "source": [
    "tt_mass    = np.array(tt_mass)\n",
    "tt_gen_red = tt_gen_mass[:100000]\n",
    "mask_reco  = tt_mass < 1000\n",
    "mask_gen   = tt_gen_red < 1000\n",
    "mask_fin   = mask_reco & mask_gen\n",
    "samples    = len(tt_mass[mask_fin])\n",
    "\n",
    "heatmap,xedges,yedges = np.histogram2d(tt_gen_red[mask_fin], tt_mass[mask_fin],bins=50)\n",
    "extent=[xedges[0],xedges[-1],yedges[0],yedges[-1]]\n",
    "plt.figure(figsize=(10,8))\n",
    "plt.imshow(heatmap.T ,extent=extent, origin='lower', aspect='auto')\n",
    "plt.plot([0,1500],[0,1500],color='blue')\n",
    "plt.set_cmap('gist_heat_r')\n",
    "plt.xlabel(\"Top Mass True (samples: %.i)\" %samples, fontsize=15)\n",
    "plt.ylabel(\"Top Mass Pred\", fontsize=15)\n",
    "plt.title(\"Ellipse intersections jet pairing + smearings min mass\", fontsize=15)\n",
    "plt.xlim(300,1000)\n",
    "plt.ylim(300,1000)\n",
    "plt.colorbar()\n",
    "#plt.savefig('ellipse_int_heatmap_pairings.png')"
   ]
  },
  {
   "cell_type": "code",
   "execution_count": 27,
   "metadata": {},
   "outputs": [
    {
     "name": "stdout",
     "output_type": "stream",
     "text": [
      "M_visible::598.394\n",
      "ttbar Energy ::474.5668586069356\n",
      "Possible mass points ::\n",
      "[472.66680346934174]\n",
      "Gen mass ::400.8165486357359\n"
     ]
    }
   ],
   "source": [
    "idx  = 1\n",
    "jet1 = ROOT.TLorentzVector()\n",
    "jet2 = ROOT.TLorentzVector()\n",
    "lep1 = ROOT.TLorentzVector()\n",
    "lep2 = ROOT.TLorentzVector()\n",
    "\n",
    "jet1.SetPtEtaPhiM(tt_ljet_pt[idx] , tt_ljet_eta[idx] , tt_ljet_phi[idx] , 5)\n",
    "jet2.SetPtEtaPhiM(tt_sljet_pt[idx], tt_sljet_eta[idx], tt_sljet_phi[idx], 5)\n",
    "\n",
    "lep1.SetPtEtaPhiM(tt_l_pt[idx] , tt_l_eta[idx] , tt_l_phi[idx] , tt_l_mass[idx])\n",
    "lep2.SetPtEtaPhiM(tt_sl_pt[idx], tt_sl_eta[idx], tt_sl_phi[idx], tt_sl_mass[idx])\n",
    "\n",
    "met_x   =  tt_MET[idx] * np.cos(tt_MET_phi[idx]) \n",
    "met_y   =  tt_MET[idx] * np.sin(tt_MET_phi[idx]) \n",
    "  \n",
    "print('M_visible::' + str(tt_ST[idx]))\n",
    "\n",
    "d = doubleNeutrinoSolutions(jet1, jet2, lep1, lep2, met_x, met_y) \n",
    "n = Convertnuto4vec_new(d.nunu_s)\n",
    "mass_arr = []\n",
    "\n",
    "for i in range(0, len(n), 2) :\n",
    "    top1 = ROOT.TLorentzVector()\n",
    "    top2 = ROOT.TLorentzVector()\n",
    "\n",
    "    top1 = jet1 + lep1 + n[i]\n",
    "    top2 = jet2 + lep2 + n[i+1]\n",
    "    \n",
    "    mass_arr.append((top1 + top2).M())\n",
    "    \n",
    "print('ttbar Energy ::' + str((top1 + top2).E()))    \n",
    "print('Possible mass points ::')\n",
    "print(mass_arr)\n",
    "print('Gen mass ::' + str(tt_gen_mass[idx]))"
   ]
  },
  {
   "cell_type": "code",
   "execution_count": 22,
   "metadata": {},
   "outputs": [],
   "source": [
    "file_2016   = uproot.open('emu_steps.root')['ttBar_treeVariables_step8']\n",
    "m_ttbar     = file_2016['ttbar_mass'].array()\n",
    "gen_m_ttbar = file_2016['gen_ttbar_mass'].array()"
   ]
  },
  {
   "cell_type": "code",
   "execution_count": 164,
   "metadata": {},
   "outputs": [
    {
     "data": {
      "text/plain": [
       "<matplotlib.colorbar.Colorbar at 0x7ff2d4535790>"
      ]
     },
     "execution_count": 164,
     "metadata": {},
     "output_type": "execute_result"
    },
    {
     "data": {
      "image/png": "[encoded data removed]",
      "text/plain": [
       "<Figure size 720x576 with 2 Axes>"
      ]
     },
     "metadata": {
      "needs_background": "light"
     },
     "output_type": "display_data"
    }
   ],
   "source": [
    "m_ttbar_red     = m_ttbar[:100000]\n",
    "mask_reco       = m_ttbar_red < 1000\n",
    "gen_m_ttbar_red = gen_m_ttbar[:100000]\n",
    "mask_gen        = gen_m_ttbar_red < 1000\n",
    "mask_fin        = mask_reco & mask_gen\n",
    "samples         = len(m_ttbar_red[mask_fin])\n",
    "\n",
    "heatmap,xedges,yedges =np.histogram2d(gen_m_ttbar_red[mask_fin],m_ttbar_red[mask_fin],bins=50)\n",
    "extent=[xedges[0],xedges[-1],yedges[0],yedges[-1]]\n",
    "plt.figure(figsize=(10,8))\n",
    "plt.imshow(heatmap.T ,extent=extent, origin='lower', aspect='auto')\n",
    "plt.plot([0,1000],[0,1000],color='blue')\n",
    "plt.set_cmap('gist_heat_r')\n",
    "plt.xlabel(\"Top Mass True (samples: %.i)\" %samples, fontsize=15)\n",
    "plt.ylabel(\"Top Mass Pred\", fontsize=15)\n",
    "plt.title(\"Top Reco 2016 method\" , fontsize=15)\n",
    "plt.xlim(300,1000)\n",
    "plt.ylim(300,1000)\n",
    "plt.colorbar()\n",
    "    \n",
    "#plt.savefig('heatmap_2016_technique.jpg')"
   ]
  },
  {
   "cell_type": "code",
   "execution_count": 89,
   "metadata": {},
   "outputs": [],
   "source": [
    "def multigraph(pred, true, title, lower, upper, bins):\n",
    "    bins = np.histogram(true, bins=bins)[1]\n",
    "    bincountsx,binedgesx,binnumx = stats.binned_statistic(pred, pred, statistic='count', bins=bins)\n",
    "    bincountsy,binedgesy,binnumy = stats.binned_statistic(true, true, statistic='count', bins=bins)\n",
    "    \n",
    "    fig,axs = plt.subplots(2, gridspec_kw={'height_ratios':[3,1]}, figsize=(10,10))\n",
    "    fig.suptitle(title, fontsize=15)\n",
    "    axs[0].hist(pred, bins=bins, density=1, histtype='step', label = \"ttbar mass reco\", linewidth=1.5)\n",
    "    axs[0].hist(true, bins=bins, density=1, histtype='step', label = \"ttbar mass gen \", linewidth=1.5)\n",
    "    axs[0].set_ylabel(\"AU\", fontsize=15)\n",
    "    axs[0].set_xlabel(\"ttbar mass\", fontsize=15)\n",
    "    axs[0].legend(fontsize=15)\n",
    "    axs[0].set_xlim([lower,upper])\n",
    "\n",
    "    axs[0].tick_params(axis='x', labelsize=13)\n",
    "    axs[0].tick_params(axis='y', labelsize=13)\n",
    "    \n",
    "    binratio   = bincountsx/bincountsy\n",
    "    bincenters = (bins[1:]+bins[:-1])/2\n",
    "    bincentersfinal = bincenters[binratio!=0]\n",
    "    \n",
    "    biniszero =  binratio==0\n",
    "    binratio  =  binratio[binratio!=0]\n",
    "    binisnan  =  np.isnan(binratio)\n",
    "    binnonan  =~ binisnan\n",
    "    \n",
    "    axs[1].scatter(bincentersfinal[binnonan],binratio[binnonan])\n",
    "    axs[1].axhline(y=1)\n",
    "    axs[1].set_xlim(lower,upper)\n",
    "    axs[1].set_ylim(0.5  ,binratio.max())\n",
    "\n",
    "    axs[1].tick_params(axis='x', labelsize=13)\n",
    "    axs[1].tick_params(axis='y', labelsize=13)\n",
    "    \n",
    "    _,pval=stats.ks_2samp(true,pred)\n",
    "    #axs[1].set_xlabel(\"P-value: %.2e\" % pval)\n",
    "    #fig.savefig(\"Plots/%s_plots.jpg\" % title,bbox_inches='tight')"
   ]
  },
  {
   "cell_type": "code",
   "execution_count": 30,
   "metadata": {},
   "outputs": [],
   "source": [
    "for i in range(len(tt_mass)):\n",
    "    if i==3 or i==7:\n",
    "        bins=100\n",
    "        lower=-1\n",
    "        upper=5\n",
    "    elif i==11 or i==15:\n",
    "        bins=20\n",
    "        lower=-1.5\n",
    "        upper=4\n",
    "    else:\n",
    "        bins=50\n",
    "        lower=-6\n",
    "        upper=6"
   ]
  },
  {
   "cell_type": "code",
   "execution_count": 31,
   "metadata": {},
   "outputs": [],
   "source": [
    "def cuts(datain, datacheck, minval, maxval):\n",
    "    dataout = datain[np.logical_and(datacheck>minval,datacheck<maxval)]\n",
    "    return(dataout)\n",
    "\n",
    "def sem(values):\n",
    "    sem     = stats.sem(values)\n",
    "    return(sem)\n",
    "\n",
    "def plotgaussian(resids,title):\n",
    "    from matplotlib.pyplot import figure\n",
    "    figure(figsize=(8, 6))\n",
    "    resids.sort()\n",
    "    resmean = np.mean(resids)\n",
    "    resstd  = np.std(resids)\n",
    "    pdf     = stats.norm.pdf(resids,resmean,resstd)\n",
    "    \n",
    "    plt.hist(resids,bins=50,histtype='step',color='blue',density=1,label='Residuals')\n",
    "    plt.plot(resids,pdf,label=\"Normal Curve\",color='black')\n",
    "    plt.title(title)\n",
    "    plt.xlim(-800,800)\n",
    "    plt.axvline(resmean, label=\"Mean: %.2f\" % resmean, color='red') \n",
    "    \n",
    "    fwhm    = 2*np.sqrt(2*np.log(2))*resstd\n",
    "    samples = len(resids)\n",
    "    \n",
    "    plt.xlabel(\"FWHM: %.2f (samples: %.i)\" % (fwhm,samples))\n",
    "    plt.axvspan(resmean-fwhm/2,resmean+fwhm/2,facecolor='g',alpha=.5,label='FWHM')\n",
    "    plt.legend()"
   ]
  },
  {
   "cell_type": "code",
   "execution_count": 62,
   "metadata": {},
   "outputs": [],
   "source": [
    "from scipy.stats import norm\n",
    "def fit_gaussian(x):\n",
    "    mean, std = norm.fit(x)\n",
    "    return mean, std\n",
    "\n",
    "def plot_gaussian(x, mean, std):\n",
    "    x.sort()\n",
    "    plt.figure(figsize=(8, 6))\n",
    "    pdf = stats.norm.pdf(x ,mean, std)\n",
    "\n",
    "    plt.hist(x, bins=30, histtype='step'     ,color='blue' ,density=1, label='Residuals')\n",
    "    plt.plot(x, pdf    , label=\"Normal Curve\",color='black')\n",
    "    plt.xlim(-600,600)\n",
    "    plt.axvline(mean, label=\"Mean: %.2f\" % mean, color='red') \n",
    "\n",
    "    fwhm    = 2*np.sqrt(2*np.log(2))*std\n",
    "    samples = len(x)\n",
    "\n",
    "    plt.xlabel(\"STD: %.2f (samples: %.i)\" % (std,samples))\n",
    "    plt.axvspan(mean - fwhm/2, mean + fwhm/2,facecolor='g',alpha=.5,label='FWHM')\n",
    "    plt.legend()"
   ]
  },
  {
   "cell_type": "code",
   "execution_count": 166,
   "metadata": {},
   "outputs": [],
   "source": [
    "bins  = [0, 450, 550, 800, 1500]\n",
    "width = []\n",
    "err_x = []\n",
    "err_y = []\n",
    "\n",
    "for i in range(len(bins) - 1) :\n",
    "    residual  = m_ttbar -  gen_m_ttbar\n",
    "    temp_res  = cuts(residual, gen_m_ttbar, bins[i], bins[i+1])\n",
    "    temp_mask1 = temp_res < 1500\n",
    "    temp_mask  = temp_mask1 \n",
    "    mean, std  = fit_gaussian(temp_res[temp_mask]) \n",
    "    width.append(std)\n",
    "    err_x.append((bins[i+1] - bins[i]) * 0.5)\n",
    "    err_y.append(1./np.sqrt(len(temp_res)))"
   ]
  },
  {
   "cell_type": "code",
   "execution_count": 173,
   "metadata": {},
   "outputs": [],
   "source": [
    "d_width = []\n",
    "d_err_x = []\n",
    "d_err_y = []\n",
    "bin_centers = []\n",
    "\n",
    "mask_reco  = tt_mass < 1000\n",
    "mask_gen   = tt_gen_red < 1000\n",
    "mask_fin   = mask_reco & mask_gen\n",
    "samples    = len(tt_mass[mask_fin])\n",
    "\n",
    "for i in range(len(bins) - 1) :\n",
    "    residual  = tt_mass[mask_fin] -  tt_gen_red[mask_fin]\n",
    "    temp_res  = cuts(residual, tt_gen_red[mask_fin] , bins[i], bins[i+1])\n",
    "    temp_mask1 = temp_res < 1500\n",
    "    temp_mask  = temp_mask1\n",
    "    mean, std = fit_gaussian(temp_res[temp_mask]) \n",
    "    d_width.append(std)\n",
    "    d_err_x.append((bins[i+1] - bins[i]) * 0.5)\n",
    "    d_err_y.append(1./np.sqrt(len(temp_res)))\n",
    "    bin_centers.append((bins[i] + bins[i+1]) * 0.5)"
   ]
  },
  {
   "cell_type": "code",
   "execution_count": 175,
   "metadata": {},
   "outputs": [
    {
     "data": {
      "text/plain": [
       "Text(0.5, 0, 'ttbar mass (GeV) ')"
      ]
     },
     "execution_count": 175,
     "metadata": {},
     "output_type": "execute_result"
    },
    {
     "data": {
      "image/png": "[encoded data removed]",
      "text/plain": [
       "<Figure size 720x576 with 1 Axes>"
      ]
     },
     "metadata": {
      "needs_background": "light"
     },
     "output_type": "display_data"
    }
   ],
   "source": [
    "fig,axs = plt.subplots(figsize=(10,8))\n",
    "axs.scatter(bin_centers , width)\n",
    "axs.errorbar(bin_centers, width, yerr=err_y, label='2016 Reco')\n",
    "axs.scatter(bin_centers , d_width)\n",
    "axs.errorbar(bin_centers, d_width, yerr=d_err_y, label='Ellipse intersection + smear')\n",
    "\n",
    "axs.tick_params(axis='both', which='major', labelsize=13)\n",
    "axs.legend(fontsize=15, loc='upper left')\n",
    "axs.set_xlim(200, 1200)\n",
    "axs.set_ylim(50 , 450)\n",
    "axs.set_title(\"Width vs ttbar mass\", fontsize=15)\n",
    "axs.set_ylabel(\"Width of fitted gaussian (GeV)\", fontsize=15)\n",
    "axs.set_xlabel(\"ttbar mass (GeV) \", fontsize=15)"
   ]
  },
  {
   "cell_type": "code",
   "execution_count": 72,
   "metadata": {},
   "outputs": [
    {
     "data": {
      "text/plain": [
       "0.9931"
      ]
     },
     "execution_count": 72,
     "metadata": {},
     "output_type": "execute_result"
    }
   ],
   "source": [
    "residuals = tt_mass - tt_gen_red\n",
    "fin_mask  = residuals < 1500\n",
    "len(residuals[fin_mask]) / len(residuals)"
   ]
  },
  {
   "cell_type": "code",
   "execution_count": 75,
   "metadata": {},
   "outputs": [
    {
     "data": {
      "text/plain": [
       "0.85224"
      ]
     },
     "execution_count": 75,
     "metadata": {},
     "output_type": "execute_result"
    }
   ],
   "source": [
    "len(tt_mass[tt_mass != 0]) / len(tt_gen_mass[:100000]) # Solutions not found"
   ]
  },
  {
   "cell_type": "code",
   "execution_count": 163,
   "metadata": {},
   "outputs": [
    {
     "data": {
      "image/png": "[encoded data removed]",
      "text/plain": [
       "<Figure size 720x720 with 2 Axes>"
      ]
     },
     "metadata": {
      "needs_background": "light"
     },
     "output_type": "display_data"
    }
   ],
   "source": [
    "x_low    =  300\n",
    "x_high   =  1500\n",
    "\n",
    "binning = np.linspace(x_low,x_high, 30)\n",
    "\n",
    "fig_style = {\n",
    "    'figsize': (10, 10),\n",
    "}\n",
    "\n",
    "ratio_fig_style = {\n",
    "    'figsize': (10, 10),\n",
    "    'gridspec_kw': {'height_ratios': (3, 1)},\n",
    "}\n",
    "\n",
    "mask1    = tt_mass > 0\n",
    "mask2    = tt_mass < 1500\n",
    "mask_rec = mask1 & mask2\n",
    "\n",
    "tt_gen_red = tt_gen_mass[:100000]\n",
    "mask_gen   = tt_gen_red < 1500\n",
    "\n",
    "mask_fin   = mask_gen & mask_reco\n",
    "fig, (ax1, ax2) = plt.subplots(nrows=2, **ratio_fig_style)\n",
    "ns1, bins1, patches  = ax1.hist(tt_mass[mask_fin]   , density=True, histtype='step', bins=binning, label='Ellipse Reco + Smear', linewidth=1.5)\n",
    "ns2, bins2, patches  = ax1.hist(tt_gen_red[mask_fin], density=True, histtype='step', bins=binning, label='Delphes Gen', linewidth=1.5)\n",
    "\n",
    "ax1.legend(prop={'size': 17}, loc='upper right')\n",
    "ax1.set_xlim(x_low,x_high)\n",
    "ax2.scatter(binning[:-1],     # this is what makes it comparable\n",
    "        ns1 / ns2,         # maybe check for div-by-zero!\n",
    "        alpha=0.5)\n",
    "\n",
    "ax1.set_ylabel('Arbitrary Units', fontsize=15)\n",
    "ax2.set_ylabel('Ratio (Ellipse/2016)', fontsize=15)\n",
    "ax2.set_xlabel('ttbar mass (GeV)', fontsize=15)\n",
    "ax2.set_ylim(0, max(ns1/ns2))\n",
    "ax2.set_xlim(x_low,x_high)\n",
    "\n",
    "ax1.tick_params(axis=\"x\", labelsize=13)\n",
    "ax2.tick_params(axis=\"x\", labelsize=13)\n",
    "\n",
    "ax1.tick_params(axis=\"y\", labelsize=13)\n",
    "ax2.tick_params(axis=\"y\", labelsize=13)\n",
    "plt.axhline(y=1, color='b', linestyle='-')\n",
    "plt.show()"
   ]
  },
  {
   "cell_type": "code",
   "execution_count": 162,
   "metadata": {},
   "outputs": [
    {
     "data": {
      "image/png": "[encoded data removed]",
      "text/plain": [
       "<Figure size 720x720 with 2 Axes>"
      ]
     },
     "metadata": {
      "needs_background": "light"
     },
     "output_type": "display_data"
    }
   ],
   "source": [
    "x_low    =  300\n",
    "x_high   =  1500\n",
    "\n",
    "binning = np.linspace(x_low,x_high, 30)\n",
    "\n",
    "fig_style = {\n",
    "    'figsize': (10, 10),\n",
    "}\n",
    "\n",
    "ratio_fig_style = {\n",
    "    'figsize': (10, 10),\n",
    "    'gridspec_kw': {'height_ratios': (3, 1)},\n",
    "}\n",
    "\n",
    "mask_rec   = m_ttbar < 1500\n",
    "mask_gen   = gen_m_ttbar < 1500\n",
    "mask_fin   = mask_rec & mask_gen\n",
    "\n",
    "fig, (ax1, ax2) = plt.subplots(nrows=2, **ratio_fig_style)\n",
    "ns1, bins1, patches  = ax1.hist(m_ttbar[mask_fin]    , density=True, histtype='step', bins=binning, label='2016 Reco', linewidth=1.5)\n",
    "ns2, bins2, patches  = ax1.hist(gen_m_ttbar[mask_fin], density=True, histtype='step', bins=binning, label='2016 Gen' , linewidth=1.5)\n",
    "\n",
    "ax1.legend(prop={'size': 17}, loc='upper right')\n",
    "ax1.set_xlim(x_low,x_high)\n",
    "ax2.scatter(binning[:-1],     # this is what makes it comparable\n",
    "        ns1 / ns2,         # maybe check for div-by-zero!\n",
    "        alpha=0.5)\n",
    "\n",
    "ax1.set_ylabel('Arbitrary Units', fontsize=15)\n",
    "ax2.set_ylabel('Ratio (Ellipse/2016)', fontsize=15)\n",
    "ax2.set_xlabel('ttbar mass (GeV)', fontsize=15)\n",
    "ax2.set_ylim(0, max(ns1/ns2))\n",
    "ax2.set_xlim(x_low,x_high)\n",
    "\n",
    "ax1.tick_params(axis=\"x\", labelsize=13)\n",
    "ax2.tick_params(axis=\"x\", labelsize=13)\n",
    "\n",
    "ax1.tick_params(axis=\"y\", labelsize=13)\n",
    "ax2.tick_params(axis=\"y\", labelsize=13)\n",
    "plt.axhline(y=1, color='b', linestyle='-')\n",
    "plt.show()"
   ]
  },
  {
   "cell_type": "code",
   "execution_count": 183,
   "metadata": {},
   "outputs": [
    {
     "data": {
      "text/plain": [
       "-0.6750389965975584"
      ]
     },
     "execution_count": 183,
     "metadata": {},
     "output_type": "execute_result"
    }
   ],
   "source": [
    "p3_pPro = ROOT.TVector3(0., 0., 1.)\n",
    "top1.Vect().Unit().Dot(p3_pPro)"
   ]
  },
  {
   "cell_type": "code",
   "execution_count": null,
   "metadata": {},
   "outputs": [],
   "source": []
  }
 ],
 "metadata": {
  "kernelspec": {
   "display_name": "Python 3",
   "language": "python",
   "name": "python3"
  },
  "language_info": {
   "codemirror_mode": {
    "name": "ipython",
    "version": 3
   },
   "file_extension": ".py",
   "mimetype": "text/x-python",
   "name": "python",
   "nbconvert_exporter": "python",
   "pygments_lexer": "ipython3",
   "version": "3.8.5"
  }
 },
 "nbformat": 4,
 "nbformat_minor": 4
}
