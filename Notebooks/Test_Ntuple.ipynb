{
 "cells": [
  {
   "cell_type": "code",
   "execution_count": 26,
   "metadata": {},
   "outputs": [],
   "source": [
    "import ROOT\n",
    "import uproot\n",
    "import numpy as np\n",
    "from   array import array\n",
    "import matplotlib.pyplot as plt"
   ]
  },
  {
   "cell_type": "code",
   "execution_count": 27,
   "metadata": {
    "collapsed": true
   },
   "outputs": [],
   "source": [
    "file = uproot.open('/depot/cms/top/bakshi3/SUSY/SUSY_Ntuples/SUSY_Ntuple_246.root')['Delphes_Ntuples']"
   ]
  },
  {
   "cell_type": "code",
   "execution_count": 28,
   "metadata": {
    "collapsed": true
   },
   "outputs": [],
   "source": [
    "gen_part_eta      = file['genpart_eta'].array()\n",
    "gen_part_phi      = file['genpart_phi'].array()\n",
    "gen_part_pt       = file['genpart_pt'].array()\n",
    "gen_part_mass     = file['genpart_mass'].array()\n",
    "gen_part_pid      = file['genpart_pid'].array()\n",
    "gen_part_status   = file['genpart_status'].array()\n",
    "gen_part_charge   = file['genpart_charge'].array()"
   ]
  },
  {
   "cell_type": "code",
   "execution_count": 29,
   "metadata": {},
   "outputs": [],
   "source": [
    "jet_pt       = file['jet_pt'].array()\n",
    "jet_eta      = file['jet_eta'].array()\n",
    "jet_phi      = file['jet_phi'].array()\n",
    "jet_mass     = file['jet_mass'].array()\n",
    "jet_btag     = file['jet_btag'].array()\n",
    "\n",
    "met_pt       = file['met_pt'].array()\n",
    "weight       = file['weight'].array()"
   ]
  },
  {
   "cell_type": "code",
   "execution_count": 30,
   "metadata": {
    "collapsed": true
   },
   "outputs": [],
   "source": [
    "muon_pt      = file['muon_pt'].array()\n",
    "muon_eta     = file['muon_eta'].array()\n",
    "muon_phi     = file['muon_phi'].array()\n",
    "muon_mass    = file['muon_mass'].array()\n",
    "muon_charge  = file['muon_charge'].array()\n",
    "muon_reliso  = file['muon_reliso'].array()"
   ]
  },
  {
   "cell_type": "code",
   "execution_count": 31,
   "metadata": {
    "collapsed": true
   },
   "outputs": [],
   "source": [
    "elec_pt      = file['elec_pt'].array()\n",
    "elec_eta     = file['elec_eta'].array()\n",
    "elec_phi     = file['elec_phi'].array()\n",
    "elec_mass    = file['elec_mass'].array()\n",
    "elec_charge  = file['elec_charge'].array()\n",
    "elec_reliso  = file['elec_reliso'].array()"
   ]
  },
  {
   "cell_type": "code",
   "execution_count": 32,
   "metadata": {
    "collapsed": true
   },
   "outputs": [],
   "source": [
    "def deltaphi(e_phi, m_phi) :\n",
    "  d_phi =  e_phi - m_phi\n",
    "  if (d_phi >  np.pi) : d_phi -= 2*np.pi\n",
    "  if (d_phi < -np.pi) : d_phi += 2*np.pi\n",
    "  return d_phi"
   ]
  },
  {
   "cell_type": "code",
   "execution_count": 33,
   "metadata": {
    "collapsed": true
   },
   "outputs": [],
   "source": [
    "def dR(e_phi, e_eta, m_phi, m_eta) :\n",
    "    d_eta = abs(e_eta - m_eta)\n",
    "    d_phi = deltaphi(e_phi, m_phi)\n",
    "    return np.sqrt(d_phi**2 + d_eta**2)"
   ]
  },
  {
   "cell_type": "code",
   "execution_count": 34,
   "metadata": {
    "collapsed": true
   },
   "outputs": [],
   "source": [
    "# Empty arrays \n",
    "# Similar to histograms in ROOT\n",
    "\n",
    "l_pt  = []\n",
    "l_eta = []\n",
    "l_phi = []\n",
    "\n",
    "sl_pt  = []\n",
    "sl_eta = []\n",
    "sl_phi = []\n",
    "\n",
    "ljet_pt   = []\n",
    "ljet_eta  = []\n",
    "ljet_phi  = []\n",
    "ljet_mass = []\n",
    "\n",
    "sljet_pt  = []\n",
    "sljet_eta = []\n",
    "sljet_phi = []\n",
    "sljet_mass = []\n",
    "\n",
    "ST         = []\n",
    "HT         = []\n",
    "ET_miss    = []"
   ]
  },
  {
   "cell_type": "code",
   "execution_count": 35,
   "metadata": {
    "collapsed": true
   },
   "outputs": [],
   "source": [
    "# Let's create a mask\n",
    "selection = np.zeros(len(jet_pt))\n",
    "\n",
    "#Loop over the events \n",
    "for i in range(len(jet_pt)) :\n",
    "             \n",
    "    # Temporary variables\n",
    "    \n",
    "    e_idx     = []\n",
    "    mu_idx    = []\n",
    "\n",
    "    ef_idx    = []\n",
    "    muf_idx   = []\n",
    "    \n",
    "    jet_idx   = []\n",
    "    \n",
    "    btag_cnt  = 0\n",
    "    \n",
    "    e_4vec    = ROOT.TLorentzVector()\n",
    "    mu_4vec   = ROOT.TLorentzVector()\n",
    "    \n",
    "    ########## Electrons ########## \n",
    "    \n",
    "    # Ensure pt > 20 GeV and eta < 2.4 and isolation\n",
    "    for j in range(len(elec_pt[i])) :\n",
    "        if (elec_pt[i][j]  < 20) : continue\n",
    "          \n",
    "        if (elec_eta[i][j] > 2.4 or (elec_eta[i][j] > 1.4442 and elec_eta[i][j] < 1.5660)) : continue\n",
    "          \n",
    "        if (elec_reliso[i][j] < 0.0588) : continue\n",
    "          \n",
    "        e_idx.append(j)\n",
    "\n",
    "    ###########  Muons ############ \n",
    "    \n",
    "    # Ensure pt > 20 GeV and eta < 2.4 and isolation        \n",
    "    for j in range(len(muon_pt[i])) :            \n",
    "        if (muon_pt[i][j]  < 20 ) : continue\n",
    "          \n",
    "        if (muon_eta[i][j] > 2.4) : continue\n",
    "          \n",
    "        if (muon_reliso[i][j] < 0.15): continue \n",
    "          \n",
    "        mu_idx.append(j)\n",
    "    \n",
    "    # Ensure atleast one muon and one electron\n",
    "    if (len(e_idx) == 0 or len(mu_idx) == 0) : continue\n",
    "    \n",
    "    # Check for opp sign charge pairings\n",
    "    for j in range(len(e_idx)) :\n",
    "      for k in range(len(mu_idx)) :\n",
    "        if (elec_charge[i][j] * muon_charge[i][k] == -1):\n",
    "          ef_idx.append(j)\n",
    "          muf_idx.append(k)\n",
    "    \n",
    "    # Ensure such a pairing exists     \n",
    "    if (len(ef_idx) == 0 or len(muf_idx) == 0): continue\n",
    "    \n",
    "    # Assign leading indices to e and mu\n",
    "    e_index  = ef_idx[0]\n",
    "    mu_index = muf_idx[0]\n",
    "    \n",
    "    # Defining the 4 vectors\n",
    "    e_4vec.SetPtEtaPhiM(elec_pt[i][e_index], elec_eta[i][e_index], elec_phi[i][e_index], 0.000511)\n",
    "    mu_4vec.SetPtEtaPhiM(muon_pt[i][mu_index]  , muon_eta[i][mu_index]   , muon_phi[i][mu_index]   , 0.105)\n",
    "        \n",
    "    # Mll cut (Step 3 according to the FW)\n",
    "    if ((e_4vec + mu_4vec).M() < 20) : continue  \n",
    "        \n",
    "    ###########  Jets ###############\n",
    "\n",
    "    for j in range(len(jet_pt[i])) :\n",
    "      \n",
    "        # Ensure pt > 30 GeV and eta < 2.4 isolation \n",
    "        \n",
    "        if ((dR (elec_phi[i][e_index] , elec_eta[i][e_index] , jet_phi[i][j] , jet_eta[i][j] ) < 0.4)\n",
    "        or  (dR (muon_phi[i][mu_index], muon_eta[i][mu_index], jet_phi[i][j] , jet_eta[i][j] ) < 0.4)) : continue\n",
    "\n",
    "        if ((jet_pt [i][j]  < 30))      : continue\n",
    "          \n",
    "        if ((abs(jet_eta[i][j]) > 2.4)) : continue\n",
    "        \n",
    "        if (jet_btag[i][j] != 0)        : btag_cnt += 1\n",
    "            \n",
    "        jet_idx.append(j)\n",
    "      \n",
    "    # 2 Jets (Step 5 according to the FW) \n",
    "    if(len(jet_idx) < 2) : continue\n",
    "      \n",
    "    # Atleast one b-tag \n",
    "    if (btag_cnt == 0)   : continue    \n",
    "    \n",
    "    ljet_idx  = jet_idx[0]\n",
    "    sljet_idx = jet_idx[1]\n",
    "\n",
    "    ####### Fill the arrays ##########\n",
    "    \n",
    "    # Leading and sub-leading lepton pts\n",
    "    if (elec_pt[i][e_index] > muon_pt[i][mu_index] and elec_pt[i][e_index] > 25) :\n",
    "        l_pt.append(elec_pt[i][e_index])\n",
    "        l_phi.append(elec_phi[i][e_index])\n",
    "        l_eta.append(elec_eta[i][e_index])\n",
    "\n",
    "        sl_pt.append(muon_pt[i][mu_index])\n",
    "        sl_phi.append(muon_phi[i][mu_index])\n",
    "        sl_eta.append(muon_eta[i][mu_index])\n",
    "\n",
    "    elif (muon_pt[i][mu_index] > elec_pt[i][e_index] and muon_pt[i][mu_index] > 25) :\n",
    "        sl_pt.append(elec_pt[i][e_index])\n",
    "        sl_phi.append(elec_phi[i][e_index])\n",
    "        sl_eta.append(elec_eta[i][e_index])\n",
    "\n",
    "        l_pt.append(muon_pt[i][mu_index])\n",
    "        l_phi.append(muon_phi[i][mu_index])\n",
    "        l_eta.append(muon_eta[i][mu_index])\n",
    "    \n",
    "    else : continue\n",
    "    \n",
    "    # Leading and Subleading Pt\n",
    "    ljet_pt.append(jet_pt[i][ljet_idx])\n",
    "    ljet_phi.append(jet_phi[i][ljet_idx])\n",
    "    ljet_eta.append(jet_eta[i][ljet_idx])\n",
    "    ljet_mass.append(jet_eta[i][ljet_idx])\n",
    "\n",
    "    sljet_pt.append(jet_pt[i][sljet_idx])\n",
    "    sljet_phi.append(jet_phi[i][sljet_idx]) \n",
    "    sljet_eta.append(jet_eta[i][sljet_idx]) \n",
    "    sljet_mass.append(jet_eta[i][sljet_idx])        \n",
    "    \n",
    "    ET_miss.append(met_pt[i][0])\n",
    "    \n",
    "    # HT and ST\n",
    "    # temporary variables\n",
    "    Ht = 0\n",
    "    St = 0\n",
    "    \n",
    "    for j in range(len(jet_pt[i])) :\n",
    "        Ht += jet_pt[i][j]\n",
    "        St += jet_pt[i][j]\n",
    "        \n",
    "    for j in range(len(elec_pt[i])):\n",
    "        St += elec_pt[i][j]\n",
    "        \n",
    "    for j in range(len(muon_pt[i])):\n",
    "        St += muon_pt[i][j]\n",
    "\n",
    "    # Append to lists\n",
    "    HT.append(Ht)\n",
    "    ST.append(St)\n",
    "    \n",
    "    # Create a mask for selection\n",
    "    selection[i] = 1"
   ]
  },
  {
   "cell_type": "code",
   "execution_count": 36,
   "metadata": {
    "collapsed": true
   },
   "outputs": [],
   "source": [
    "llbar_deta = abs(np.array(l_eta) -  np.array(sl_eta))\n",
    "llbar_dphi = abs(abs(abs(np.array(l_phi) -  np.array(sl_phi)) - np.pi) - np.pi)\n",
    "\n",
    "bbbar_deta = abs(np.array(ljet_eta) -  np.array(sljet_eta))\n",
    "bbbar_dphi = abs(abs(abs(np.array(ljet_phi) -  np.array(sljet_phi)) - np.pi) - np.pi)\n",
    "\n",
    "weight_sel    = weight[selection == 1]\n",
    "gen_pt_sel    = gen_part_pt[selection == 1]\n",
    "gen_pid_sel   = gen_part_pid[selection == 1]\n",
    "gen_eta_sel   = gen_part_eta[selection == 1]\n",
    "gen_phi_sel   = gen_part_phi[selection == 1]\n",
    "gen_mass_sel  = gen_part_mass[selection == 1]\n",
    "gen_status_sel = gen_part_status[selection == 1]"
   ]
  },
  {
   "cell_type": "code",
   "execution_count": 42,
   "metadata": {},
   "outputs": [],
   "source": [
    "# make new root file with new tree\n",
    "file = ROOT.TFile(\"SUSY_minitree_246.root\", 'recreate')\n",
    "tree = ROOT.TTree(\"Reco_level\", \"Reco_level\")\n",
    "\n",
    "maxn    = 9999 \n",
    "HT_arr  = array('f',[0.])\n",
    "ST_arr  = array('f',[0.])\n",
    "MET_arr = array('f',[0.])\n",
    "\n",
    "l_pt_arr   = array('f',[0.])\n",
    "l_eta_arr  = array('f',[0.])\n",
    "l_phi_arr  = array('f',[0.])\n",
    "\n",
    "sl_pt_arr  = array('f',[0.])\n",
    "sl_eta_arr = array('f',[0.])\n",
    "sl_phi_arr = array('f',[0.])\n",
    "\n",
    "ljet_pt_arr   = array('f',[0.])\n",
    "ljet_eta_arr  = array('f',[0.])\n",
    "ljet_phi_arr  = array('f',[0.])\n",
    "\n",
    "sljet_pt_arr  = array('f',[0.])\n",
    "sljet_eta_arr = array('f',[0.])\n",
    "sljet_phi_arr = array('f',[0.])\n",
    "\n",
    "llbar_deta_arr = array('f',[0.])\n",
    "llbar_dphi_arr = array('f',[0.])\n",
    "bbbar_deta_arr = array('f',[0.])\n",
    "bbbar_dphi_arr = array('f',[0.])\n",
    "\n",
    "weight_size_arr    = array( 'i', [ 0 ] )\n",
    "weight_arr         = array( 'f', maxn*[ 0.] )\n",
    "\n",
    "genpart_size_arr   = array( 'i', [ 0 ] )\n",
    "genpart_pid_arr    = array( 'i', maxn*[ 0 ] )\n",
    "genpart_status_arr = array( 'i', maxn*[ 0 ] )\n",
    "            \n",
    "genpart_pt_arr     = array( 'f', maxn*[ 0. ] )\n",
    "genpart_eta_arr    = array( 'f', maxn*[ 0. ] )\n",
    "genpart_phi_arr    = array( 'f', maxn*[ 0. ] )\n",
    "genpart_mass_arr   = array( 'f', maxn*[ 0. ] )\n",
    "\n",
    "# create the branches and assign the fill-variables to them as doubles (D)\n",
    "tree.Branch(\"HT\" , HT_arr ,'HT/D')\n",
    "tree.Branch(\"ST\" , ST_arr ,'ST/D')\n",
    "tree.Branch(\"MET\", MET_arr,'MET/D')\n",
    "\n",
    "tree.Branch(\"l_pt_arr\"  , l_pt_arr  , 'l_pt_arr/F')\n",
    "tree.Branch(\"l_eta_arr\" , l_eta_arr , 'l_eta_arr/F')\n",
    "tree.Branch(\"l_phi_arr\" , l_phi_arr , 'l_phi_arr/F')\n",
    "\n",
    "tree.Branch(\"sl_pt_arr\" , sl_pt_arr , 'sl_pt_arr/F')\n",
    "tree.Branch(\"sl_eta_arr\", sl_eta_arr, 'sl_eta_arr/F')\n",
    "tree.Branch(\"sl_phi_arr\", sl_phi_arr, 'sl_phi_arr/F')\n",
    "\n",
    "tree.Branch(\"ljet_pt_arr\"  , ljet_pt_arr  , 'ljet_pt_arr/F')\n",
    "tree.Branch(\"ljet_eta_arr\" , ljet_eta_arr , 'ljet_eta_arr/F')\n",
    "tree.Branch(\"ljet_phi_arr\" , ljet_phi_arr , 'ljet_phi_arr/F')\n",
    "\n",
    "tree.Branch(\"sljet_pt_arr\" , sljet_pt_arr , 'sljet_pt_arr/F')\n",
    "tree.Branch(\"sljet_eta_arr\", sljet_eta_arr, 'sljet_eta_arr/F')\n",
    "tree.Branch(\"sljet_phi_arr\", sljet_phi_arr, 'sljet_phi_arr/F')\n",
    "\n",
    "tree.Branch(\"llbar_deta_arr\" , llbar_deta_arr , 'llbar_deta_arr/F')\n",
    "tree.Branch(\"llbar_dphi_arr\" , llbar_dphi_arr , 'llbar_dphi_arr/F')\n",
    "tree.Branch(\"bbbar_deta_arr\" , bbbar_deta_arr , 'bbbar_deta_arr/F')\n",
    "tree.Branch(\"bbbar_dphi_arr\" , bbbar_dphi_arr , 'bbbar_dphi_arr/F')\n",
    "\n",
    "tree.Branch( \"genpart_size\"  , genpart_size_arr  , \"genpart_size/I\")\n",
    "tree.Branch( \"genpart_pid\"   , genpart_pid_arr   , \"genpart_pid[genpart_size]/I\")\n",
    "tree.Branch( \"genpart_status\", genpart_status_arr, \"genpart_status[genpart_size]/I\")\n",
    "\n",
    "tree.Branch( \"weight_size\"   , weight_size_arr   , \"weight_size/I\")\n",
    "tree.Branch( \"weight\"        , weight_arr        , \"weight[weight_size]/F\")\n",
    "\n",
    "tree.Branch( \"genpart_pt\"    , genpart_pt_arr    , \"genpart_pt[genpart_size]/F\")\n",
    "tree.Branch( \"genpart_eta\"   , genpart_eta_arr   , \"genpart_eta[genpart_size]/F\")\n",
    "tree.Branch( \"genpart_phi\"   , genpart_phi_arr   , \"genpart_phi[genpart_size]/F\")\n",
    "tree.Branch( \"genpart_mass\"  , genpart_mass_arr  , \"genpart_mass[genpart_size]/F\")\n",
    "\n",
    "for i in range(len(HT)) :\n",
    "    HT_arr[0] = HT[i]\n",
    "    ST_arr[0] = ST[i]\n",
    "    MET_arr[0]= ET_miss[i]\n",
    "            \n",
    "    l_pt_arr[0]  = l_pt[i]\n",
    "    l_eta_arr[0] = l_eta[i]\n",
    "    l_phi_arr[0] = l_phi[i]\n",
    "            \n",
    "    sl_pt_arr[0] = sl_pt[i]\n",
    "    sl_eta_arr[0]= sl_eta[i]\n",
    "    sl_phi_arr[0]= sl_phi[i]\n",
    "\n",
    "    ljet_pt_arr[0]  = ljet_pt[i]\n",
    "    ljet_eta_arr[0] = ljet_eta[i]\n",
    "    ljet_phi_arr[0] = ljet_phi[i]\n",
    "            \n",
    "    sljet_pt_arr[0] = sljet_pt[i]\n",
    "    sljet_eta_arr[0]= sljet_eta[i]\n",
    "    sljet_phi_arr[0]= sljet_phi[i] \n",
    "    \n",
    "    llbar_deta_arr[0] = llbar_deta[i]\n",
    "    llbar_dphi_arr[0] = llbar_dphi[i]\n",
    "    bbbar_deta_arr[0] = bbbar_deta[i]\n",
    "    bbbar_dphi_arr[0] = bbbar_dphi[i]\n",
    "    \n",
    "    weight_size_arr[0]  = len(weight_sel[i])\n",
    "    genpart_size_arr[0] = len(gen_pt_sel[i])\n",
    "    \n",
    "    for j in range(genpart_size_arr[0]) :\n",
    "        genpart_pt_arr[j]    = gen_pt_sel[i][j]\n",
    "        genpart_pid_arr[j]   = gen_pid_sel[i][j]\n",
    "        genpart_eta_arr[j]   = gen_eta_sel[i][j]\n",
    "        genpart_phi_arr[j]   = gen_phi_sel[i][j]\n",
    "        genpart_mass_arr[j]  = gen_mass_sel[i][j]\n",
    "        genpart_status_arr[j]= gen_status_sel[i][j]\n",
    "        \n",
    "    for k in range(weight_size_arr[0]) :\n",
    "        weight_arr[k]        = weight_sel[i][k]\n",
    "        \n",
    "    tree.Fill()\n",
    "# write the tree into the output file and close the file\n",
    "file.Write()\n",
    "file.Close()"
   ]
  },
  {
   "cell_type": "code",
   "execution_count": 51,
   "metadata": {},
   "outputs": [],
   "source": [
    "fileptr = uproot.open('SUSY_minitree_246.root')['Reco_level']\n",
    "fileptr.keys()\n",
    "PID      = fileptr['genpart_pid'].array()\n",
    "Status   = fileptr['genpart_status'].array()\n",
    "Weight   = fileptr['weight'].array()"
   ]
  },
  {
   "cell_type": "code",
   "execution_count": 55,
   "metadata": {},
   "outputs": [
    {
     "data": {
      "text/plain": [
       "447"
      ]
     },
     "execution_count": 55,
     "metadata": {},
     "output_type": "execute_result"
    }
   ],
   "source": [
    "len(Weight[1])"
   ]
  },
  {
   "cell_type": "code",
   "execution_count": 57,
   "metadata": {},
   "outputs": [
    {
     "data": {
      "text/plain": [
       "array([ True,  True,  True,  True,  True,  True,  True,  True,  True,\n",
       "        True,  True,  True,  True,  True,  True,  True,  True,  True,\n",
       "        True,  True,  True,  True,  True,  True,  True,  True,  True,\n",
       "        True,  True,  True,  True,  True,  True,  True,  True,  True,\n",
       "        True,  True,  True,  True,  True,  True,  True,  True,  True,\n",
       "        True,  True,  True,  True,  True,  True,  True,  True,  True,\n",
       "        True,  True,  True,  True,  True,  True,  True,  True,  True,\n",
       "        True,  True,  True,  True,  True,  True,  True,  True,  True,\n",
       "        True,  True,  True,  True,  True,  True,  True,  True,  True,\n",
       "        True,  True,  True,  True,  True,  True,  True,  True,  True,\n",
       "        True,  True,  True,  True,  True,  True,  True,  True,  True,\n",
       "        True,  True,  True,  True,  True,  True,  True,  True,  True,\n",
       "        True,  True,  True,  True,  True,  True,  True,  True,  True,\n",
       "        True,  True,  True,  True,  True,  True,  True,  True,  True,\n",
       "        True,  True,  True,  True,  True,  True,  True,  True,  True,\n",
       "        True,  True,  True,  True,  True,  True,  True,  True,  True,\n",
       "        True,  True,  True,  True,  True,  True,  True,  True,  True,\n",
       "        True,  True,  True,  True,  True,  True,  True,  True,  True,\n",
       "        True,  True,  True,  True,  True,  True,  True,  True,  True,\n",
       "        True,  True,  True,  True,  True,  True,  True,  True,  True,\n",
       "        True,  True,  True,  True,  True,  True,  True,  True,  True,\n",
       "        True,  True,  True,  True,  True,  True,  True,  True,  True,\n",
       "        True,  True,  True,  True,  True,  True,  True,  True,  True,\n",
       "        True,  True,  True,  True,  True,  True,  True,  True,  True,\n",
       "        True,  True,  True,  True,  True,  True,  True,  True,  True,\n",
       "        True,  True,  True,  True,  True,  True,  True,  True,  True,\n",
       "        True,  True,  True,  True,  True,  True,  True,  True,  True,\n",
       "        True,  True,  True,  True,  True,  True,  True,  True,  True,\n",
       "        True,  True,  True,  True,  True,  True,  True,  True,  True,\n",
       "        True,  True,  True,  True,  True,  True,  True,  True,  True,\n",
       "        True,  True,  True,  True,  True,  True,  True,  True,  True,\n",
       "        True,  True,  True,  True,  True,  True,  True,  True,  True,\n",
       "        True,  True,  True,  True,  True,  True,  True,  True,  True,\n",
       "        True,  True,  True,  True,  True,  True,  True,  True,  True,\n",
       "        True,  True,  True,  True,  True,  True,  True,  True,  True,\n",
       "        True,  True,  True,  True,  True,  True,  True,  True,  True,\n",
       "        True,  True,  True,  True,  True,  True,  True,  True,  True,\n",
       "        True,  True,  True,  True,  True,  True,  True,  True,  True,\n",
       "        True,  True,  True,  True,  True,  True,  True,  True,  True,\n",
       "        True,  True,  True,  True,  True,  True,  True,  True,  True,\n",
       "        True,  True,  True,  True,  True,  True,  True,  True,  True,\n",
       "        True,  True,  True,  True,  True,  True,  True,  True,  True,\n",
       "        True,  True,  True,  True,  True,  True,  True,  True,  True,\n",
       "        True,  True,  True,  True,  True,  True,  True,  True,  True,\n",
       "        True,  True,  True,  True,  True,  True,  True,  True,  True,\n",
       "        True,  True,  True,  True,  True,  True,  True,  True,  True,\n",
       "        True,  True,  True,  True,  True,  True,  True,  True,  True,\n",
       "        True,  True,  True,  True,  True,  True,  True,  True,  True,\n",
       "        True,  True,  True,  True,  True,  True,  True,  True,  True,\n",
       "        True,  True,  True,  True,  True,  True])"
      ]
     },
     "execution_count": 57,
     "metadata": {},
     "output_type": "execute_result"
    }
   ],
   "source": [
    "weight[selection == 1][1] == Weight[1]"
   ]
  },
  {
   "cell_type": "code",
   "execution_count": 17,
   "metadata": {},
   "outputs": [
    {
     "data": {
      "text/plain": [
       "<JaggedArray [[999.9 -999.9 1.4564451 ... 0.85805845 0.8679464 0.8873562] [999.9 -999.9 0.7476385 ... 0.9842219 1.0484937 1.0188298] [999.9 -999.9 -1.4430032 ... -0.060243543 -0.11572618 -0.111514635] ... [999.9 -999.9 -2.5555046 ... -0.18182929 -0.102542184 -0.085695975] [999.9 -999.9 0.67340285 ... 0.62697226 0.6068301 0.75496686] [999.9 -999.9 2.006955 ... 0.043397322 -0.11627552 -0.07159642]] at 0x7fe2ad1747d0>"
      ]
     },
     "execution_count": 17,
     "metadata": {},
     "output_type": "execute_result"
    }
   ],
   "source": [
    "gen_part_eta "
   ]
  },
  {
   "cell_type": "code",
   "execution_count": 22,
   "metadata": {},
   "outputs": [
    {
     "data": {
      "text/plain": [
       "<JaggedArray [[999.9 -999.9 0.9882427 ... -1.3892636 -0.9483324 -1.4299141] [999.9 -999.9 1.8411628 ... -0.6800745 1.8655355 1.8604078] [999.9 -999.9 -1.1951087 ... -0.14758748 -1.0598468 -1.0259712] ... [999.9 -999.9 -0.22335687 ... -0.58650476 1.507187 1.7794732] [999.9 -999.9 -1.9012711 ... -1.4235055 -1.0567341 -0.9737847] [999.9 -999.9 2.8779593 ... -3.3837168 2.2097845 4.4952416]] at 0x7fe2ad052e50>"
      ]
     },
     "execution_count": 22,
     "metadata": {},
     "output_type": "execute_result"
    }
   ],
   "source": [
    "gen_part_eta[selection == 1]"
   ]
  },
  {
   "cell_type": "code",
   "execution_count": 24,
   "metadata": {},
   "outputs": [
    {
     "data": {
      "text/plain": [
       "<JaggedArray [[21 21 22 ... 1 1 1] [21 21 22 ... 1 1 1] [21 21 22 ... 1 1 1] ... [21 21 22 ... 1 1 1] [21 21 22 ... 1 1 1] [21 21 23 ... 1 1 1]] at 0x7f9274bcec10>"
      ]
     },
     "execution_count": 24,
     "metadata": {},
     "output_type": "execute_result"
    }
   ],
   "source": [
    "gen_part_status"
   ]
  },
  {
   "cell_type": "code",
   "execution_count": null,
   "metadata": {
    "collapsed": true
   },
   "outputs": [],
   "source": []
  }
 ],
 "metadata": {
  "kernelspec": {
   "display_name": "Python [conda env: venv]",
   "language": "python",
   "name": "conda-env-venv-py"
  },
  "language_info": {
   "codemirror_mode": {
    "name": "ipython",
    "version": 3
   },
   "file_extension": ".py",
   "mimetype": "text/x-python",
   "name": "python",
   "nbconvert_exporter": "python",
   "pygments_lexer": "ipython3",
   "version": "3.7.8"
  }
 },
 "nbformat": 4,
 "nbformat_minor": 2
}
