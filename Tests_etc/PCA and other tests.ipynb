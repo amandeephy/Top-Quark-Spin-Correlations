{
 "cells": [
  {
   "cell_type": "code",
   "execution_count": 2,
   "id": "18c32efe",
   "metadata": {},
   "outputs": [
    {
     "name": "stdout",
     "output_type": "stream",
     "text": [
      "Welcome to JupyROOT 6.22/08\n"
     ]
    }
   ],
   "source": [
    "import ROOT\n",
    "import uproot\n",
    "import numpy as np\n",
    "import pandas as pd\n",
    "import seaborn as sns\n",
    "import matplotlib.pyplot as plt"
   ]
  },
  {
   "cell_type": "code",
   "execution_count": 13,
   "id": "21bfbb9f",
   "metadata": {},
   "outputs": [],
   "source": [
    "mstop_175   = pd.read_pickle('DNN_ips/SUSY_Mstop_175_mchi_7_5.pkl')\n",
    "\n",
    "tt_df     = pd.read_pickle('DNN_ips/ttbar.pkl')\n",
    "st_df     = pd.read_pickle('DNN_ips/Single_top.pkl')\n",
    "vv_df     = pd.read_pickle('DNN_ips/VV.pkl')"
   ]
  },
  {
   "cell_type": "code",
   "execution_count": 14,
   "id": "bcc806a7",
   "metadata": {},
   "outputs": [],
   "source": [
    "selected_columns = ['lepton_eta', 'sublepton_eta','llbar_deta',]"
   ]
  },
  {
   "cell_type": "code",
   "execution_count": 15,
   "id": "2bd03229",
   "metadata": {},
   "outputs": [],
   "source": [
    "sig_df = mstop_175[selected_columns]\n",
    "tt_df  = tt_df[selected_columns]"
   ]
  },
  {
   "cell_type": "code",
   "execution_count": 16,
   "id": "14fc8755",
   "metadata": {},
   "outputs": [],
   "source": [
    "sig_df = sig_df.sample(frac=1)\n",
    "tt_df  = tt_df.sample(frac=1)\n",
    "\n",
    "sig_df_train = sig_df[1:10000]\n",
    "tt_df_train  = tt_df[1:10000]\n",
    "\n",
    "# Standardize\n",
    "sig_mean = sig_df_train.mean()\n",
    "sig_std  = sig_df_train.std()\n",
    "\n",
    "tt_mean = tt_df_train.mean()\n",
    "tt_std  = tt_df_train.std()\n",
    "\n",
    "sig_df_train = (sig_df_train - sig_mean)/ sig_std\n",
    "tt_df_train  = (tt_df_train  - tt_mean)/ tt_std"
   ]
  },
  {
   "cell_type": "code",
   "execution_count": 17,
   "id": "b7dec382",
   "metadata": {},
   "outputs": [],
   "source": [
    "sig_df_test = sig_df[10000:20000]\n",
    "tt_df_test  = tt_df[10000:20000]\n",
    "\n",
    "# Standardize\n",
    "sig_mean = sig_df_test.mean()\n",
    "sig_std  = sig_df_test.std()\n",
    "\n",
    "tt_mean = tt_df_test.mean()\n",
    "tt_std  = tt_df_test.std()\n",
    "\n",
    "sig_df_test = (sig_df_test - sig_mean)/ sig_std\n",
    "tt_df_test  = (tt_df_test  - tt_mean)/ tt_std"
   ]
  },
  {
   "cell_type": "code",
   "execution_count": 18,
   "id": "67a85200",
   "metadata": {},
   "outputs": [],
   "source": [
    "bkgList = [tt_df_train]  # List of your dataframes\n",
    "\n",
    "bkg_df_train = pd.concat(bkgList)\n",
    "\n",
    "signal    = sig_df_train.values\n",
    "bkg       = bkg_df_train.values\n",
    "\n",
    "sig_label = np.ones(len(signal))\n",
    "bkg_label = np.zeros(len(bkg))\n",
    "\n",
    "data      = np.concatenate((signal,bkg))\n",
    "label     = np.concatenate((sig_label,bkg_label))"
   ]
  },
  {
   "cell_type": "code",
   "execution_count": 19,
   "id": "a69b200f",
   "metadata": {},
   "outputs": [],
   "source": [
    "test_signal    = sig_df_test.values\n",
    "test_bkg       = tt_df_test.values\n",
    "\n",
    "test_sig_label = np.ones(len(test_signal))\n",
    "test_bkg_label = np.zeros(len(test_bkg))\n",
    "\n",
    "test_data      = np.concatenate((test_signal,test_bkg))\n",
    "test_label     = np.concatenate((test_sig_label,test_bkg_label))"
   ]
  },
  {
   "cell_type": "code",
   "execution_count": 95,
   "id": "a49e477e",
   "metadata": {},
   "outputs": [],
   "source": [
    "from sklearn.decomposition import PCA\n",
    "from sklearn.preprocessing import StandardScaler"
   ]
  },
  {
   "cell_type": "code",
   "execution_count": 96,
   "id": "128475ff",
   "metadata": {},
   "outputs": [
    {
     "name": "stderr",
     "output_type": "stream",
     "text": [
      "/home/amandeephy/anaconda3/lib/python3.8/site-packages/pandas/core/indexing.py:1597: SettingWithCopyWarning: \n",
      "A value is trying to be set on a copy of a slice from a DataFrame.\n",
      "Try using .loc[row_indexer,col_indexer] = value instead\n",
      "\n",
      "See the caveats in the documentation: https://pandas.pydata.org/pandas-docs/stable/user_guide/indexing.html#returning-a-view-versus-a-copy\n",
      "  self.obj[key] = value\n",
      "/home/amandeephy/anaconda3/lib/python3.8/site-packages/pandas/core/indexing.py:1720: SettingWithCopyWarning: \n",
      "A value is trying to be set on a copy of a slice from a DataFrame.\n",
      "Try using .loc[row_indexer,col_indexer] = value instead\n",
      "\n",
      "See the caveats in the documentation: https://pandas.pydata.org/pandas-docs/stable/user_guide/indexing.html#returning-a-view-versus-a-copy\n",
      "  self._setitem_single_column(loc, value, pi)\n"
     ]
    }
   ],
   "source": [
    "sig_df.loc[:,'target'] = \"SUSY\"\n",
    "tt_df.loc[:,'target']  = \"ttbar\""
   ]
  },
  {
   "cell_type": "code",
   "execution_count": 97,
   "id": "e0ee77b6",
   "metadata": {},
   "outputs": [
    {
     "data": {
      "text/html": [
       "<div>\n",
       "<style scoped>\n",
       "    .dataframe tbody tr th:only-of-type {\n",
       "        vertical-align: middle;\n",
       "    }\n",
       "\n",
       "    .dataframe tbody tr th {\n",
       "        vertical-align: top;\n",
       "    }\n",
       "\n",
       "    .dataframe thead th {\n",
       "        text-align: right;\n",
       "    }\n",
       "</style>\n",
       "<table border=\"1\" class=\"dataframe\">\n",
       "  <thead>\n",
       "    <tr style=\"text-align: right;\">\n",
       "      <th></th>\n",
       "      <th>lepton_eta</th>\n",
       "      <th>sublepton_eta</th>\n",
       "      <th>llbar_deta</th>\n",
       "      <th>target</th>\n",
       "    </tr>\n",
       "  </thead>\n",
       "  <tbody>\n",
       "    <tr>\n",
       "      <th>0</th>\n",
       "      <td>-0.165681</td>\n",
       "      <td>0.085386</td>\n",
       "      <td>0.251068</td>\n",
       "      <td>ttbar</td>\n",
       "    </tr>\n",
       "    <tr>\n",
       "      <th>1</th>\n",
       "      <td>0.798967</td>\n",
       "      <td>-0.105793</td>\n",
       "      <td>0.904760</td>\n",
       "      <td>ttbar</td>\n",
       "    </tr>\n",
       "    <tr>\n",
       "      <th>2</th>\n",
       "      <td>0.130620</td>\n",
       "      <td>-0.433511</td>\n",
       "      <td>0.564131</td>\n",
       "      <td>ttbar</td>\n",
       "    </tr>\n",
       "    <tr>\n",
       "      <th>3</th>\n",
       "      <td>1.092385</td>\n",
       "      <td>-1.381781</td>\n",
       "      <td>2.474166</td>\n",
       "      <td>ttbar</td>\n",
       "    </tr>\n",
       "    <tr>\n",
       "      <th>4</th>\n",
       "      <td>-1.328926</td>\n",
       "      <td>1.569256</td>\n",
       "      <td>2.898182</td>\n",
       "      <td>ttbar</td>\n",
       "    </tr>\n",
       "    <tr>\n",
       "      <th>...</th>\n",
       "      <td>...</td>\n",
       "      <td>...</td>\n",
       "      <td>...</td>\n",
       "      <td>...</td>\n",
       "    </tr>\n",
       "    <tr>\n",
       "      <th>1507872</th>\n",
       "      <td>0.705557</td>\n",
       "      <td>-0.892421</td>\n",
       "      <td>1.597978</td>\n",
       "      <td>ttbar</td>\n",
       "    </tr>\n",
       "    <tr>\n",
       "      <th>1507873</th>\n",
       "      <td>-1.842577</td>\n",
       "      <td>0.418093</td>\n",
       "      <td>2.260670</td>\n",
       "      <td>ttbar</td>\n",
       "    </tr>\n",
       "    <tr>\n",
       "      <th>1507874</th>\n",
       "      <td>2.329492</td>\n",
       "      <td>1.662360</td>\n",
       "      <td>0.667132</td>\n",
       "      <td>ttbar</td>\n",
       "    </tr>\n",
       "    <tr>\n",
       "      <th>1507875</th>\n",
       "      <td>-1.345814</td>\n",
       "      <td>0.527760</td>\n",
       "      <td>1.873574</td>\n",
       "      <td>ttbar</td>\n",
       "    </tr>\n",
       "    <tr>\n",
       "      <th>1507876</th>\n",
       "      <td>0.575803</td>\n",
       "      <td>0.650069</td>\n",
       "      <td>0.074265</td>\n",
       "      <td>ttbar</td>\n",
       "    </tr>\n",
       "  </tbody>\n",
       "</table>\n",
       "<p>1507877 rows × 4 columns</p>\n",
       "</div>"
      ],
      "text/plain": [
       "         lepton_eta  sublepton_eta  llbar_deta target\n",
       "0         -0.165681       0.085386    0.251068  ttbar\n",
       "1          0.798967      -0.105793    0.904760  ttbar\n",
       "2          0.130620      -0.433511    0.564131  ttbar\n",
       "3          1.092385      -1.381781    2.474166  ttbar\n",
       "4         -1.328926       1.569256    2.898182  ttbar\n",
       "...             ...            ...         ...    ...\n",
       "1507872    0.705557      -0.892421    1.597978  ttbar\n",
       "1507873   -1.842577       0.418093    2.260670  ttbar\n",
       "1507874    2.329492       1.662360    0.667132  ttbar\n",
       "1507875   -1.345814       0.527760    1.873574  ttbar\n",
       "1507876    0.575803       0.650069    0.074265  ttbar\n",
       "\n",
       "[1507877 rows x 4 columns]"
      ]
     },
     "execution_count": 97,
     "metadata": {},
     "output_type": "execute_result"
    }
   ],
   "source": [
    "tt_df"
   ]
  },
  {
   "cell_type": "code",
   "execution_count": 107,
   "id": "31adaea4",
   "metadata": {},
   "outputs": [],
   "source": [
    "x_all = [sig_df[:1000], tt_df[:1000]]\n",
    "x_all = pd.concat(x_all)"
   ]
  },
  {
   "cell_type": "code",
   "execution_count": 108,
   "id": "013a5235",
   "metadata": {},
   "outputs": [],
   "source": [
    "# Separating out the features\n",
    "x = x_all.loc[:, selected_columns].values\n",
    "\n",
    "# Separating out the target\n",
    "y = x_all.loc[:,['target']].values"
   ]
  },
  {
   "cell_type": "code",
   "execution_count": 109,
   "id": "87bd7f70",
   "metadata": {},
   "outputs": [],
   "source": [
    "# Standardizing the features\n",
    "x = StandardScaler().fit_transform(x)"
   ]
  },
  {
   "cell_type": "code",
   "execution_count": 110,
   "id": "caec51a1",
   "metadata": {},
   "outputs": [
    {
     "data": {
      "text/plain": [
       "(2000, 3)"
      ]
     },
     "execution_count": 110,
     "metadata": {},
     "output_type": "execute_result"
    }
   ],
   "source": [
    "x.shape"
   ]
  },
  {
   "cell_type": "code",
   "execution_count": 111,
   "id": "fb5e9599",
   "metadata": {},
   "outputs": [],
   "source": [
    "pca = PCA(n_components=2)\n",
    "principalComponents = pca.fit_transform(x)\n",
    "principalDf = pd.DataFrame(data = principalComponents\n",
    "             , columns = ['pc 1', 'pc 2'])"
   ]
  },
  {
   "cell_type": "code",
   "execution_count": 112,
   "id": "634c617c",
   "metadata": {},
   "outputs": [
    {
     "data": {
      "text/html": [
       "<div>\n",
       "<style scoped>\n",
       "    .dataframe tbody tr th:only-of-type {\n",
       "        vertical-align: middle;\n",
       "    }\n",
       "\n",
       "    .dataframe tbody tr th {\n",
       "        vertical-align: top;\n",
       "    }\n",
       "\n",
       "    .dataframe thead th {\n",
       "        text-align: right;\n",
       "    }\n",
       "</style>\n",
       "<table border=\"1\" class=\"dataframe\">\n",
       "  <thead>\n",
       "    <tr style=\"text-align: right;\">\n",
       "      <th></th>\n",
       "      <th>pc 1</th>\n",
       "      <th>pc 2</th>\n",
       "    </tr>\n",
       "  </thead>\n",
       "  <tbody>\n",
       "    <tr>\n",
       "      <th>0</th>\n",
       "      <td>-0.879807</td>\n",
       "      <td>1.039178</td>\n",
       "    </tr>\n",
       "    <tr>\n",
       "      <th>1</th>\n",
       "      <td>0.762543</td>\n",
       "      <td>-0.915503</td>\n",
       "    </tr>\n",
       "    <tr>\n",
       "      <th>2</th>\n",
       "      <td>-0.565997</td>\n",
       "      <td>-0.930626</td>\n",
       "    </tr>\n",
       "    <tr>\n",
       "      <th>3</th>\n",
       "      <td>-1.533155</td>\n",
       "      <td>0.703671</td>\n",
       "    </tr>\n",
       "    <tr>\n",
       "      <th>4</th>\n",
       "      <td>-0.056771</td>\n",
       "      <td>0.372851</td>\n",
       "    </tr>\n",
       "    <tr>\n",
       "      <th>...</th>\n",
       "      <td>...</td>\n",
       "      <td>...</td>\n",
       "    </tr>\n",
       "    <tr>\n",
       "      <th>1995</th>\n",
       "      <td>0.057797</td>\n",
       "      <td>1.057252</td>\n",
       "    </tr>\n",
       "    <tr>\n",
       "      <th>1996</th>\n",
       "      <td>-2.194575</td>\n",
       "      <td>0.547716</td>\n",
       "    </tr>\n",
       "    <tr>\n",
       "      <th>1997</th>\n",
       "      <td>1.842262</td>\n",
       "      <td>-0.124869</td>\n",
       "    </tr>\n",
       "    <tr>\n",
       "      <th>1998</th>\n",
       "      <td>0.254637</td>\n",
       "      <td>-1.281214</td>\n",
       "    </tr>\n",
       "    <tr>\n",
       "      <th>1999</th>\n",
       "      <td>-2.262796</td>\n",
       "      <td>-0.199020</td>\n",
       "    </tr>\n",
       "  </tbody>\n",
       "</table>\n",
       "<p>2000 rows × 2 columns</p>\n",
       "</div>"
      ],
      "text/plain": [
       "          pc 1      pc 2\n",
       "0    -0.879807  1.039178\n",
       "1     0.762543 -0.915503\n",
       "2    -0.565997 -0.930626\n",
       "3    -1.533155  0.703671\n",
       "4    -0.056771  0.372851\n",
       "...        ...       ...\n",
       "1995  0.057797  1.057252\n",
       "1996 -2.194575  0.547716\n",
       "1997  1.842262 -0.124869\n",
       "1998  0.254637 -1.281214\n",
       "1999 -2.262796 -0.199020\n",
       "\n",
       "[2000 rows x 2 columns]"
      ]
     },
     "execution_count": 112,
     "metadata": {},
     "output_type": "execute_result"
    }
   ],
   "source": [
    "principalDf"
   ]
  },
  {
   "cell_type": "code",
   "execution_count": 113,
   "id": "8783c2ed",
   "metadata": {},
   "outputs": [],
   "source": [
    "x_all   = x_all.reset_index()\n",
    "finalDf = pd.concat([principalDf, x_all[['target']]], axis = 1)"
   ]
  },
  {
   "cell_type": "code",
   "execution_count": 114,
   "id": "ee5ec399",
   "metadata": {},
   "outputs": [
    {
     "data": {
      "image/png": "[encoded data removed]",
      "text/plain": [
       "<Figure size 576x576 with 1 Axes>"
      ]
     },
     "metadata": {
      "needs_background": "light"
     },
     "output_type": "display_data"
    }
   ],
   "source": [
    "fig = plt.figure(figsize = (8,8))\n",
    "ax = fig.add_subplot(1,1,1) \n",
    "ax.set_xlabel('Principal Component 1', fontsize = 15)\n",
    "ax.set_ylabel('Principal Component 2', fontsize = 15)\n",
    "ax.set_title('2 component PCA', fontsize = 20)\n",
    "targets = ['SUSY', 'ttbar']\n",
    "colors = ['r', 'b']\n",
    "for target, color in zip(targets,colors):\n",
    "    indicesToKeep = finalDf['target'] == target\n",
    "    ax.scatter(finalDf.loc[indicesToKeep, 'pc 1']\n",
    "               , finalDf.loc[indicesToKeep, 'pc 2']\n",
    "               , c = color\n",
    "               , s = 50)\n",
    "ax.legend(targets)\n",
    "ax.grid()"
   ]
  },
  {
   "cell_type": "code",
   "execution_count": 115,
   "id": "a392de22",
   "metadata": {},
   "outputs": [
    {
     "data": {
      "text/plain": [
       "array([1.36226559, 0.99084356])"
      ]
     },
     "execution_count": 115,
     "metadata": {},
     "output_type": "execute_result"
    }
   ],
   "source": [
    "pca.explained_variance_"
   ]
  },
  {
   "cell_type": "code",
   "execution_count": 27,
   "id": "1ac691ea",
   "metadata": {},
   "outputs": [
    {
     "data": {
      "text/plain": [
       "SVC()"
      ]
     },
     "execution_count": 27,
     "metadata": {},
     "output_type": "execute_result"
    }
   ],
   "source": [
    "from sklearn.svm import SVC\n",
    "svclassifier = SVC(kernel='rbf')\n",
    "svclassifier.fit(data, label)"
   ]
  },
  {
   "cell_type": "code",
   "execution_count": 28,
   "id": "99ae7a0b",
   "metadata": {},
   "outputs": [],
   "source": [
    "y_pred = svclassifier.predict(test_data)"
   ]
  },
  {
   "cell_type": "code",
   "execution_count": 29,
   "id": "fb6a1d06",
   "metadata": {},
   "outputs": [
    {
     "name": "stdout",
     "output_type": "stream",
     "text": [
      "[[7485 2515]\n",
      " [1866 8134]]\n",
      "              precision    recall  f1-score   support\n",
      "\n",
      "         0.0       0.80      0.75      0.77     10000\n",
      "         1.0       0.76      0.81      0.79     10000\n",
      "\n",
      "    accuracy                           0.78     20000\n",
      "   macro avg       0.78      0.78      0.78     20000\n",
      "weighted avg       0.78      0.78      0.78     20000\n",
      "\n"
     ]
    }
   ],
   "source": [
    "from sklearn.metrics import classification_report, confusion_matrix\n",
    "print(confusion_matrix(test_label,y_pred))\n",
    "print(classification_report(test_label,y_pred))"
   ]
  },
  {
   "cell_type": "code",
   "execution_count": null,
   "id": "5cc02e44",
   "metadata": {},
   "outputs": [],
   "source": []
  }
 ],
 "metadata": {
  "kernelspec": {
   "display_name": "Python 3",
   "language": "python",
   "name": "python3"
  },
  "language_info": {
   "codemirror_mode": {
    "name": "ipython",
    "version": 3
   },
   "file_extension": ".py",
   "mimetype": "text/x-python",
   "name": "python",
   "nbconvert_exporter": "python",
   "pygments_lexer": "ipython3",
   "version": "3.8.8"
  }
 },
 "nbformat": 4,
 "nbformat_minor": 5
}
